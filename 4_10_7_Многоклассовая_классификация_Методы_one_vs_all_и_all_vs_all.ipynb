{
  "nbformat": 4,
  "nbformat_minor": 0,
  "metadata": {
    "colab": {
      "provenance": [],
      "authorship_tag": "ABX9TyP9eO8Rw3HzF4iShAOIDdlx"
    },
    "kernelspec": {
      "name": "python3",
      "display_name": "Python 3"
    },
    "language_info": {
      "name": "python"
    }
  },
  "cells": [
    {
      "cell_type": "markdown",
      "source": [
        "https://stepik.org/lesson/1370111/step/7"
      ],
      "metadata": {
        "id": "lNuvCtzIdbUm"
      }
    },
    {
      "cell_type": "code",
      "execution_count": null,
      "metadata": {
        "colab": {
          "base_uri": "https://localhost:8080/"
        },
        "id": "B1Ku30nddSfy",
        "outputId": "dc7ef668-c004-4458-c937-42d49176e820"
      },
      "outputs": [
        {
          "output_type": "execute_result",
          "data": {
            "text/plain": [
              "(0.7171314741035857, 0.8450704225352113)"
            ]
          },
          "metadata": {},
          "execution_count": 3
        }
      ],
      "source": [
        "import numpy as np\n",
        "\n",
        "TP = np.mean([45, 37, 51, 47])\n",
        "TN = np.mean([36, 37, 29, 28])\n",
        "FP = np.mean([18, 21, 15, 17])\n",
        "FN = np.mean([8, 11, 9, 5])\n",
        "\n",
        "precision = TP / (TP + FP)\n",
        "recall = TP / (TP + FN)\n",
        "\n",
        "# precision, recall"
      ]
    }
  ]
}