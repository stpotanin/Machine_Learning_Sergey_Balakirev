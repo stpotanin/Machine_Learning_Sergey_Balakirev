{
  "nbformat": 4,
  "nbformat_minor": 0,
  "metadata": {
    "colab": {
      "provenance": [],
      "authorship_tag": "ABX9TyMWezqCwmV+0flJdgh7dIOl"
    },
    "kernelspec": {
      "name": "python3",
      "display_name": "Python 3"
    },
    "language_info": {
      "name": "python"
    }
  },
  "cells": [
    {
      "cell_type": "markdown",
      "source": [
        "https://stepik.org/lesson/1370107/step/10"
      ],
      "metadata": {
        "id": "JL2q9A5bmddA"
      }
    },
    {
      "cell_type": "code",
      "execution_count": null,
      "metadata": {
        "id": "MyYEJMrpmEsr"
      },
      "outputs": [],
      "source": [
        "# Модель, предсказания для истинных классов:\n",
        "# класс +1: 90 образов с меткой +1 и 20 образов с меткой -1;\n",
        "# класс -1: 45 образов с меткой -1 и 5 образов с меткой +1.\n",
        "\n",
        "TP = 90\n",
        "TN = 45\n",
        "FP = 5\n",
        "FN = 20"
      ]
    }
  ]
}