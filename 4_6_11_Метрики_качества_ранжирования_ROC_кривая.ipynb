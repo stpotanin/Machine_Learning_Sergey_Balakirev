{
  "nbformat": 4,
  "nbformat_minor": 0,
  "metadata": {
    "colab": {
      "provenance": [],
      "authorship_tag": "ABX9TyMO6yyK8vIYrPCorq6Or1IU"
    },
    "kernelspec": {
      "name": "python3",
      "display_name": "Python 3"
    },
    "language_info": {
      "name": "python"
    }
  },
  "cells": [
    {
      "cell_type": "markdown",
      "source": [
        "https://stepik.org/lesson/1370107/step/11"
      ],
      "metadata": {
        "id": "JL2q9A5bmddA"
      }
    },
    {
      "cell_type": "code",
      "execution_count": null,
      "metadata": {
        "id": "MyYEJMrpmEsr",
        "colab": {
          "base_uri": "https://localhost:8080/"
        },
        "outputId": "4c6690f1-4aa2-4089-e349-511cc297cebc"
      },
      "outputs": [
        {
          "output_type": "execute_result",
          "data": {
            "text/plain": [
              "0.6842105263157895"
            ]
          },
          "metadata": {},
          "execution_count": 2
        }
      ],
      "source": [
        "# Модель, предсказания для истинных классов:\n",
        "# класс +1: 65 образов с меткой +1 и 5 образов с меткой -1;\n",
        "# класс -1: 120 образов с меткой -1 и 30 образов с меткой +1.\n",
        "\n",
        "TP = 65\n",
        "TN = 120\n",
        "FP = 30\n",
        "FN = 5\n",
        "\n",
        "precision = TP / (TP + FP)\n",
        "recall = TP / (TP + FN)"
      ]
    }
  ]
}