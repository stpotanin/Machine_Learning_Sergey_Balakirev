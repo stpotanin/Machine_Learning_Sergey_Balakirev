{
  "nbformat": 4,
  "nbformat_minor": 0,
  "metadata": {
    "colab": {
      "provenance": [],
      "authorship_tag": "ABX9TyMp/5ePhnvejofL2mqJNUXn"
    },
    "kernelspec": {
      "name": "python3",
      "display_name": "Python 3"
    },
    "language_info": {
      "name": "python"
    }
  },
  "cells": [
    {
      "cell_type": "markdown",
      "source": [
        "https://github.com/selfedu-rus/machine_learning/blob/main/machine_learning_26.py"
      ],
      "metadata": {
        "id": "t9npCFA3YJL_"
      }
    },
    {
      "cell_type": "code",
      "execution_count": null,
      "metadata": {
        "colab": {
          "base_uri": "https://localhost:8080/"
        },
        "id": "gtmQVeAX_juD",
        "outputId": "3ca712d1-2372-4d88-f2bc-6a906f3688d4"
      },
      "outputs": [
        {
          "output_type": "execute_result",
          "data": {
            "text/plain": [
              "(array([0.        , 1.40189302, 0.98418642]),\n",
              " array([[ 0.40824829,  0.66187026, -0.62869793],\n",
              "        [ 0.40824829,  0.4836216 ,  0.77423735],\n",
              "        [-0.81649658,  0.57274593,  0.07276971]]))"
            ]
          },
          "metadata": {},
          "execution_count": 37
        }
      ],
      "source": [
        "# @title Это код из лекци\n",
        "# вычисление собственных векторов и собственных чисел\n",
        "\n",
        "import numpy as np\n",
        "import matplotlib.pyplot as plt\n",
        "\n",
        "SIZE = 1000\n",
        "np.random.seed(123)\n",
        "x = np.random.normal(size=SIZE)\n",
        "# x = np.random.normal(size=SIZE, loc=1.0)\n",
        "y = np.random.normal(size=SIZE)\n",
        "z = (x + y) / 2\n",
        "\n",
        "F = np.vstack([x, y, z])\n",
        "FF = 1 / SIZE * F @ F.T # матрица Грама\n",
        "# FF = F @ F.T # не нормированная\n",
        "L, W = np.linalg.eig(FF)\n",
        "WW = sorted(zip(L, W.T), key=lambda lx: lx[0], reverse=True)\n",
        "WW = np.array([w[1] for w in WW])\n",
        "\n",
        "# print(sorted(L, reverse=True))\n",
        "L, W"
      ]
    },
    {
      "cell_type": "code",
      "source": [
        "for i in range(len(L)):\n",
        "    plt.arrow(0, 0, W[0, i], W[1, i], head_width=0.05, head_length=0.05, fc='k', ec='k')\n",
        "plt.title('Собственные векторы')\n",
        "plt.show()"
      ],
      "metadata": {
        "colab": {
          "base_uri": "https://localhost:8080/",
          "height": 452
        },
        "id": "rEvnqhaOE8LH",
        "outputId": "2b2e7677-81ca-47f8-b4b0-5e5e2b772aae"
      },
      "execution_count": null,
      "outputs": [
        {
          "output_type": "display_data",
          "data": {
            "text/plain": [
              "<Figure size 640x480 with 1 Axes>"
            ],
            "image/png": "[encoded data removed]"
          },
          "metadata": {}
        }
      ]
    },
    {
      "cell_type": "markdown",
      "source": [
        "Ковариационная матрица и матрица Грама, отличия:\n",
        "- **Ковариационная матрица** описывает связи (ковариацию) между признаками (столбцами матрицы $ X $).\n",
        "- **Матрица Грама** $ G $ описывает связи (скалярные произведения)\n",
        "между наблюдениями (строками матрицы $ X $).\n",
        "\n",
        "### **Пример расчёта**\n",
        "Предположим, у нас есть данные:\n",
        "\n",
        "$$\n",
        "X = \\begin{pmatrix}\n",
        "1 & 2 \\\\\n",
        "3 & 4 \\\\\n",
        "5 & 6\n",
        "\\end{pmatrix}\n",
        "$$\n",
        "\n",
        "#### Ковариационная матрица\n",
        "Сначала делаем центрирование данных (вычитаем среднее значение по каждому признаку):\n",
        "\n",
        "$$\n",
        "\\mu = \\begin{pmatrix} 3 \\\\ 4 \\end{pmatrix}, \\quad\n",
        "X_{\\text{centered}} = X - \\mu = \\begin{pmatrix}\n",
        "-2 & -2 \\\\\n",
        "0 & 0 \\\\\n",
        "2 & 2\n",
        "\\end{pmatrix}\n",
        "$$\n",
        "\n",
        "Вычисляем ковариационную матрицу:\n",
        "\n",
        "$$\n",
        "\\Sigma = X_{\\text{centered}}^T X_{\\text{centered}} = \\begin{pmatrix}\n",
        "-2 & 0 & 2 \\\\\n",
        "-2 & 0 & 2\n",
        "\\end{pmatrix}\n",
        "\\begin{pmatrix}\n",
        "-2 & -2 \\\\\n",
        "0 & 0 \\\\\n",
        "2 & 2\n",
        "\\end{pmatrix} = \\begin{pmatrix}\n",
        "8 & 8 \\\\\n",
        "8 & 8\n",
        "\\end{pmatrix}\n",
        "$$\n",
        "\n",
        "#### Матрица Грама\n",
        "Вычисляем матрицу Грама:\n",
        "\n",
        "$$\n",
        "G = X X^T = \\begin{pmatrix}\n",
        "1 & 2 \\\\\n",
        "3 & 4 \\\\\n",
        "5 & 6\n",
        "\\end{pmatrix}\n",
        "\\begin{pmatrix}\n",
        "1 & 3 & 5 \\\\\n",
        "2 & 4 & 6\n",
        "\\end{pmatrix} = \\begin{pmatrix}\n",
        "5 & 11 & 17 \\\\\n",
        "11 & 25 & 39 \\\\\n",
        "17 & 39 & 61\n",
        "\\end{pmatrix}\n",
        "$$"
      ],
      "metadata": {
        "id": "UdfSJ28uj63M"
      }
    },
    {
      "cell_type": "code",
      "source": [
        "import numpy as np\n",
        "from sympy import Matrix\n",
        "\n",
        "X = np.array([[1, 2],\n",
        "             [3, 4],\n",
        "             [5, 6]])\n",
        "\n",
        "mu = X.mean(axis=0)\n",
        "Xcentered = X - mu\n",
        "\n",
        "print('Ковариционная матрица:\\n')\n",
        "display(Matrix(Xcentered.T @ Xcentered))\n",
        "\n",
        "print('\\nМатрица Грама:\\n')\n",
        "display(Matrix(X @ X.T))"
      ],
      "metadata": {
        "colab": {
          "base_uri": "https://localhost:8080/",
          "height": 205
        },
        "id": "zCpAcRKosyVB",
        "outputId": "b43a127a-d284-4e9d-98be-189f1546d8fc"
      },
      "execution_count": null,
      "outputs": [
        {
          "output_type": "stream",
          "name": "stdout",
          "text": [
            "Ковариционная матрица:\n",
            "\n"
          ]
        },
        {
          "output_type": "display_data",
          "data": {
            "text/plain": [
              "Matrix([\n",
              "[8.0, 8.0],\n",
              "[8.0, 8.0]])"
            ],
            "text/latex": "$\\displaystyle \\left[\\begin{matrix}8.0 & 8.0\\\\8.0 & 8.0\\end{matrix}\\right]$"
          },
          "metadata": {}
        },
        {
          "output_type": "stream",
          "name": "stdout",
          "text": [
            "\n",
            "Матрица Грама:\n",
            "\n"
          ]
        },
        {
          "output_type": "display_data",
          "data": {
            "text/plain": [
              "Matrix([\n",
              "[ 5, 11, 17],\n",
              "[11, 25, 39],\n",
              "[17, 39, 61]])"
            ],
            "text/latex": "$\\displaystyle \\left[\\begin{matrix}5 & 11 & 17\\\\11 & 25 & 39\\\\17 & 39 & 61\\end{matrix}\\right]$"
          },
          "metadata": {}
        }
      ]
    }
  ]
}