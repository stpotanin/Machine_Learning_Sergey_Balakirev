{
  "nbformat": 4,
  "nbformat_minor": 0,
  "metadata": {
    "colab": {
      "provenance": [],
      "authorship_tag": "ABX9TyMa0tB/itC9r/PpYbo3/kjr"
    },
    "kernelspec": {
      "name": "python3",
      "display_name": "Python 3"
    },
    "language_info": {
      "name": "python"
    }
  },
  "cells": [
    {
      "cell_type": "markdown",
      "source": [
        "https://stepik.org/lesson/1370105/step/6"
      ],
      "metadata": {
        "id": "9ofyMoGzg8fM"
      }
    },
    {
      "cell_type": "code",
      "execution_count": null,
      "metadata": {
        "colab": {
          "base_uri": "https://localhost:8080/"
        },
        "id": "lBdAfMsGgv3d",
        "outputId": "12f9076e-b72e-4ccb-8290-c6a7dbf207dd"
      },
      "outputs": [
        {
          "output_type": "execute_result",
          "data": {
            "text/plain": [
              "0.935"
            ]
          },
          "metadata": {},
          "execution_count": 12
        }
      ],
      "source": [
        "import numpy as np\n",
        "from sklearn import svm\n",
        "from sklearn.model_selection import train_test_split\n",
        "from sklearn.metrics import accuracy_score\n",
        "\n",
        "\n",
        "np.random.seed(0)\n",
        "\n",
        "# исходные параметры распределений классов\n",
        "r1 = 0.3\n",
        "D1 = 3.0\n",
        "mean1 = [2, -2]\n",
        "V1 = [[D1, D1 * r1], [D1 * r1, D1]]\n",
        "\n",
        "r2 = 0.5\n",
        "D2 = 5.0\n",
        "mean2 = [-3, -1]\n",
        "V2 = [[D2, D2 * r2], [D2 * r2, D2]]\n",
        "\n",
        "# моделирование обучающей выборки\n",
        "N = 1000\n",
        "x1 = np.random.multivariate_normal(mean1, V1, N).T\n",
        "x2 = np.random.multivariate_normal(mean2, V2, N).T\n",
        "\n",
        "data_x = np.hstack([x1, x2]).T\n",
        "data_y = np.hstack([np.ones(N) * -1, np.ones(N)])\n",
        "\n",
        "x_train, x_test, y_train, y_test = train_test_split(data_x, data_y, random_state=123,test_size=0.4, shuffle=True)\n",
        "\n",
        "clf = svm.SVC(kernel='linear').fit(x_train, y_train) # SVM с линейным ядром + обучение\n",
        "\n",
        "w = [clf.intercept_[0], clf.coef_[0][0], clf.coef_[0][1]]\n",
        "\n",
        "y_pred = clf.predict(x_test)\n",
        "\n",
        "acc = accuracy_score(y_test, y_pred)"
      ]
    }
  ]
}