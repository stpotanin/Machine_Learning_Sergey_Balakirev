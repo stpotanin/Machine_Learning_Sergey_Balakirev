{
  "nbformat": 4,
  "nbformat_minor": 0,
  "metadata": {
    "colab": {
      "provenance": [],
      "authorship_tag": "ABX9TyOZvUWipLIE9+szqChUJb6u"
    },
    "kernelspec": {
      "name": "python3",
      "display_name": "Python 3"
    },
    "language_info": {
      "name": "python"
    }
  },
  "cells": [
    {
      "cell_type": "markdown",
      "source": [
        "https://stepik.org/lesson/1370100/step/8"
      ],
      "metadata": {
        "id": "Ol4JvflgdhSB"
      }
    },
    {
      "cell_type": "code",
      "execution_count": null,
      "metadata": {
        "colab": {
          "base_uri": "https://localhost:8080/"
        },
        "id": "SWWpgEtcddRr",
        "outputId": "20f4eda8-e83b-4553-adee-5c36ace75157"
      },
      "outputs": [
        {
          "output_type": "execute_result",
          "data": {
            "text/plain": [
              "4"
            ]
          },
          "metadata": {},
          "execution_count": 21
        }
      ],
      "source": [
        "import numpy as np\n",
        "\n",
        "np.random.seed(0)\n",
        "\n",
        "# исходные параметры распределений двух классов\n",
        "r1 = 0.7\n",
        "D1 = 1.0\n",
        "mean1 = [1, -2]\n",
        "V1 = [[D1, D1 * r1], [D1 * r1, D1]]\n",
        "\n",
        "r2 = 0.5\n",
        "D2 = 2.0\n",
        "mean2 = [1, 3]\n",
        "V2 = [[D2, D2 * r2], [D2 * r2, D2]]\n",
        "\n",
        "# моделирование обучающей выборки\n",
        "N = 1000\n",
        "x1 = np.random.multivariate_normal(mean1, V1, N).T\n",
        "x2 = np.random.multivariate_normal(mean2, V2, N).T\n",
        "\n",
        "# обучающая выборка для байесовского классификатора (стандартный формат)\n",
        "x_train = np.hstack([x1, x2]).T\n",
        "y_train = np.hstack([np.ones(N) * -1, np.ones(N)])\n",
        "\n",
        "# вычисление оценок математических ожиданий\n",
        "mm1 = np.mean(x1.T, axis=0)\n",
        "mm2 = np.mean(x2.T, axis=0)\n",
        "\n",
        "# вычисление ковариационных матриц\n",
        "a = (x1.T - mm1).T\n",
        "VV1 = np.array([[np.dot(a[0], a[0]) / N, np.dot(a[0], a[1]) / N],\n",
        "                [np.dot(a[1], a[0]) / N, np.dot(a[1], a[1]) / N]])\n",
        "\n",
        "a = (x2.T - mm2).T\n",
        "VV2 = np.array([[np.dot(a[0], a[0]) / N, np.dot(a[0], a[1]) / N],\n",
        "                [np.dot(a[1], a[0]) / N, np.dot(a[1], a[1]) / N]])\n",
        "\n",
        "# параметры для гауссовского байесовского классификатора\n",
        "Py1, L1 = 0.5, 1  # вероятности появления классов\n",
        "Py2, L2 = 1 - Py1, 1  # и величины штрафов неверной классификации\n",
        "\n",
        "# Функции:\n",
        "# вычисление вероятности\n",
        "b = lambda x, v, m, l, py: np.log(l * py) - 0.5 * (x - m) @ np.linalg.inv(v) @ (x - m).T - 0.5 * np.log(\n",
        "    np.linalg.det(v))\n",
        "# argmax от вероятностей\n",
        "am = lambda x: np.argmax([b(x, VV1, mm1, L1, Py1), b(x, VV2, mm2, L2, Py2)]) * 2 - 1 # классификатор\n",
        "\n",
        "# Предсказание по модели\n",
        "predict = [am(x) for x in x_train]\n",
        "\n",
        "# Качество\n",
        "Q = sum(predict != y_train)"
      ]
    }
  ]
}