{
  "nbformat": 4,
  "nbformat_minor": 0,
  "metadata": {
    "colab": {
      "provenance": [],
      "authorship_tag": "ABX9TyNnutG4pxoK+Pl9MUFrQ6fb"
    },
    "kernelspec": {
      "name": "python3",
      "display_name": "Python 3"
    },
    "language_info": {
      "name": "python"
    }
  },
  "cells": [
    {
      "cell_type": "markdown",
      "source": [
        "https://stepik.org/lesson/1370053/step/9"
      ],
      "metadata": {
        "id": "XjEAAe_LOK-N"
      }
    },
    {
      "cell_type": "code",
      "execution_count": null,
      "metadata": {
        "colab": {
          "base_uri": "https://localhost:8080/"
        },
        "id": "KuzZmkkmN_ct",
        "outputId": "e8d199ab-f5db-4efe-cb31-93ae4b71f6b2"
      },
      "outputs": [
        {
          "output_type": "execute_result",
          "data": {
            "text/plain": [
              "[-1, 1, 1, -1, 1, -1, -1]"
            ]
          },
          "metadata": {},
          "execution_count": 11
        }
      ],
      "source": [
        "# w_0 + w_1 * x1 + w_2 * x2 = 0\n",
        "from sympy import symbols, solve, sign\n",
        "\n",
        "w_0, w_1, w_2 = symbols('w_0 w_1 w_2')\n",
        "\n",
        "p = [(2, 0), (7, 7)]\n",
        "# подставляем координаты точек в верхнюю формулу\n",
        "res = solve([w_0 + w_1 * p[0][0] + w_2 * p[0][1],\n",
        "             w_0 + w_1 * p[1][0] + w_2 * p[1][1]])\n",
        "# print(res)\n",
        "\n",
        "w_2 = 5 # чтобы получить конкретный набор, фиксируем одно из значений\n",
        "\n",
        "res = solve([w_0 + w_1 * p[0][0] + w_2 * p[0][1],\n",
        "             w_0 + w_1 * p[1][0] + w_2 * p[1][1]])\n",
        "# print(res)\n",
        "\n",
        "w = res[w_0], res[w_1], w_2\n",
        "# print(w)\n",
        "\n",
        "x_test = [(9, 6), (2, 4), (-3, -1), (3, -2), (-3, 6), (7, -3), (6, 2)]\n",
        "\n",
        "# predict(x) = sign(wT⋅x) = sign(w0​⋅x0​+w1​⋅x1​+w2​⋅x2)\n",
        "predict = [sign(w[0] + w[1] * x1 + w[2] * x2) for x1, x2 in x_test]\n",
        "# print(predict)"
      ]
    }
  ]
}
