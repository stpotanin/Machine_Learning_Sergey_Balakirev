{
  "nbformat": 4,
  "nbformat_minor": 0,
  "metadata": {
    "colab": {
      "provenance": [],
      "authorship_tag": "ABX9TyNIeqEMk1mIhJ5IKjZdhmaG"
    },
    "kernelspec": {
      "name": "python3",
      "display_name": "Python 3"
    },
    "language_info": {
      "name": "python"
    }
  },
  "cells": [
    {
      "cell_type": "markdown",
      "source": [
        "https://stepik.org/lesson/1370054/step/7"
      ],
      "metadata": {
        "id": "NTpdi9-7Lj7H"
      }
    },
    {
      "cell_type": "code",
      "source": [
        "# @title Без numpy\n",
        "\n",
        "w = [-8/3, -2/3, 1]\n",
        "x_test = [(-5, 2), (-4, 6), (3, 2), (3, -3), (5, 5), (5, 2), (-1, 3)]\n",
        "y_test = [1, 1, 1, -1, -1, -1, -1]\n",
        "\n",
        "f = lambda x: w[0] + x[0] * w[1] + x[1] * w[2]\n",
        "# M(x) = y*f(x), где f(x) = w@x.T\n",
        "margin = [y_test[i] * f(x_test[i]) for i in range(len(y_test))]\n",
        "\n",
        "Q = sum([m < 0 for m in margin])\n",
        "print('w =', w)\n",
        "print('margin =', margin)\n",
        "print(Q)"
      ],
      "metadata": {
        "colab": {
          "base_uri": "https://localhost:8080/"
        },
        "id": "vtx0vIXZOM4z",
        "outputId": "c468b1da-1e80-446d-e244-15e9e97607aa"
      },
      "execution_count": null,
      "outputs": [
        {
          "output_type": "stream",
          "name": "stdout",
          "text": [
            "w = [-2.6666666666666665, -0.6666666666666666, 1]\n",
            "margin = [2.6666666666666665, 6.0, -2.666666666666666, 7.666666666666666, 1.0, 4.0, -1.0]\n",
            "2\n"
          ]
        }
      ]
    }
  ]
}
