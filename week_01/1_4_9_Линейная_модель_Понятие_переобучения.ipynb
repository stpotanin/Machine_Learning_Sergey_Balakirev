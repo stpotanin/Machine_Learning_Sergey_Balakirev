{
  "nbformat": 4,
  "nbformat_minor": 0,
  "metadata": {
    "colab": {
      "provenance": [],
      "authorship_tag": "ABX9TyN4tqzVf2ZhHRRjFoO0p15p"
    },
    "kernelspec": {
      "name": "python3",
      "display_name": "Python 3"
    },
    "language_info": {
      "name": "python"
    }
  },
  "cells": [
    {
      "cell_type": "markdown",
      "source": [
        "https://stepik.org/lesson/1370051/step/9"
      ],
      "metadata": {
        "id": "KsWqfFCDNy99"
      }
    },
    {
      "cell_type": "code",
      "source": [
        "import numpy as np\n",
        "\n",
        "np.random.seed(0) # псевдослучайные числа образуют одну и ту же последовательность (при каждом запуске)\n",
        "x = np.arange(-1.0, 1.0, 0.1) # аргумент [-1; 1] с шагом 0,1\n",
        "\n",
        "\n",
        "model_a = lambda xx, ww: (ww[0] + ww[1] * xx + ww[2] * xx ** 2 + ww[3] * xx ** 3) # модель\n",
        "Y = np.sin(x * 5) + 2 * x + np.random.normal(0, 0.1, len(x)) # вектор целевых значений\n",
        "\n",
        "X = np.array([[1, xx, xx**2, xx**3] for xx in x]) # обучающая выборка для поиска коэффициентов w модели a\n",
        "\n",
        "# здесь продолжайте программу\n",
        "w = np.linalg.inv(X.T @ X) @ X.T @ np.array(Y)\n",
        "w\n",
        "# w[0], w[1], w[2], w[3]"
      ],
      "metadata": {
        "colab": {
          "base_uri": "https://localhost:8080/"
        },
        "id": "-1OdC__38TLw",
        "outputId": "40dc7690-80f3-407f-b9cb-d4e856b51a09"
      },
      "execution_count": null,
      "outputs": [
        {
          "output_type": "execute_result",
          "data": {
            "text/plain": [
              "array([ 0.12132278,  4.16006063, -0.35256616, -4.19339165])"
            ]
          },
          "metadata": {},
          "execution_count": 6
        }
      ]
    },
    {
      "cell_type": "code",
      "execution_count": null,
      "metadata": {
        "id": "VRe4PurZNrOe"
      },
      "outputs": [],
      "source": [
        "import numpy as np\n",
        "from sympy import Matrix # для красивого вывода матриц\n",
        "\n",
        "np.random.seed(0) # псевдослучайные числа образуют одну и ту же последовательность (при каждом запуске)\n",
        "x = np.arange(-1.0, 1.0, 0.1) # аргумент [-1; 1] с шагом 0,1\n",
        "\n",
        "model_a = lambda xx, ww: (ww[0] + ww[1] * xx) # модель\n",
        "Y = -5.2 + 0.7 * x + np.random.normal(0, 0.1, len(x)) # вектор целевых значений\n",
        "\n",
        "# здесь продолжайте программу\n",
        "X = np.array([[1, i] for i in x])\n",
        "# display(Matrix(X))# красивая проверочка\n",
        "w = np.linalg.inv(X.T @ X) @ X.T @ np.array(Y)\n"
      ]
    }
  ]
}
