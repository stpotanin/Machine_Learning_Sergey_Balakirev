{
  "nbformat": 4,
  "nbformat_minor": 0,
  "metadata": {
    "colab": {
      "provenance": [],
      "authorship_tag": "ABX9TyO2BhFhm3D0OH6IRUF4A7Ld"
    },
    "kernelspec": {
      "name": "python3",
      "display_name": "Python 3"
    },
    "language_info": {
      "name": "python"
    }
  },
  "cells": [
    {
      "cell_type": "markdown",
      "source": [
        "https://stepik.org/lesson/1370054/step/6"
      ],
      "metadata": {
        "id": "NTpdi9-7Lj7H"
      }
    },
    {
      "cell_type": "code",
      "source": [
        "# @title Без numpy\n",
        "find_w = lambda p1, p2: (p1[0] * p2[1] - p2[0] * p1[1], p1[1] - p2[1], p2[0] - p1[0])\n",
        "\n",
        "w = find_w((-4, 0), (5, 4))\n",
        "\n",
        "x_test = [(-5, 2), (-4, 6), (3, 2), (3, -3), (5, 6), (9, 2)]\n",
        "y_test = [1, 1, 1, -1, -1, -1]\n",
        "\n",
        "f = lambda x: w[0] + x[0] * w[1] + x[1] * w[2]\n",
        "\n",
        "margin = [y_test[i] * f(x_test[i]) for i in range(len(y_test))]\n",
        "\n",
        "print('w =', w)\n",
        "print('margin =', margin)"
      ],
      "metadata": {
        "colab": {
          "base_uri": "https://localhost:8080/"
        },
        "id": "vtx0vIXZOM4z",
        "outputId": "319b2308-23e5-4340-ab9b-e558159a2996"
      },
      "execution_count": null,
      "outputs": [
        {
          "output_type": "stream",
          "name": "stdout",
          "text": [
            "w = (-16, -4, 9)\n",
            "margin = [22, 54, -10, 55, -18, 34]\n"
          ]
        }
      ]
    },
    {
      "cell_type": "code",
      "source": [
        "# @title numpy\n",
        "import numpy as np\n",
        "\n",
        "find_w = lambda p1, p2: (p1[0] * p2[1] - p2[0] * p1[1], p1[1] - p2[1], p2[0] - p1[0])\n",
        "\n",
        "w = np.array(find_w((-4, 0), (5, 4)))\n",
        "\n",
        "x_test = np.array([(-5, 2), (-4, 6), (3, 2), (3, -3), (5, 6), (9, 2)])\n",
        "y_test = np.array([1, 1, 1, -1, -1, -1])\n",
        "\n",
        "# Добавляем колонку из единиц в x_test\n",
        "x_test = np.c_[np.ones(x_test.shape[0]), x_test]\n",
        "\n",
        "# M(x) = y*f(x), где f(x) = w@x.T\n",
        "margin = w @ x_test.T * y_test # матричное умножение идёт справа налево\n",
        "\n",
        "print('w =', w)\n",
        "print('margin =', margin)"
      ],
      "metadata": {
        "colab": {
          "base_uri": "https://localhost:8080/"
        },
        "id": "Bm9gMDDvTDHi",
        "outputId": "8fb92c40-75cf-4b7d-9570-0725ad05d5dd"
      },
      "execution_count": null,
      "outputs": [
        {
          "output_type": "stream",
          "name": "stdout",
          "text": [
            "w = [-16  -4   9]\n",
            "margin = [ 22.  54. -10.  55. -18.  34.]\n"
          ]
        }
      ]
    },
    {
      "cell_type": "code",
      "source": [
        "# @title С выбором из двух значений: -1, 1\n",
        "find_w = lambda p1, p2: (p1[0] * p2[1] - p2[0] * p1[1], p1[1] - p2[1], p2[0] - p1[0])\n",
        "\n",
        "w = find_w((-4, 0), (5, 4))\n",
        "\n",
        "x_test = [(-5, 2), (-4, 6), (3, 2), (3, -3), (5, 6), (9, 2)]\n",
        "y_test = [1, 1, 1, -1, -1, -1]\n",
        "\n",
        "my_sign = lambda x: (x > 0) - (x < 0)                   # вернёт знак числа\n",
        "a = lambda x: my_sign(w[0] + x[0] * w[1] + x[1] * w[2]) # решающее правило a(x)\n",
        "\n",
        "gap = [y_test[i] * a(x_test[i]) for i in range(len(y_test))]\n",
        "gap"
      ],
      "metadata": {
        "colab": {
          "base_uri": "https://localhost:8080/"
        },
        "id": "MRr1ukfKcr99",
        "outputId": "efc4ae4f-7d64-4e7c-a1d0-7e38201744ae"
      },
      "execution_count": null,
      "outputs": [
        {
          "output_type": "execute_result",
          "data": {
            "text/plain": [
              "[1, 1, -1, 1, -1, 1]"
            ]
          },
          "metadata": {},
          "execution_count": 43
        }
      ]
    }
  ]
}
