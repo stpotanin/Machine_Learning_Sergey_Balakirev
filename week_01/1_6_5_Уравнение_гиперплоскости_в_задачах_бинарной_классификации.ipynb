{
  "nbformat": 4,
  "nbformat_minor": 0,
  "metadata": {
    "colab": {
      "provenance": [],
      "authorship_tag": "ABX9TyNUb24vCtKBVEPbwz2etaky"
    },
    "kernelspec": {
      "name": "python3",
      "display_name": "Python 3"
    },
    "language_info": {
      "name": "python"
    }
  },
  "cells": [
    {
      "cell_type": "markdown",
      "source": [
        "https://stepik.org/lesson/1370053/step/5"
      ],
      "metadata": {
        "id": "vcwAO7yR_TL3"
      }
    },
    {
      "cell_type": "code",
      "execution_count": null,
      "metadata": {
        "id": "yi3vuRTJ-8Ib"
      },
      "outputs": [],
      "source": [
        "# @title $w_1​⋅x_1​+w_2​⋅x_2​+w_0​=0$\n",
        "from sympy import symbols, solve\n",
        "\n",
        "w0, w1, w2 = symbols('w0 w1 w2')\n",
        "x = [(-3, 1), (3, 5)]\n",
        "\n",
        "# display(solve([w1 * x[0][0] + w2 * x[0][1] + w0,\n",
        "#                w1 * x[1][0] + w2 * x[1][1] + w0]))\n",
        "# вернёт {w0: -3*w2, w1: -2*w2/3}\n",
        "\n",
        "# Зафиксируем одну из координат, например w2\n",
        "w2 = 3\n",
        "w = [y for x, y in solve([w1 * x[0][0] + w2 * x[0][1] + w0,\n",
        "                       w1 * x[1][0] + w2 * x[1][1] + w0]).items()]\n",
        "w.append(w2)\n",
        "# w"
      ]
    },
    {
      "cell_type": "code",
      "source": [
        "# @title Используем $\\langle \\vec{w}, \\vec{x} \\rangle = 0$\n",
        "import numpy as np\n",
        "from sympy import Matrix\n",
        "\n",
        "A = np.array([-3, 1])  # левая  точка на рисунке\n",
        "B = np.array([3, 5])  # правая  точка на рисунке\n",
        "\n",
        "X = B - A # вектор, заданный двумя точками\n",
        "display(Matrix(X)) # будет видно, что это столбец, а не строка\n",
        "\n",
        "# Находим перпендикулярный вектор w (один из возможных)\n",
        "W = np.array([[-X[1], X[0]]])  # Перпендикулярный вектор\n",
        "display(Matrix(W)) # видно, что это строка\n",
        "\n",
        "# Проверяем условие скалярного произведения\n",
        "dot_product = np.dot(W, X)\n",
        "print(\"Скалярное произведение <w, x> =\", dot_product)"
      ],
      "metadata": {
        "colab": {
          "base_uri": "https://localhost:8080/",
          "height": 97
        },
        "id": "dN9mYmRVI-nc",
        "outputId": "bec1ed31-49fd-4880-d542-4bdc0d7d1edc"
      },
      "execution_count": null,
      "outputs": [
        {
          "output_type": "display_data",
          "data": {
            "text/plain": [
              "Matrix([\n",
              "[6],\n",
              "[4]])"
            ],
            "text/latex": "$\\displaystyle \\left[\\begin{matrix}6\\\\4\\end{matrix}\\right]$"
          },
          "metadata": {}
        },
        {
          "output_type": "display_data",
          "data": {
            "text/plain": [
              "Matrix([[-4, 6]])"
            ],
            "text/latex": "$\\displaystyle \\left[\\begin{matrix}-4 & 6\\end{matrix}\\right]$"
          },
          "metadata": {}
        },
        {
          "output_type": "stream",
          "name": "stdout",
          "text": [
            "Скалярное произведение <w, x> = [0]\n"
          ]
        }
      ]
    },
    {
      "cell_type": "code",
      "source": [
        "# @title Используем $\\langle \\vec{w}, \\vec{x} \\rangle = 0$\n",
        "import numpy as np\n",
        "from sympy import Matrix\n",
        "\n",
        "# Определяем точки A и B\n",
        "A = np.array([-3, 1])  # левая точка\n",
        "B = np.array([3, 5])   # правая точка\n",
        "\n",
        "# Находим вектор X\n",
        "x = B - A  # Вектор от A к B\n",
        "display(Matrix(x))  # видим, что X это столбец\n",
        "\n",
        "# Находим перпендикулярный вектор W (как столбец)\n",
        "w = np.array([-x[1], x[0]])  # Перпендикулярный вектор как столбец\n",
        "display(Matrix(w))  # видим, что W это столбец\n",
        "\n",
        "# Проверка перпендикулярности\n",
        "dot_product = w.T @ x  # транспонируем для корректного умножения\n",
        "print(\"Скалярное произведение <w, x> =\", dot_product)\n",
        "\n",
        "# Находим интерсепт W_0 (подставив веса в любую из точек)\n",
        "w_0 = - (w[0] * A[0] + w[1] * A[1])\n",
        "\n",
        "# и добавляем w_0 в вектор весов:\n",
        "w = [w_0, w[0], w[1]]\n",
        "w"
      ],
      "metadata": {
        "colab": {
          "base_uri": "https://localhost:8080/",
          "height": 133
        },
        "id": "h5APK0otOD8h",
        "outputId": "344409b6-3ea5-4b38-bf6f-8a7a1c279b41"
      },
      "execution_count": null,
      "outputs": [
        {
          "output_type": "display_data",
          "data": {
            "text/plain": [
              "Matrix([\n",
              "[6],\n",
              "[4]])"
            ],
            "text/latex": "$\\displaystyle \\left[\\begin{matrix}6\\\\4\\end{matrix}\\right]$"
          },
          "metadata": {}
        },
        {
          "output_type": "display_data",
          "data": {
            "text/plain": [
              "Matrix([\n",
              "[-4],\n",
              "[ 6]])"
            ],
            "text/latex": "$\\displaystyle \\left[\\begin{matrix}-4\\\\6\\end{matrix}\\right]$"
          },
          "metadata": {}
        },
        {
          "output_type": "stream",
          "name": "stdout",
          "text": [
            "Скалярное произведение <w, x> = 0\n"
          ]
        },
        {
          "output_type": "execute_result",
          "data": {
            "text/plain": [
              "[-18, -4, 6]"
            ]
          },
          "metadata": {},
          "execution_count": 11
        }
      ]
    },
    {
      "cell_type": "code",
      "source": [
        "# @title Используем $\\langle \\vec{w}, \\vec{x} \\rangle = 0$\n",
        "import numpy as np\n",
        "from sympy import Matrix\n",
        "from numpy.linalg import inv\n",
        "\n",
        "# Из рисунка определяем признаки X и соответствующие им значения y\n",
        "X = np.array([[1, -3, 3], [1, 1, 5]]) # столбец из единиц для получения интерсепта\n",
        "y = np.array([0, 0])\n",
        "display(Matrix(X))  # X это матрица признаков\n",
        "display(Matrix(y))  # y это столбец\n",
        "\n",
        "# Находим w с использованием формулы для линейной регрессии\n",
        "w = (X.T @ X).T @ X.T @ y\n",
        "w"
      ],
      "metadata": {
        "colab": {
          "base_uri": "https://localhost:8080/",
          "height": 116
        },
        "id": "EDxeWf9GUnO9",
        "outputId": "846ccec6-cab6-4de2-bb6f-2e6e42fafab8"
      },
      "execution_count": null,
      "outputs": [
        {
          "output_type": "display_data",
          "data": {
            "text/plain": [
              "Matrix([\n",
              "[1, -3, 3],\n",
              "[1,  1, 5]])"
            ],
            "text/latex": "$\\displaystyle \\left[\\begin{matrix}1 & -3 & 3\\\\1 & 1 & 5\\end{matrix}\\right]$"
          },
          "metadata": {}
        },
        {
          "output_type": "display_data",
          "data": {
            "text/plain": [
              "Matrix([\n",
              "[0],\n",
              "[0]])"
            ],
            "text/latex": "$\\displaystyle \\left[\\begin{matrix}0\\\\0\\end{matrix}\\right]$"
          },
          "metadata": {}
        },
        {
          "output_type": "execute_result",
          "data": {
            "text/plain": [
              "array([0, 0, 0])"
            ]
          },
          "metadata": {},
          "execution_count": 12
        }
      ]
    },
    {
      "cell_type": "code",
      "source": [
        "# Vadim Kopeykin https://stepik.org/lesson/190156/step/1?discussion=8776693&thread=solutions&unit=164661\n",
        "import numpy as np\n",
        "from numpy.linalg import inv\n",
        "\n",
        "X = np.array([[-2, 1], [-1, 1], [0, 1], [1, 1], [2, 1]])\n",
        "y = np.array([-1, -1, 1, 1, 1])\n",
        "\n",
        "w = inv(X.T @ X) @ X.T @ y\n",
        "print(w.round(2))\n",
        "print((-w[1] / w[0]).round(2))\n"
      ],
      "metadata": {
        "colab": {
          "base_uri": "https://localhost:8080/"
        },
        "id": "eUo3ztnQiaLP",
        "outputId": "bcfe97b2-e199-4a5c-e43b-6c1e0b5b50fe"
      },
      "execution_count": null,
      "outputs": [
        {
          "output_type": "stream",
          "name": "stdout",
          "text": [
            "[0.6 0.2]\n",
            "-0.33\n"
          ]
        }
      ]
    },
    {
      "cell_type": "code",
      "source": [
        "import numpy as np\n",
        "from sympy import Matrix\n",
        "\n",
        "# Определяем точки A и B\n",
        "A = np.array([-3, 3])  # Точка A (x1, y1)\n",
        "B = np.array([1, 5])    # Точка B (x2, y2)\n",
        "\n",
        "# Формируем матрицу X с добавленным столбцом единиц для интерсепта\n",
        "X = np.array([[A[0], A[1], 1], [B[0], B[1], 1]])  # Столбцы: x1, x2 и единицы\n",
        "\n",
        "# Вектор значений y (поскольку обе точки лежат на прямой, значения равны 0)\n",
        "y = np.array([0, 0])\n",
        "\n",
        "# Отображаем матрицы\n",
        "print(\"Матрица X:\")\n",
        "display(Matrix(X))  # X это матрица признаков с интерсептом\n",
        "print(\"Вектор y:\")\n",
        "display(Matrix(y))  # y это вектор меток\n",
        "\n",
        "# Находим w с использованием формулы для линейной регрессии\n",
        "# Здесь мы используем псевдообратную матрицу для решения системы\n",
        "w = np.linalg.pinv(X) @ y\n",
        "\n",
        "print(\"Вектор w (коэффициенты):\", w)\n"
      ],
      "metadata": {
        "colab": {
          "base_uri": "https://localhost:8080/",
          "height": 150
        },
        "id": "eVQG1a2ZeVQW",
        "outputId": "d7b37a24-3c90-4631-92e3-f2b4ee6f9aad"
      },
      "execution_count": null,
      "outputs": [
        {
          "output_type": "stream",
          "name": "stdout",
          "text": [
            "Матрица X:\n"
          ]
        },
        {
          "output_type": "display_data",
          "data": {
            "text/plain": [
              "Matrix([\n",
              "[-3, 3, 1],\n",
              "[ 1, 5, 1]])"
            ],
            "text/latex": "$\\displaystyle \\left[\\begin{matrix}-3 & 3 & 1\\\\1 & 5 & 1\\end{matrix}\\right]$"
          },
          "metadata": {}
        },
        {
          "output_type": "stream",
          "name": "stdout",
          "text": [
            "Вектор y:\n"
          ]
        },
        {
          "output_type": "display_data",
          "data": {
            "text/plain": [
              "Matrix([\n",
              "[0],\n",
              "[0]])"
            ],
            "text/latex": "$\\displaystyle \\left[\\begin{matrix}0\\\\0\\end{matrix}\\right]$"
          },
          "metadata": {}
        },
        {
          "output_type": "stream",
          "name": "stdout",
          "text": [
            "Вектор w (коэффициенты): [0. 0. 0.]\n"
          ]
        }
      ]
    }
  ]
}
