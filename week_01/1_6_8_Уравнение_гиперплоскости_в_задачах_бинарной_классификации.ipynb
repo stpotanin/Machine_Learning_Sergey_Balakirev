{
  "nbformat": 4,
  "nbformat_minor": 0,
  "metadata": {
    "colab": {
      "provenance": [],
      "authorship_tag": "ABX9TyO/SXsYu8oqJFlqEfP2995j"
    },
    "kernelspec": {
      "name": "python3",
      "display_name": "Python 3"
    },
    "language_info": {
      "name": "python"
    }
  },
  "cells": [
    {
      "cell_type": "markdown",
      "source": [
        "https://stepik.org/lesson/1370053/step/8"
      ],
      "metadata": {
        "id": "XjEAAe_LOK-N"
      }
    },
    {
      "cell_type": "code",
      "execution_count": null,
      "metadata": {
        "colab": {
          "base_uri": "https://localhost:8080/"
        },
        "id": "KuzZmkkmN_ct",
        "outputId": "5b7f96d7-d6b3-4139-cc70-ba86ee8b2b3d"
      },
      "outputs": [
        {
          "output_type": "stream",
          "name": "stdout",
          "text": [
            "{w_0: -33, w_1: 9}\n"
          ]
        },
        {
          "output_type": "execute_result",
          "data": {
            "text/plain": [
              "[-1, 1, 1, -1, 1, -1, -1]"
            ]
          },
          "metadata": {},
          "execution_count": 23
        }
      ],
      "source": [
        "# w_0 + w_1 * x1 + w_2 * x2 = 0\n",
        "from sympy import symbols, solve, sign\n",
        "\n",
        "w_0, w_1, w_2 = symbols('w_0 w_1 w_2')\n",
        "\n",
        "p = [(-5, 6), (8, -3)]\n",
        "# подставляем координаты точек в врхнюю формулу\n",
        "\n",
        "res = solve([w_0 + w_1 * p[0][0] + w_2 * p[0][1],\n",
        "             w_0 + w_1 * p[1][0] + w_2 * p[1][1]])\n",
        "# print(res)\n",
        "\n",
        "w_2 = 13 # чтобы получить конкретный набор, фиксируем одно из значений\n",
        "\n",
        "res = solve([w_0 + w_1 * p[0][0] + w_2 * p[0][1],\n",
        "             w_0 + w_1 * p[1][0] + w_2 * p[1][1]])\n",
        "# print(res)\n",
        "\n",
        "w = res[w_0], res[w_1], w_2\n",
        "\n",
        "x_test = [(5, -3), (-3, 8), (3, 6), (0, 0), (5, 3), (-3, -1), (-3, 3)]\n",
        "\n",
        "# predict(x) = sign(wT⋅x) = sign(w0​⋅x0​+w1​⋅x1​+w2​⋅x2)\n",
        "predict = [sign(w[0] + w[1] * x1 + w[2] * x2) for x1, x2 in x_test]\n",
        "# print(predict)"
      ]
    }
  ]
}
