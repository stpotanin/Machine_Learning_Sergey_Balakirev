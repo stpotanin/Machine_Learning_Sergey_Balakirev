{
  "nbformat": 4,
  "nbformat_minor": 0,
  "metadata": {
    "colab": {
      "provenance": [],
      "authorship_tag": "ABX9TyOobCmkX1WJdp02nXk0jPNh"
    },
    "kernelspec": {
      "name": "python3",
      "display_name": "Python 3"
    },
    "language_info": {
      "name": "python"
    }
  },
  "cells": [
    {
      "cell_type": "markdown",
      "source": [
        "https://stepik.org/lesson/1370055/step/7"
      ],
      "metadata": {
        "id": "3_HZgG_njJu8"
      }
    },
    {
      "cell_type": "code",
      "execution_count": null,
      "metadata": {
        "colab": {
          "base_uri": "https://localhost:8080/"
        },
        "id": "FAAXQnN6jEog",
        "outputId": "75a70e50-cd50-47df-b852-48028362e8cd"
      },
      "outputs": [
        {
          "output_type": "execute_result",
          "data": {
            "text/plain": [
              "0.9250026294525024"
            ]
          },
          "metadata": {},
          "execution_count": 9
        }
      ],
      "source": [
        "import numpy as np\n",
        "\n",
        "\n",
        "f = lambda x:.5 * x**2 - 0.1 * 1/np.exp(-x) + 0.5 * np.cos(2*x) - 2\n",
        "a = lambda x, w: w[0] + w[1] * x + w[2] * x**2 + w[3] * np.cos(2*x) + w[4] * np.sin(2*x)\n",
        "\n",
        "x = np.arange(-5.0, 5.0, 0.1)\n",
        "y = f(x)\n",
        "w = -1.59, -0.69, 0.278, 0.497, -0.106\n",
        "\n",
        "Q = np.mean([abs(a(xi, w) - yi) for xi, yi in zip(x, y)])\n",
        "Q"
      ]
    }
  ]
}
