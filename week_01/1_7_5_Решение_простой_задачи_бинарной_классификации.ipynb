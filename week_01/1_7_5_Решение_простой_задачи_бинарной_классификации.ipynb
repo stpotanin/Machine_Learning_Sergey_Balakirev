{
  "nbformat": 4,
  "nbformat_minor": 0,
  "metadata": {
    "colab": {
      "provenance": [],
      "authorship_tag": "ABX9TyNRdPXK3z4O8TgwcU74vQTM"
    },
    "kernelspec": {
      "name": "python3",
      "display_name": "Python 3"
    },
    "language_info": {
      "name": "python"
    }
  },
  "cells": [
    {
      "cell_type": "markdown",
      "source": [
        "https://stepik.org/lesson/1370054/step/5"
      ],
      "metadata": {
        "id": "NTpdi9-7Lj7H"
      }
    },
    {
      "cell_type": "code",
      "source": [
        "# @title Без numpy c нахождением w\n",
        "find_w = lambda p1, p2: (p1[0] * p2[1] - p2[0] * p1[1], p1[1] - p2[1], p2[0] - p1[0])\n",
        "\n",
        "# w = find_w((-3, 6), (4, -3))\n",
        "w = [-x / 7 for x in find_w((-3, 6), (4, -3))] # разворачиваем w и нормируем на 7\n",
        "\n",
        "x_test = [(-8, -4), (-2, 2), (4, 8), (6, 3)]\n",
        "y_test = [1, 1, -1, -1]\n",
        "\n",
        "f = lambda x: w[0] + x[0] * w[1] + x[1] * w[2]\n",
        "margin = [y_test[i] * f(x_test[i]) for i in range(len(y_test))]\n",
        "print('w =', w)\n",
        "print('margin =', margin)"
      ],
      "metadata": {
        "colab": {
          "base_uri": "https://localhost:8080/"
        },
        "id": "cUbSiDUhdWHc",
        "outputId": "88292322-0caf-4db5-915c-8840f33e17d4"
      },
      "execution_count": null,
      "outputs": [
        {
          "output_type": "stream",
          "name": "stdout",
          "text": [
            "w = [2.142857142857143, -1.2857142857142858, -1.0]\n",
            "margin = [16.42857142857143, 2.7142857142857144, 11.0, 8.571428571428573]\n"
          ]
        }
      ]
    },
    {
      "cell_type": "code",
      "source": [
        "# @title numpy\n",
        "import numpy as np\n",
        "\n",
        "w = np.array([15/7, -9/7, -1])\n",
        "x_test = np.array([(-8, -4), (-2, 2), (4, 8), (6, 3)])\n",
        "y_test = np.array([1, 1, -1, -1])\n",
        "\n",
        "# Добавляем колонку из единиц в x_test\n",
        "# x_test = np.c_[np.ones(x_test.shape[0]), x_test] # вариант 1\n",
        "x_test = np.array([(1, *xi) for xi in x_test]) # вариант 2\n",
        "\n",
        "# M(x) = y*f(x), где f(x) = w@x.T\n",
        "margin = w @ x_test.T * y_test # матричное умножение идёт справа налево\n",
        "# margin = x_test @ w * y_test # вариант 2\n",
        "\n",
        "print('w =', w)\n",
        "print('margin =', margin)"
      ],
      "metadata": {
        "colab": {
          "base_uri": "https://localhost:8080/"
        },
        "id": "Bm9gMDDvTDHi",
        "outputId": "bda55a06-118c-43d6-de7a-fe599f899d1c"
      },
      "execution_count": null,
      "outputs": [
        {
          "output_type": "stream",
          "name": "stdout",
          "text": [
            "w = [ 2.14285714 -1.28571429 -1.        ]\n",
            "margin = [16.42857143  2.71428571 11.          8.57142857]\n"
          ]
        }
      ]
    },
    {
      "cell_type": "code",
      "source": [
        "# @title С выбором из двух значений: -1, 1\n",
        "w = [15/7, -9/7, -1]\n",
        "x_test = [(-8, -4), (-2, 2), (4, 8), (6, 3)]\n",
        "y_test = [1, 1, -1, -1]\n",
        "\n",
        "my_sign = lambda x: (x > 0) - (x < 0)                   # вернёт знак числа\n",
        "a = lambda x: my_sign(w[0] + x[0] * w[1] + x[1] * w[2]) # решающее правило a(x)\n",
        "\n",
        "gap = [y_test[i] * a(x_test[i]) for i in range(len(y_test))]\n",
        "gap"
      ],
      "metadata": {
        "colab": {
          "base_uri": "https://localhost:8080/"
        },
        "id": "MRr1ukfKcr99",
        "outputId": "8f33f0e4-f26c-4f61-dddd-8624485fa429"
      },
      "execution_count": null,
      "outputs": [
        {
          "output_type": "execute_result",
          "data": {
            "text/plain": [
              "[1, 1, 1, 1]"
            ]
          },
          "metadata": {},
          "execution_count": 36
        }
      ]
    }
  ]
}
