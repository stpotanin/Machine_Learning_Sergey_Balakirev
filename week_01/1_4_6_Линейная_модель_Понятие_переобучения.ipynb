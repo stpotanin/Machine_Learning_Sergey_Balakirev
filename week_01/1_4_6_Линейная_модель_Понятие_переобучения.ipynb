{
  "nbformat": 4,
  "nbformat_minor": 0,
  "metadata": {
    "colab": {
      "provenance": [],
      "authorship_tag": "ABX9TyMYwn8hKProM5rclISNQ8H9"
    },
    "kernelspec": {
      "name": "python3",
      "display_name": "Python 3"
    },
    "language_info": {
      "name": "python"
    }
  },
  "cells": [
    {
      "cell_type": "markdown",
      "source": [
        "https://stepik.org/lesson/1370051/step/6"
      ],
      "metadata": {
        "id": "KsWqfFCDNy99"
      }
    },
    {
      "cell_type": "code",
      "execution_count": null,
      "metadata": {
        "colab": {
          "base_uri": "https://localhost:8080/"
        },
        "id": "VRe4PurZNrOe",
        "outputId": "41149d1e-bf32-49ea-fd41-8b86e6d82c85"
      },
      "outputs": [
        {
          "output_type": "execute_result",
          "data": {
            "text/plain": [
              "0.0104695267281965"
            ]
          },
          "metadata": {},
          "execution_count": 2
        }
      ],
      "source": [
        "import numpy as np\n",
        "\n",
        "np.random.seed(0) # псевдослучайные числа образуют одну и ту же последовательность (при каждом запуске)\n",
        "x = np.arange(-1.0, 1.0, 0.1) # аргумент [-1; 1] с шагом 0,1\n",
        "\n",
        "size_train = len(x)  # размер выборки\n",
        "w = [0.5, -0.3]  # коэффициенты модели\n",
        "model_a = lambda m_x, m_w: (m_w[1] * m_x + m_w[0])  # модель\n",
        "loss = lambda ax, y: (ax - y) ** 2 # квадратическая функция потерь\n",
        "\n",
        "y = model_a(x, w) + np.random.normal(0, 0.1, len(x)) # целевые значения\n",
        "Q = sum(loss(model_a(x, w), y)) / size_train\n",
        "Q"
      ]
    }
  ]
}
