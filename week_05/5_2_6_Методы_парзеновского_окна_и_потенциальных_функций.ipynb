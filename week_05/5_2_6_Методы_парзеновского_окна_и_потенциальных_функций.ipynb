{
  "nbformat": 4,
  "nbformat_minor": 0,
  "metadata": {
    "colab": {
      "provenance": [],
      "authorship_tag": "ABX9TyPhM43V9c+OItJ10E/CIEdD"
    },
    "kernelspec": {
      "name": "python3",
      "display_name": "Python 3"
    },
    "language_info": {
      "name": "python"
    }
  },
  "cells": [
    {
      "cell_type": "markdown",
      "source": [
        "https://stepik.org/lesson/1370113/step/6"
      ],
      "metadata": {
        "id": "EAlOIgDQSKUJ"
      }
    },
    {
      "cell_type": "code",
      "execution_count": null,
      "metadata": {
        "id": "AGa_OxZZZs8z",
        "colab": {
          "base_uri": "https://localhost:8080/"
        },
        "outputId": "5959bf3e-b063-4a83-9b3f-7e5280faba92"
      },
      "outputs": [
        {
          "output_type": "stream",
          "name": "stdout",
          "text": [
            "Q = 0.15925925925925927\n",
            "[1 2 1 1 0 2 2 1 0 1 1 0 0 1 2 2 2 0 0 2 2 1 0 2 1 0 2 2 0 0 0 1 0 0 1 0 0\n",
            " 1 0 0 1 2 2 0 2 0 0 2 0 2 1 0 2 0 0 2 1 2 1 2 2 0 2 2 0 1 2 0 0 0 2 1 1 1\n",
            " 0 0 2 2 2 1 0 2 0 2 2 2 0 0 0 0 1 2 2 0 2 2 1 2 1 0 1 0 1 0 1 2 0 2 1 1 2\n",
            " 1 2 0 1 2 0 1 1 0 2 0 0 0 1 0 2 2 1 2 0 2 2 0 1 2 1 2 1 2 0 2 0 2 0 2 0 0\n",
            " 2 2 1 0 2 2 1 1 0 0 1 2 1 0 0 0 2 1 0 2 2 2 2 1 2 2 0 1 0 0 2 0 0 1 0 1 0\n",
            " 2 0 1 0 2 0 2 0 2 1 0 1 1 0 2 1 0 0 1 2 1 2 0 1 2 2 1 0 0 0 1 1 0 1 1 1 0\n",
            " 2 0 0 2 2 0 2 1 1 2 1 2 0 0 2 0 0 1 2 2 2 0 0 2 2 0 1 2 1 1 2 2 2 0 0 2 2\n",
            " 0 0 2 0 0 0 0 2 2 2 2]\n",
            "[1. 2. 1. 1. 0. 2. 2. 0. 1. 1. 1. 0. 0. 0. 1. 2. 2. 0. 0. 2. 2. 1. 1. 2.\n",
            " 1. 0. 2. 2. 0. 0. 1. 1. 0. 0. 0. 0. 0. 1. 0. 0. 0. 2. 2. 0. 2. 0. 0. 2.\n",
            " 0. 2. 1. 1. 2. 0. 1. 2. 0. 2. 1. 2. 2. 1. 2. 2. 0. 1. 2. 1. 0. 0. 2. 1.\n",
            " 1. 1. 0. 0. 0. 2. 2. 0. 1. 2. 1. 2. 2. 2. 0. 0. 1. 0. 1. 2. 2. 0. 2. 1.\n",
            " 1. 2. 0. 0. 0. 0. 1. 0. 1. 2. 0. 2. 1. 1. 2. 1. 2. 0. 1. 2. 0. 1. 1. 0.\n",
            " 2. 0. 1. 0. 1. 0. 2. 2. 1. 2. 0. 2. 2. 0. 0. 1. 0. 2. 0. 2. 0. 2. 0. 2.\n",
            " 1. 2. 0. 0. 2. 2. 1. 0. 2. 2. 0. 0. 0. 0. 1. 2. 1. 0. 0. 0. 2. 1. 0. 2.\n",
            " 2. 2. 2. 0. 2. 2. 0. 1. 0. 0. 2. 1. 1. 1. 0. 1. 1. 2. 0. 1. 0. 2. 0. 2.\n",
            " 1. 2. 1. 0. 1. 1. 0. 1. 1. 1. 0. 1. 2. 1. 2. 1. 0. 2. 2. 1. 0. 1. 0. 1.\n",
            " 1. 0. 1. 1. 1. 0. 2. 0. 0. 2. 2. 0. 2. 1. 0. 2. 1. 2. 0. 1. 2. 1. 0. 0.\n",
            " 2. 2. 2. 0. 0. 2. 2. 0. 1. 2. 1. 1. 2. 2. 2. 0. 0. 2. 2. 0. 0. 2. 0. 0.\n",
            " 0. 0. 2. 2. 2. 2.]\n"
          ]
        }
      ],
      "source": [
        "import numpy as np\n",
        "from sklearn.model_selection import train_test_split\n",
        "\n",
        "\n",
        "np.random.seed(0)\n",
        "n_feature = 2 # число признаков\n",
        "\n",
        "# исходные параметры для формирования образов обучающей выборки\n",
        "r1 = 0.7\n",
        "D1 = 3.0\n",
        "mean1 = [3, 3]\n",
        "V1 = [[D1 * r1 ** abs(i-j) for j in range(n_feature)] for i in range(n_feature)]\n",
        "\n",
        "r2 = 0.5\n",
        "D2 = 2.0\n",
        "mean2 = [1, 1] # + np.array(range(1, n_feature+1)) * 0.5\n",
        "V2 = [[D2 * r2 ** abs(i-j) for j in range(n_feature)] for i in range(n_feature)]\n",
        "\n",
        "r3 = -0.7\n",
        "D3 = 1.0\n",
        "mean3 = [-2, -2]  # + np.array(range(1, n_feature+1)) * -0.5\n",
        "V3 = [[D3 * r3 ** abs(i-j) for j in range(n_feature)] for i in range(n_feature)]\n",
        "\n",
        "# моделирование обучающей выборки\n",
        "N1, N2, N3 = 200, 150, 190\n",
        "x1 = np.random.multivariate_normal(mean1, V1, N1).T\n",
        "x2 = np.random.multivariate_normal(mean2, V2, N2).T\n",
        "x3 = np.random.multivariate_normal(mean3, V3, N3).T\n",
        "\n",
        "data_x = np.hstack([x1, x2, x3]).T\n",
        "data_y = np.hstack([np.zeros(N1), np.ones(N2), np.ones(N3) * 2])\n",
        "\n",
        "x_train, x_test, y_train, y_test = train_test_split(data_x, data_y, random_state=123,test_size=0.5, shuffle=True)\n",
        "\n",
        "''' РЕШЕНИЕ '''\n",
        "\n",
        "# Функции\n",
        "\n",
        "# Расстояние (Манхеттен)\n",
        "p = lambda x, y: sum([abs(x_i - y_i) for x_i, y_i in zip(x, y)])\n",
        "\n",
        "# Ядро (Гаусс)\n",
        "K = lambda r: 1 / (2 * np.pi)**.5 * np.exp(- r**2 / 2)\n",
        "\n",
        "# Классификатор (для одной точки)\n",
        "a = lambda x, h: np.argmax([sum(K(p(x_i, x) / h) for x_i in x_cl) for x_cl in [x_train[y_train == cl] for cl in (0, 1, 2)]])\n",
        "\n",
        "# Прогноз\n",
        "predict = np.array([a(x, h=1) for x in x_test])\n",
        "Q = np.mean(predict != y_test)\n",
        "\n",
        "# print('Q =', Q)\n",
        "# print(predict)\n",
        "# print(y_test)"
      ]
    },
    {
      "cell_type": "code",
      "source": [
        "# @title Сравнание с SVM\n",
        "from sklearn.svm import SVC\n",
        "\n",
        "svm = SVC(kernel='sigmoid', C=1, gamma='scale')  # Радиальное базисное ядро (RBF)\n",
        "svm.fit(x_train, y_train)\n",
        "predict_svm = svm.predict(x_test)\n",
        "\n",
        "Q_svm = np.mean(predict_svm != y_test)\n",
        "print(\"Q (SVM) =\", Q_svm)\n",
        "Q == Q_svm, predict_svm == predict"
      ],
      "metadata": {
        "colab": {
          "base_uri": "https://localhost:8080/"
        },
        "id": "FE_MovCPgIBv",
        "outputId": "16b69d8f-502a-48e0-e712-fce5af79aaab"
      },
      "execution_count": null,
      "outputs": [
        {
          "output_type": "stream",
          "name": "stdout",
          "text": [
            "Q (SVM) = 0.3925925925925926\n"
          ]
        },
        {
          "output_type": "execute_result",
          "data": {
            "text/plain": [
              "(False,\n",
              " array([False,  True, False, False, False,  True,  True, False,  True,\n",
              "        False, False, False,  True, False,  True,  True,  True,  True,\n",
              "         True,  True,  True, False,  True,  True,  True,  True,  True,\n",
              "         True, False, False,  True,  True,  True, False, False,  True,\n",
              "         True, False,  True, False,  True,  True,  True, False,  True,\n",
              "        False, False,  True,  True,  True,  True,  True,  True, False,\n",
              "         True,  True, False,  True,  True,  True,  True,  True,  True,\n",
              "         True, False, False,  True,  True,  True,  True,  True, False,\n",
              "         True,  True,  True,  True, False,  True,  True, False,  True,\n",
              "         True, False,  True,  True,  True, False, False, False, False,\n",
              "        False,  True,  True, False,  True,  True, False,  True, False,\n",
              "        False,  True, False,  True, False,  True,  True,  True,  True,\n",
              "         True,  True,  True,  True,  True, False,  True,  True, False,\n",
              "        False,  True, False,  True, False,  True, False, False,  True,\n",
              "         True,  True, False,  True,  True,  True,  True, False, False,\n",
              "         True, False,  True, False,  True,  True,  True,  True,  True,\n",
              "         True,  True, False, False,  True,  True, False, False,  True,\n",
              "         True, False,  True,  True, False, False,  True, False,  True,\n",
              "        False,  True,  True,  True, False,  True,  True,  True,  True,\n",
              "        False,  True,  True, False,  True, False, False,  True,  True,\n",
              "         True, False, False, False,  True,  True,  True,  True, False,\n",
              "         True, False,  True,  True,  True,  True, False, False, False,\n",
              "        False, False,  True,  True,  True, False,  True, False,  True,\n",
              "         True, False,  True,  True, False,  True,  True,  True,  True,\n",
              "         True,  True, False, False, False,  True,  True, False,  True,\n",
              "         True,  True, False,  True, False, False,  True, False,  True,\n",
              "        False,  True,  True, False, False,  True,  True,  True,  True,\n",
              "        False,  True,  True,  True, False,  True,  True, False, False,\n",
              "         True,  True,  True,  True,  True,  True,  True, False, False,\n",
              "         True,  True, False, False, False,  True,  True,  True,  True]))"
            ]
          },
          "metadata": {},
          "execution_count": 57
        }
      ]
    }
  ]
}
