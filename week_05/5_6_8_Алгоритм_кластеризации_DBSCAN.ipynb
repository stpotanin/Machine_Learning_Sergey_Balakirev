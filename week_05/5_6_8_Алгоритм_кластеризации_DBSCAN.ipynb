{
  "nbformat": 4,
  "nbformat_minor": 0,
  "metadata": {
    "colab": {
      "provenance": [],
      "authorship_tag": "ABX9TyMRHq8uhhgxwv3bWy0Ff26F"
    },
    "kernelspec": {
      "name": "python3",
      "display_name": "Python 3"
    },
    "language_info": {
      "name": "python"
    }
  },
  "cells": [
    {
      "cell_type": "markdown",
      "source": [
        "https://stepik.org/lesson/1370117/step/8"
      ],
      "metadata": {
        "id": "48UdygRQU1rv"
      }
    },
    {
      "cell_type": "code",
      "execution_count": null,
      "metadata": {
        "id": "MQtVOAJ2UwwU"
      },
      "outputs": [],
      "source": [
        "import numpy as np\n",
        "from sklearn.cluster import DBSCAN\n",
        "import matplotlib.pyplot as plt\n",
        "\n",
        "X = [(58, 138), (74, 96), (103, 82), (135, 76), (162, 79), (184, 97), (206, 111), (231, 118), (251, 118),  (275, 110), (298, 86), (320, 68), (344, 62), (376, 61), (403, 75), (414, 90), (430, 100), (254, 80), (219, 85), (288, 66), (260, 92), (201, 76), (162, 66), (127, 135), (97, 143), (83, 160), (82, 177), (88, 199), (105, 205), (135, 208), (151, 198), (157, 169), (153, 152), (117, 158), (106, 168), (106, 185), (123, 188), (125, 171), (139, 163), (139, 183), (358, 127), (328, 132), (313, 146), (300, 169), (300, 181), (308, 197), (326, 206), (339, 209), (370, 199), (380, 184), (380, 147), (343, 154), (329, 169), (332, 184), (345, 185), (363, 159), (361, 177), (344, 169), (311, 175), (351, 89), (134, 96)]\n",
        "X = np.array(X)\n",
        "eps = 55\n",
        "res = []\n",
        "while len(set(res)) < 3:\n",
        "    clustering = DBSCAN(eps=eps, min_samples=3, metric='euclidean')\n",
        "    res = clustering.fit_predict(X)\n",
        "    eps -= 2\n",
        "\n",
        "X1, X2, X3, Noise = [X[res == i] for i in (0, 1, 2, -1)]\n",
        "\n",
        "# Визуализация\n",
        "colors = ['r', 'g', 'b']\n",
        "for i, xx in enumerate(X):\n",
        "    plt.scatter(xx[0], xx[1], c=colors[res[i]])\n",
        "plt.title(f'eps = {eps + 2}')\n",
        "plt.show()"
      ]
    }
  ]
}
