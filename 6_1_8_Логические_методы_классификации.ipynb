{
  "nbformat": 4,
  "nbformat_minor": 0,
  "metadata": {
    "colab": {
      "provenance": [],
      "authorship_tag": "ABX9TyMNgfSj2YMemNsl6BmO2C3e"
    },
    "kernelspec": {
      "name": "python3",
      "display_name": "Python 3"
    },
    "language_info": {
      "name": "python"
    }
  },
  "cells": [
    {
      "cell_type": "markdown",
      "source": [
        "https://stepik.org/lesson/1370119/step/8"
      ],
      "metadata": {
        "id": "v-J6CqMJMGH6"
      }
    },
    {
      "cell_type": "code",
      "execution_count": null,
      "metadata": {
        "id": "H0GYSECZMA3P",
        "outputId": "2a19e7d1-2f28-414d-e502-56492a3916ec",
        "colab": {
          "base_uri": "https://localhost:8080/"
        }
      },
      "outputs": [
        {
          "output_type": "execute_result",
          "data": {
            "text/plain": [
              "[4, 1, 0]"
            ]
          },
          "metadata": {},
          "execution_count": 51
        }
      ],
      "source": [
        "from sympy import symbols, solve\n",
        "\n",
        "X = [[-4, 0], [-4, 6]]\n",
        "w0, w1, w2 = symbols('w0 w1 w2')\n",
        "\n",
        "w1 = 1 # фиксируем один из весов для однозначности\n",
        "\n",
        "solution = solve([w0 + w1*X[0][0] + w2*X[0][1],\n",
        "                  w0 + w1*X[1][0] + w2*X[1][1]],\n",
        "                   (w0, w2))\n",
        "\n",
        "w = [solution[w0], w1, solution[w2]]\n",
        "w"
      ]
    }
  ]
}