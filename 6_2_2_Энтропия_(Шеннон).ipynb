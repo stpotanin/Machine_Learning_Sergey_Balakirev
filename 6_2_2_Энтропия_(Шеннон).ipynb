{
  "nbformat": 4,
  "nbformat_minor": 0,
  "metadata": {
    "colab": {
      "provenance": [],
      "authorship_tag": "ABX9TyPHUMrbq92W5NFUgU14c1Fj"
    },
    "kernelspec": {
      "name": "python3",
      "display_name": "Python 3"
    },
    "language_info": {
      "name": "python"
    }
  },
  "cells": [
    {
      "cell_type": "markdown",
      "source": [
        "**Формула энтропии** (Шеннон):\n",
        "\n",
        "   $ H = -\\sum p_i \\log_2 p_i $,  \n",
        "   где $ p_i $ — вероятность события $ i $.  \n",
        "   Измеряет неопределенность или информационную ёмкость (в битах). Максимальна при равных вероятностях, минимальна (ноль) при предсказуемом исходе.\n",
        "\n",
        "**Общий смысл**: энтропия растёт с увеличением хаоса или неопределённости."
      ],
      "metadata": {
        "id": "lSu27VZ9sEYb"
      }
    },
    {
      "cell_type": "code",
      "execution_count": null,
      "metadata": {
        "id": "Ywv1yqHCp1PC",
        "colab": {
          "base_uri": "https://localhost:8080/"
        },
        "outputId": "875f2e98-5dc2-4ea1-d42a-9ec846b3ea68"
      },
      "outputs": [
        {
          "output_type": "execute_result",
          "data": {
            "text/plain": [
              "1.0"
            ]
          },
          "metadata": {},
          "execution_count": 7
        }
      ],
      "source": [
        "import math\n",
        "\n",
        "shennon = lambda X: -sum([x * math.log2(x) for x in X if x != 0])\n",
        "\n",
        "a = [0, 1]\n",
        "# shennon(a) will result in an error because of the 0 value.  The below code will work if a is something like:\n",
        "a = [0.5, 0.5]\n",
        "shennon(a)"
      ]
    },
    {
      "cell_type": "code",
      "source": [
        "[1, 0, 1, 0, 1, 0, 1, 0, 1, 0, 1, 0, 1, 0, 1, 0]\n",
        "\n",
        "[1, 0, 1, 0, 1, 0, 1, 0, 1, 0, 1, 1, 0, 1, 1, 1, 1]\n",
        "[1, 0, 1, 0, 1, 0, 1, 0, 1, 0, 1, 1, 0], [1, 1, 1, 1]\n",
        "[1, 0, 1, 0, 1, 0, 1, 0, 1, 0], [1, 1, 0]\n",
        "[1, 0, 1, 0, 1, 0, 1, 0, 1], [0], [1, 1], [0]"
      ],
      "metadata": {
        "id": "X7y2omnCHDNy"
      },
      "execution_count": null,
      "outputs": []
    },
    {
      "cell_type": "markdown",
      "source": [
        "Когда одна из вероятностей равна нулю, логарифм этой вероятности не определён. Однако в формуле энтропии Шеннона это не вызывает проблем благодаря свойству предела:\n",
        "\n",
        "$$ \\lim_{p \\to 0} p \\log p = 0 $$\n",
        "\n",
        "Это означает, что если одна из вероятностей $$ p_i = 0 $$, то слагаемое $$ p_i \\log p_i $$ также стремится к нулю и может быть считано равным нулю.\n",
        "\n",
        "Таким образом, когда вы рассчитываете энтропию по формуле:\n",
        "\n",
        "$$ H = -\\sum_{i=1}^{n} p_i \\log_b p_i $$\n",
        "\n",
        "вы можете просто пропустить члены с $$ p_i = 0 $$, поскольку их вклад в сумму будет равен нулю.\n",
        "\n",
        "Этот подход позволяет избежать проблем с неопределённостью логарифма при нулевой вероятности и обеспечивает непрерывность формулы для всех допустимых распределений вероятностей[2][3]."
      ],
      "metadata": {
        "id": "j_tSnJVsEDLg"
      }
    }
  ]
}