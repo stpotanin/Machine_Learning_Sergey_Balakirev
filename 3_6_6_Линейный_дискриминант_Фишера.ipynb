{
  "nbformat": 4,
  "nbformat_minor": 0,
  "metadata": {
    "colab": {
      "provenance": [],
      "authorship_tag": "ABX9TyM9o84DeWjArMTERhrrgj9k"
    },
    "kernelspec": {
      "name": "python3",
      "display_name": "Python 3"
    },
    "language_info": {
      "name": "python"
    }
  },
  "cells": [
    {
      "cell_type": "markdown",
      "source": [
        "https://stepik.org/lesson/1370101/step/6"
      ],
      "metadata": {
        "id": "_OHJn_Ne1TIL"
      }
    },
    {
      "cell_type": "code",
      "execution_count": null,
      "metadata": {
        "colab": {
          "base_uri": "https://localhost:8080/"
        },
        "id": "IlmyPiWf1O1P",
        "outputId": "42923c2c-1558-4d17-fdaf-d0140eeccf2b"
      },
      "outputs": [
        {
          "output_type": "execute_result",
          "data": {
            "text/plain": [
              "(60, 0, 1, 2)"
            ]
          },
          "metadata": {},
          "execution_count": 45
        }
      ],
      "source": [
        "import numpy as np\n",
        "\n",
        "np.random.seed(0)\n",
        "\n",
        "# исходные параметры распределений двух классов\n",
        "mean1 = np.array([1, -2])\n",
        "mean2 = np.array([-3, -1])\n",
        "mean3 = np.array([1, 2])\n",
        "\n",
        "r = 0.5\n",
        "D = 1.0\n",
        "V = [[D, D * r], [D*r, D]]\n",
        "\n",
        "# моделирование обучающей выборки\n",
        "N = 1000\n",
        "x1 = np.random.multivariate_normal(mean1, V, N).T\n",
        "x2 = np.random.multivariate_normal(mean2, V, N).T\n",
        "x3 = np.random.multivariate_normal(mean3, V, N).T\n",
        "\n",
        "x_train = np.hstack([x1, x2, x3]).T\n",
        "y_train = np.hstack([np.zeros(N), np.ones(N), np.ones(N) * 2])\n",
        "\n",
        "# вычисление оценок МО и ковариационной матрицы\n",
        "mm1 = np.mean(x1.T, axis=0)\n",
        "mm2 = np.mean(x2.T, axis=0)\n",
        "mm3 = np.mean(x3.T, axis=0)\n",
        "\n",
        "a = np.hstack([(x1.T - mm1).T, (x2.T - mm2).T, (x3.T - mm3).T])\n",
        "VV = np.array([[np.dot(a[0], a[0]) / (3*N-1), np.dot(a[0], a[1]) / (3*N-1)],\n",
        "               [np.dot(a[1], a[0]) / (3*N-1), np.dot(a[1], a[1]) / (3*N-1)]])\n",
        "\n",
        "# параметры для линейного дискриминанта Фишера\n",
        "Py1, Py2, Py3 = 0.2, 0.4, 0.4\n",
        "L1, L2, L3 = 1, 1, 1\n",
        "\n",
        "# Функции:\n",
        "alpha = lambda x, v, m: m @ np.linalg.inv(v)\n",
        "beta = lambda x, v, m, l, py: np.log(l * py) - 0.5 * m @ np.linalg.inv(v) @ m\n",
        "am = lambda x: np.argmax([alpha(x, VV, mm1) @ x.T + beta(x, VV, mm1, L1, Py1),\n",
        "                          alpha(x, VV, mm2) @ x.T + beta(x, VV, mm2, L2, Py2),\n",
        "                          alpha(x, VV, mm3) @ x.T + beta(x, VV, mm3, L3, Py3)]) # классификатор\n",
        "\n",
        "# Предсказание по модели\n",
        "predict = [am(x) for x in x_train]\n",
        "\n",
        "# Качество\n",
        "Q = sum(predict != y_train)\n",
        "\n",
        "Q, predict[0], predict[1000], predict[-1]\n",
        "# (104, 0, 1, 2)"
      ]
    }
  ]
}