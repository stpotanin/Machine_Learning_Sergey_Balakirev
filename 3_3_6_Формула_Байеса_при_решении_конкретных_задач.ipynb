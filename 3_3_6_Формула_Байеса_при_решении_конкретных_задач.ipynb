{
  "nbformat": 4,
  "nbformat_minor": 0,
  "metadata": {
    "colab": {
      "provenance": []
    },
    "kernelspec": {
      "name": "python3",
      "display_name": "Python 3"
    },
    "language_info": {
      "name": "python"
    }
  },
  "cells": [
    {
      "cell_type": "markdown",
      "source": [
        "https://stepik.org/lesson/1370098/step/6"
      ],
      "metadata": {
        "id": "dYo_aV6pnIYl"
      }
    },
    {
      "cell_type": "markdown",
      "source": [
        "## Формулы\n",
        "$$\n",
        "p(x) = \\frac{1}{\\sqrt{2{\\pi}D_x}} \\cdot \\exp\\left(-\\frac{(x - x_0)^2}{2D_x}\\right)\n",
        "$$\n",
        "\n",
        "$$\n",
        "p(y_1|x) = \\frac{1}{\\sqrt{2{\\pi}D_e}} \\cdot \\exp\\left(-\\frac{(x - y_1)^2}{2D_e}\\right)\n",
        "$$\n",
        "\n",
        "$$\n",
        "\\hat{x} = \\frac{\\partial \\ln(p(y_1 | x) \\cdot p(x))}{\\partial x}\n",
        "$$\n"
      ],
      "metadata": {
        "id": "zImfKi-fyhZu"
      }
    },
    {
      "cell_type": "code",
      "execution_count": null,
      "metadata": {
        "colab": {
          "base_uri": "https://localhost:8080/"
        },
        "id": "800JBPQrnBZB",
        "outputId": "a8074dbc-dfff-44b0-92c3-312766da894c"
      },
      "outputs": [
        {
          "output_type": "execute_result",
          "data": {
            "text/plain": [
              "[6.64285714285714]"
            ]
          },
          "metadata": {},
          "execution_count": 11
        }
      ],
      "source": [
        "from sympy import Symbol, solve, pi, exp\n",
        "\n",
        "# Функция p(x)\n",
        "def p_x(x, D_x, x_0):\n",
        "    return (1 / (2 * pi * D_x)**.5) * exp(-((x - x_0)**2) / (2 * D_x))\n",
        "\n",
        "# Функция p(y1 | x)\n",
        "def p_y1_given_x(x, y1, D_e):\n",
        "    return (1 / (2 * pi * D_e)**.5) * exp(-((x - y1)**2) / (2 * D_e))\n",
        "\n",
        "# Функция для вычисления производной логарифма произведения\n",
        "def hat_x_derivative(x, y1, D_x, D_e, x_0):\n",
        "    # Вычисляем p(x) и p(y1 | x)\n",
        "    p_x_value = p_x(x, D_x, x_0)\n",
        "    p_y1_given_x_value = p_y1_given_x(x, y1, D_e)\n",
        "\n",
        "    # Вычисляем производные\n",
        "    dp_x_dx = (-1 / ((2 * pi * D_x)**.5)) * exp(-((x - x_0)**2) / (2 * D_x)) * (x - x_0) / D_x\n",
        "    dp_y1_given_x_dx = (-1 / ((2 * pi * D_e)**.5)) * exp(-((x - y1) ** 2) / (2 * D_e)) * (x - y1) / D_e\n",
        "\n",
        "    # Используем правило суммы для производной логарифма произведения\n",
        "    return (dp_y1_given_x_dx / p_y1_given_x_value) + (dp_x_dx / p_x_value)\n",
        "\n",
        "D_e = 0.2 # необъяснённая дисперсия (шум)\n",
        "D_x = 0.5 # объяснённая дисперсия (предиктором x)\n",
        "x_0 = 7   # среднее (матожидание)\n",
        "y1 = 6.5  # наблюдаемое значение сигнала от ГЛОНАСС\n",
        "\n",
        "x = Symbol('x')\n",
        "\n",
        "solve(hat_x_derivative(x, y1, D_x, D_e, x_0))"
      ]
    }
  ]
}