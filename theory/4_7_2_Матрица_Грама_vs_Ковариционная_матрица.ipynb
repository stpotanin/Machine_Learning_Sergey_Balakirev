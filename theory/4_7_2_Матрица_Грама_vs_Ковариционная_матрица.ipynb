{
  "nbformat": 4,
  "nbformat_minor": 0,
  "metadata": {
    "colab": {
      "provenance": [],
      "authorship_tag": "ABX9TyOrgp9qRq8lODX7XAmPaMG+"
    },
    "kernelspec": {
      "name": "python3",
      "display_name": "Python 3"
    },
    "language_info": {
      "name": "python"
    }
  },
  "cells": [
    {
      "cell_type": "code",
      "execution_count": null,
      "metadata": {
        "colab": {
          "base_uri": "https://localhost:8080/"
        },
        "id": "4uA2Hwmoqgd0",
        "outputId": "b18b6dd5-4e67-41ec-f882-38370b5c66d3"
      },
      "outputs": [
        {
          "output_type": "stream",
          "name": "stdout",
          "text": [
            "Центрированные данные:\n",
            "[[-2. -2.]\n",
            " [ 0.  0.]\n",
            " [ 2.  2.]]\n",
            "Ковариационная матрица (ручной расчет):\n",
            "[[2.66666667 2.66666667]\n",
            " [2.66666667 2.66666667]]\n",
            "Ковариационная матрица (np.cov с bias=True):\n",
            "[[4. 4.]\n",
            " [4. 4.]]\n"
          ]
        }
      ],
      "source": [
        "import numpy as np\n",
        "\n",
        "# Пример данных\n",
        "X = np.array([[1, 2], [3, 4], [5, 6]])\n",
        "\n",
        "# Центрирование данных\n",
        "X_centered = X - np.mean(X, axis=0)\n",
        "\n",
        "# Ручной расчет ковариационной матрицы\n",
        "cov_matrix_manual = (X_centered.T @ X_centered) / X.shape[0]\n",
        "\n",
        "print(\"Центрированные данные:\")\n",
        "print(X_centered)\n",
        "\n",
        "print(\"Ковариационная матрица (ручной расчет):\")\n",
        "print(cov_matrix_manual)\n",
        "\n",
        "# Ковариционная матрица с использованием np.cov\n",
        "cov_matrix_np = np.cov(X.T)  # bias=True для полной ковариации\n",
        "\n",
        "print(\"Ковариационная матрица (np.cov с bias=True):\")\n",
        "print(cov_matrix_np)"
      ]
    }
  ]
}
