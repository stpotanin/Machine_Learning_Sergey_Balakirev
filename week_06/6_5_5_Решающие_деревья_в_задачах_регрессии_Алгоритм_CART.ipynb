{
  "nbformat": 4,
  "nbformat_minor": 0,
  "metadata": {
    "colab": {
      "provenance": [],
      "authorship_tag": "ABX9TyOSN0bYnDO2dteI+231WyFy"
    },
    "kernelspec": {
      "name": "python3",
      "display_name": "Python 3"
    },
    "language_info": {
      "name": "python"
    }
  },
  "cells": [
    {
      "cell_type": "markdown",
      "source": [
        "https://stepik.org/lesson/1370123/step/5"
      ],
      "metadata": {
        "id": "6d8Ly2yhZdY8"
      }
    },
    {
      "cell_type": "code",
      "source": [
        "# @title Через среднее\n",
        "import numpy as np\n",
        "\n",
        "x = np.arange(-2, 3, 0.1)\n",
        "y = -x + 0.2 * x ** 2 - 0.5 * np.sin(4*x) + np.cos(2*x)\n",
        "\n",
        "IG, th  = 0, -2\n",
        "for t in x:\n",
        "    H = sum([(y.mean() - yy)**2 for yy in y])\n",
        "    HR1 = sum([(y[x < t].mean() - yy)**2 for yy in y[x < t]])\n",
        "    HR2 = sum([(y[x >= t].mean() - yy)**2 for yy in y[x >= t]])\n",
        "    IG_t = H - len(x[x < t]) / len(x) * HR1 - len(x[x >= t]) / len(x) * HR2\n",
        "    if IG_t > IG:\n",
        "        IG, th = IG_t, t\n",
        "\n",
        "print(HR1, HR2, IG, th)\n",
        "# 8.760164980453645 27.665107982469813 70.5810792865177  для t = 0"
      ],
      "metadata": {
        "colab": {
          "base_uri": "https://localhost:8080/"
        },
        "id": "an1XYtdKwWUx",
        "outputId": "daf42781-d2ed-46d8-c793-08fa4bb6f241"
      },
      "execution_count": null,
      "outputs": [
        {
          "output_type": "stream",
          "name": "stdout",
          "text": [
            "90.65653676799202 0.0 76.60995066602564 0.40000000000000213\n"
          ]
        }
      ]
    },
    {
      "cell_type": "code",
      "execution_count": null,
      "metadata": {
        "colab": {
          "base_uri": "https://localhost:8080/"
        },
        "id": "SOiRh1N0ZZak",
        "outputId": "3b178834-cd89-4104-bdf0-aa87d68e3b9f"
      },
      "outputs": [
        {
          "output_type": "stream",
          "name": "stdout",
          "text": [
            "91.38899786428146 0.0 77.33510547593451 0.40000000000000213\n"
          ]
        }
      ],
      "source": [
        "# @title Через медиану\n",
        "import numpy as np\n",
        "\n",
        "x = np.arange(-2, 3, 0.1)\n",
        "y = -x + 0.2 * x ** 2 - 0.5 * np.sin(4*x) + np.cos(2*x)\n",
        "\n",
        "IG, th  = 0, -2\n",
        "for t in x:\n",
        "    H = sum([(np.median(y) - yy)**2 for yy in y])\n",
        "    HR1 = sum([(np.median(y[x < t]) - yy)**2 for yy in y[x < t]])\n",
        "    HR2 = sum([(np.median(y[x >= t]) - yy)**2 for yy in y[x >= t]])\n",
        "    IG_t = H - len(x[x < t]) / len(x) * HR1 - len(x[x >= t]) / len(x) * HR2\n",
        "    if IG_t > IG:\n",
        "        IG, th = IG_t, t\n",
        "\n",
        "print(HR1, HR2, IG, th)\n",
        "# 8.760164980453645 27.665107982469813 70.5810792865177  для t = 0"
      ]
    }
  ]
}
