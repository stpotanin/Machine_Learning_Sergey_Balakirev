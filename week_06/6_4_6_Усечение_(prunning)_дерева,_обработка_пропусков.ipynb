{
  "nbformat": 4,
  "nbformat_minor": 0,
  "metadata": {
    "colab": {
      "provenance": [],
      "authorship_tag": "ABX9TyNWYfQcr6MpICmAAWXXU4Og"
    },
    "kernelspec": {
      "name": "python3",
      "display_name": "Python 3"
    },
    "language_info": {
      "name": "python"
    }
  },
  "cells": [
    {
      "cell_type": "markdown",
      "source": [
        "https://stepik.org/lesson/1370122/step/6\n",
        "\n",
        "Подвиг 4. Пусть имеется следующий фрагмент решающего дерева:\n",
        "\n",
        "<img src='https://ucarecdn.com/6d5ea2b4-a402-4cb0-8ff8-172b67f79668/' width=150>\n",
        "\n",
        "Известно, что в листовые вершины этого дерева (зеленый цвет) попадает следующее количество образов из обучающей выборки:\n",
        "\n",
        "* v1: 120\n",
        "* v3: 75\n",
        "* v4: 67\n",
        "* v5: 112\n",
        "\n",
        "Посчитайте вероятности qv1, qv2, qv3 того, что произвольный вектор x, попавший в вершину v, перейдет в вершины v1, v2, v3. Результат сохраните в переменных qv1 qv2, qv3 соответственно.\n",
        "\n",
        "P.S. На экран ничего выводить не нужно."
      ],
      "metadata": {
        "id": "npdLJ6SoYYFB"
      }
    },
    {
      "cell_type": "code",
      "execution_count": null,
      "metadata": {
        "colab": {
          "base_uri": "https://localhost:8080/"
        },
        "id": "mUfsEKFqYVik",
        "outputId": "1e272c9a-e614-4aaa-a38b-b14d34eb4799"
      },
      "outputs": [
        {
          "output_type": "execute_result",
          "data": {
            "text/plain": [
              "(0.32085561497326204, 0.4786096256684492, 0.20053475935828877)"
            ]
          },
          "metadata": {},
          "execution_count": 1
        }
      ],
      "source": [
        "v1 = 120\n",
        "v3 = 75\n",
        "v4 = 67\n",
        "v5 = 112\n",
        "\n",
        "N = v1 + v3 + v4 + v5\n",
        "qv1 = v1 / N\n",
        "qv2 = (v4 + v5) / N\n",
        "qv3 = v3 / N\n",
        "qv1, qv2, qv3"
      ]
    }
  ]
}
