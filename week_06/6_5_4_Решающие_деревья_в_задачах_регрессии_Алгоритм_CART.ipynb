{
  "nbformat": 4,
  "nbformat_minor": 0,
  "metadata": {
    "colab": {
      "provenance": [],
      "authorship_tag": "ABX9TyMGqGEkSUmJYmHoJzjnAtOl"
    },
    "kernelspec": {
      "name": "python3",
      "display_name": "Python 3"
    },
    "language_info": {
      "name": "python"
    }
  },
  "cells": [
    {
      "cell_type": "markdown",
      "source": [
        "https://stepik.org/lesson/1370123/step/4"
      ],
      "metadata": {
        "id": "6d8Ly2yhZdY8"
      }
    },
    {
      "cell_type": "code",
      "execution_count": null,
      "metadata": {
        "colab": {
          "base_uri": "https://localhost:8080/"
        },
        "id": "SOiRh1N0ZZak",
        "outputId": "b38885c4-4fac-4252-8476-33a181cea7bc"
      },
      "outputs": [
        {
          "output_type": "stream",
          "name": "stdout",
          "text": [
            "8.760164980453645 27.665107982469813 70.5810792865177\n"
          ]
        }
      ],
      "source": [
        "import numpy as np\n",
        "\n",
        "x = np.arange(-2, 3, 0.1)\n",
        "y = -x + 0.2 * x ** 2 - 0.5 * np.sin(4*x) + np.cos(2*x)\n",
        "\n",
        "# Диапазоны\n",
        "left, right = x < 0, x >= 0\n",
        "\n",
        "# Ветви значений по аргументу\n",
        "R1, R2 = x[left], x[right]\n",
        "\n",
        "# Средние арифметические значения функции {y_i} в областях\n",
        "b, b1, b2 = y.mean(), y[left].mean(), y[right].mean()\n",
        "\n",
        "# impurity для левой (t < 0) и правой (t >= 0) частей\n",
        "H, HR1, HR2 = sum([(b - yy)**2 for yy in y]), sum([(b1 - yy)**2 for yy in y[left]]), sum([(b2 - yy)**2 for yy in y[right]])\n",
        "\n",
        "# Информационный выигрыш\n",
        "IG = H - len(R1) / len(x) * HR1 - len(R2) / len(x) * HR2\n",
        "\n",
        "print(HR1, HR2, IG)"
      ]
    }
  ]
}
