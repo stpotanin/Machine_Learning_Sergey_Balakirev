{
  "nbformat": 4,
  "nbformat_minor": 0,
  "metadata": {
    "colab": {
      "provenance": [],
      "authorship_tag": "ABX9TyOaghch1bZzMGGz6cJyMx1R"
    },
    "kernelspec": {
      "name": "python3",
      "display_name": "Python 3"
    },
    "language_info": {
      "name": "python"
    }
  },
  "cells": [
    {
      "cell_type": "markdown",
      "source": [
        "https://stepik.org/lesson/1370119/step/9"
      ],
      "metadata": {
        "id": "v-J6CqMJMGH6"
      }
    },
    {
      "cell_type": "code",
      "execution_count": null,
      "metadata": {
        "id": "H0GYSECZMA3P",
        "colab": {
          "base_uri": "https://localhost:8080/",
          "height": 455
        },
        "outputId": "50c01e8e-2753-4645-f02d-d8e4ba8d6fe6"
      },
      "outputs": [
        {
          "output_type": "display_data",
          "data": {
            "text/plain": [
              "<Figure size 640x480 with 1 Axes>"
            ],
            "image/png": "[encoded data removed]"
          },
          "metadata": {}
        }
      ],
      "source": [
        "from sympy import symbols, solve\n",
        "import numpy as np\n",
        "import matplotlib.pyplot as plt\n",
        "\n",
        "x_test = [(9, 6), (2, 4), (-3, -1), (3, -2), (-3, 6), (7, -3), (6, 2)]\n",
        "X = [[1, x[0], x[1]] for x in x_test]\n",
        "\n",
        "# Нахождение весов по графику\n",
        "b = [[2, 0], [7, 7]]\n",
        "w0, w1, w2 = symbols('w0 w1 w2')\n",
        "\n",
        "w1 = 7 # фиксируем один из весов для однозначности\n",
        "\n",
        "solution = solve([w0 + w1 * b[0][0] + w2 * b[0][1],\n",
        "                  w0 + w1 * b[1][0] + w2 * b[1][1]],\n",
        "                   (w0, w2))\n",
        "\n",
        "w = np.array([solution[w0], w1, solution[w2]]).T\n",
        "\n",
        "# Предсказание по модели\n",
        "predict = -np.sign(X @ w)\n",
        "predict\n",
        "\n",
        "# График\n",
        "x_plot = np.linspace(-10, 10, 100)\n",
        "y_plot = -w[0] / w[2] - w[1] / w[2] * x_plot\n",
        "from sympy import symbols, solve\n",
        "import numpy as np\n",
        "import matplotlib.pyplot as plt\n",
        "\n",
        "x_test = [(9, 6), (2, 4), (-3, -1), (3, -2), (-3, 6), (7, -3), (6, 2)]\n",
        "X = [[1, x[0], x[1]] for x in x_test]\n",
        "\n",
        "# Нахождение весов по графику\n",
        "b = [[2, 0], [7, 7]]\n",
        "w0, w1, w2 = symbols('w0 w1 w2')\n",
        "\n",
        "w1 = 7 # фиксируем один из весов для однозначности\n",
        "\n",
        "solution = solve([w0 + w1 * b[0][0] + w2 * b[0][1] - 0,\n",
        "                  w0 + w1 * b[1][0] + w2 * b[1][1] - 0],\n",
        "                   (w0, w2))\n",
        "\n",
        "w = np.array([solution[w0], w1, solution[w2]]).T\n",
        "\n",
        "# Предсказание по модели\n",
        "predict = -np.sign(np.dot(X,w))\n",
        "predict\n",
        "\n",
        "# График\n",
        "x_plot = np.linspace(-10, 10, 100)\n",
        "y_plot = -w[0] / w[2] - w[1] / w[2] * x_plot\n",
        "plt.plot(x_plot, y_plot)\n",
        "plt.scatter([x[0] for x in x_test], [x[1] for x in x_test], c=predict)\n",
        "plt.scatter([bb[0] for bb in b], [bb[1] for bb in b], c='r')\n",
        "plt.xlabel('x1')\n",
        "plt.ylabel('x2')\n",
        "plt.xlim(-4, 10)\n",
        "plt.ylim(-4, 8)\n",
        "plt.grid()\n",
        "plt.show()\n"
      ]
    },
    {
      "cell_type": "code",
      "source": [
        "import numpy as np\n",
        "from sympy import symbols, solve\n",
        "\n",
        "x_test = np.array([(9, 6), (2, 4), (-3, -1), (3, -2), (-3, 6), (7, -3), (6, 2)])\n",
        "\n",
        "# Нахождение весов по графику\n",
        "X = [[2, 0], [8, 7]]\n",
        "w0, w1, w2 = symbols('w0 w1 w2')\n",
        "\n",
        "w1 = 7  # фиксируем один из весов для однозначности\n",
        "\n",
        "solution = solve([w0 + w1 * X[0][0] + w2 * X[0][1],\n",
        "                  w0 + w1 * X[1][0] + w2 * X[1][1]],\n",
        "                 (w0, w2))\n",
        "\n",
        "# Convert the list to a NumPy array before transposing\n",
        "w = np.array([solution[w0], w1, solution[w2]]).T\n",
        "\n",
        "# Предсказание по модели\n",
        "a = lambda x: np.sign(x @ w)\n",
        "\n",
        "predict = [a(x) for x in x_test]\n",
        "predict"
      ],
      "metadata": {
        "id": "EnisuBVLXH31",
        "outputId": "fd0e3a70-0bd8-4697-cac1-6b22d489de6f",
        "colab": {
          "base_uri": "https://localhost:8080/",
          "height": 356
        }
      },
      "execution_count": null,
      "outputs": [
        {
          "output_type": "error",
          "ename": "ValueError",
          "evalue": "matmul: Input operand 1 has a mismatch in its core dimension 0, with gufunc signature (n?,k),(k,m?)->(n?,m?) (size 3 is different from 2)",
          "traceback": [
            "\u001b[0;31m---------------------------------------------------------------------------\u001b[0m",
            "\u001b[0;31mValueError\u001b[0m                                Traceback (most recent call last)",
            "\u001b[0;32m<ipython-input-12-abba4b47a36c>\u001b[0m in \u001b[0;36m<cell line: 0>\u001b[0;34m()\u001b[0m\n\u001b[1;32m     20\u001b[0m \u001b[0ma\u001b[0m \u001b[0;34m=\u001b[0m \u001b[0;32mlambda\u001b[0m \u001b[0mx\u001b[0m\u001b[0;34m:\u001b[0m \u001b[0mnp\u001b[0m\u001b[0;34m.\u001b[0m\u001b[0msign\u001b[0m\u001b[0;34m(\u001b[0m\u001b[0mx\u001b[0m \u001b[0;34m@\u001b[0m \u001b[0mw\u001b[0m\u001b[0;34m)\u001b[0m\u001b[0;34m\u001b[0m\u001b[0;34m\u001b[0m\u001b[0m\n\u001b[1;32m     21\u001b[0m \u001b[0;34m\u001b[0m\u001b[0m\n\u001b[0;32m---> 22\u001b[0;31m \u001b[0mpredict\u001b[0m \u001b[0;34m=\u001b[0m \u001b[0;34m[\u001b[0m\u001b[0ma\u001b[0m\u001b[0;34m(\u001b[0m\u001b[0mx\u001b[0m\u001b[0;34m)\u001b[0m \u001b[0;32mfor\u001b[0m \u001b[0mx\u001b[0m \u001b[0;32min\u001b[0m \u001b[0mx_test\u001b[0m\u001b[0;34m]\u001b[0m\u001b[0;34m\u001b[0m\u001b[0;34m\u001b[0m\u001b[0m\n\u001b[0m\u001b[1;32m     23\u001b[0m \u001b[0mpredict\u001b[0m\u001b[0;34m\u001b[0m\u001b[0;34m\u001b[0m\u001b[0m\n",
            "\u001b[0;32m<ipython-input-12-abba4b47a36c>\u001b[0m in \u001b[0;36m<listcomp>\u001b[0;34m(.0)\u001b[0m\n\u001b[1;32m     20\u001b[0m \u001b[0ma\u001b[0m \u001b[0;34m=\u001b[0m \u001b[0;32mlambda\u001b[0m \u001b[0mx\u001b[0m\u001b[0;34m:\u001b[0m \u001b[0mnp\u001b[0m\u001b[0;34m.\u001b[0m\u001b[0msign\u001b[0m\u001b[0;34m(\u001b[0m\u001b[0mx\u001b[0m \u001b[0;34m@\u001b[0m \u001b[0mw\u001b[0m\u001b[0;34m)\u001b[0m\u001b[0;34m\u001b[0m\u001b[0;34m\u001b[0m\u001b[0m\n\u001b[1;32m     21\u001b[0m \u001b[0;34m\u001b[0m\u001b[0m\n\u001b[0;32m---> 22\u001b[0;31m \u001b[0mpredict\u001b[0m \u001b[0;34m=\u001b[0m \u001b[0;34m[\u001b[0m\u001b[0ma\u001b[0m\u001b[0;34m(\u001b[0m\u001b[0mx\u001b[0m\u001b[0;34m)\u001b[0m \u001b[0;32mfor\u001b[0m \u001b[0mx\u001b[0m \u001b[0;32min\u001b[0m \u001b[0mx_test\u001b[0m\u001b[0;34m]\u001b[0m\u001b[0;34m\u001b[0m\u001b[0;34m\u001b[0m\u001b[0m\n\u001b[0m\u001b[1;32m     23\u001b[0m \u001b[0mpredict\u001b[0m\u001b[0;34m\u001b[0m\u001b[0;34m\u001b[0m\u001b[0m\n",
            "\u001b[0;32m<ipython-input-12-abba4b47a36c>\u001b[0m in \u001b[0;36m<lambda>\u001b[0;34m(x)\u001b[0m\n\u001b[1;32m     18\u001b[0m \u001b[0;34m\u001b[0m\u001b[0m\n\u001b[1;32m     19\u001b[0m \u001b[0;31m# Предсказание по модели\u001b[0m\u001b[0;34m\u001b[0m\u001b[0;34m\u001b[0m\u001b[0m\n\u001b[0;32m---> 20\u001b[0;31m \u001b[0ma\u001b[0m \u001b[0;34m=\u001b[0m \u001b[0;32mlambda\u001b[0m \u001b[0mx\u001b[0m\u001b[0;34m:\u001b[0m \u001b[0mnp\u001b[0m\u001b[0;34m.\u001b[0m\u001b[0msign\u001b[0m\u001b[0;34m(\u001b[0m\u001b[0mx\u001b[0m \u001b[0;34m@\u001b[0m \u001b[0mw\u001b[0m\u001b[0;34m)\u001b[0m\u001b[0;34m\u001b[0m\u001b[0;34m\u001b[0m\u001b[0m\n\u001b[0m\u001b[1;32m     21\u001b[0m \u001b[0;34m\u001b[0m\u001b[0m\n\u001b[1;32m     22\u001b[0m \u001b[0mpredict\u001b[0m \u001b[0;34m=\u001b[0m \u001b[0;34m[\u001b[0m\u001b[0ma\u001b[0m\u001b[0;34m(\u001b[0m\u001b[0mx\u001b[0m\u001b[0;34m)\u001b[0m \u001b[0;32mfor\u001b[0m \u001b[0mx\u001b[0m \u001b[0;32min\u001b[0m \u001b[0mx_test\u001b[0m\u001b[0;34m]\u001b[0m\u001b[0;34m\u001b[0m\u001b[0;34m\u001b[0m\u001b[0m\n",
            "\u001b[0;31mValueError\u001b[0m: matmul: Input operand 1 has a mismatch in its core dimension 0, with gufunc signature (n?,k),(k,m?)->(n?,m?) (size 3 is different from 2)"
          ]
        }
      ]
    }
  ]
}
