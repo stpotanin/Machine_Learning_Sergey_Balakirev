{
  "cells": [
    {
      "cell_type": "markdown",
      "metadata": {
        "id": "npdLJ6SoYYFB"
      },
      "source": [
        "https://stepik.org/lesson/1370122/step/7\n",
        "\n",
        "**Подвиг 5.** Пусть имеется следующий фрагмент решающего дерева для задачи бинарной классификации с метками классов {-1, +1}:\n",
        "\n",
        "<img src='https://ucarecdn.com/786616c2-f28a-45d7-b36e-5628df07a517/' width=150>\n",
        "\n",
        "Известно, что в листовые вершины этого дерева (зеленый цвет) попадает следующее количество образов из обучающей выборки с разными метками классов:\n",
        "\n",
        "* v1: 120, из них 105 (+1) и 15 (-1)\n",
        "* v3: 75, из них 70 (-1) и 5 (+1)\n",
        "* v4: 67, из них 60 (+1) и 7 (-1)\n",
        "* v5: 112, из них 100 (-1) и 12 (+1)\n",
        "\n",
        "Посчитайте вероятности P(y|x,v2) того, что произвольный вектор x, попавший в вершину v2, будет отнесен к классу +1. Сохраните вычисленное значение в переменной **Pv2**.\n",
        "\n",
        "P.S. На экран ничего выводить не нужно."
      ]
    },
    {
      "cell_type": "code",
      "execution_count": null,
      "metadata": {
        "colab": {
          "background_save": true
        },
        "id": "mUfsEKFqYVik",
        "outputId": "0b8d2f2a-1784-4ed8-8b3b-4afccd449248"
      },
      "outputs": [
        {
          "name": "stdout",
          "output_type": "stream",
          "text": [
            "0.3956043956043956\n"
          ]
        }
      ],
      "source": [
        "v1 = 105\n",
        "v3 = 5\n",
        "v4 = 60\n",
        "v5 = 12\n",
        "\n",
        "N = v1 + v3 + v4 + v5\n",
        "Pv2 = (v4 + v5) / N\n",
        "\n",
        "# Pv2\n",
        "\n",
        "\"\"\"\n",
        "N = v1 + v3 + v4 + v5\n",
        "qv1 = v1 / N\n",
        "qv2 = (v4 + v5) / N\n",
        "qv3 = v3 / N\n",
        "\n",
        "qv1, qv2, qv3\n",
        "\"\"\"\n",
        "print(Pv2)"
      ]
    }
  ],
  "metadata": {
    "colab": {
      "provenance": []
    },
    "kernelspec": {
      "display_name": "Python 3",
      "name": "python3"
    },
    "language_info": {
      "name": "python"
    }
  },
  "nbformat": 4,
  "nbformat_minor": 0
}
