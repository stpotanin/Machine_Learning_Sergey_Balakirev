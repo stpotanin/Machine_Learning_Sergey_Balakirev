{
  "nbformat": 4,
  "nbformat_minor": 0,
  "metadata": {
    "colab": {
      "provenance": []
    },
    "kernelspec": {
      "name": "python3",
      "display_name": "Python 3"
    },
    "language_info": {
      "name": "python"
    }
  },
  "cells": [
    {
      "cell_type": "markdown",
      "source": [
        "https://stepik.org/lesson/1370124/step/8"
      ],
      "metadata": {
        "id": "NKbQxABM_oyC"
      }
    },
    {
      "cell_type": "code",
      "execution_count": null,
      "metadata": {
        "id": "hwh-_nJ__lhn",
        "colab": {
          "base_uri": "https://localhost:8080/"
        },
        "outputId": "416f4a88-0b6f-440d-eab0-17cbf212280c"
      },
      "outputs": [
        {
          "output_type": "execute_result",
          "data": {
            "text/plain": [
              "0.8279569892473119"
            ]
          },
          "metadata": {},
          "execution_count": 3
        }
      ],
      "source": [
        "import numpy as np\n",
        "from sklearn.ensemble import RandomForestClassifier\n",
        "from sklearn.model_selection import train_test_split\n",
        "\n",
        "np.random.seed(0)\n",
        "n_feature = 5\n",
        "\n",
        "# исходные параметры для формирования образов обучающей выборки\n",
        "r1 = 0.7\n",
        "D1 = 3.0\n",
        "mean1 = [3, 7, -2, 4, 6]\n",
        "V1 = [[D1 * r1 ** abs(i-j) for j in range(n_feature)] for i in range(n_feature)]\n",
        "\n",
        "r2 = 0.5\n",
        "D2 = 2.0\n",
        "mean2 = [3, 7, -2, 4, 6] + np.array(range(1, n_feature+1)) * 0.5\n",
        "V2 = [[D2 * r2 ** abs(i-j) for j in range(n_feature)] for i in range(n_feature)]\n",
        "\n",
        "r3 = -0.7\n",
        "D3 = 1.0\n",
        "mean3 = [3, 7, -2, 4, 6] + np.array(range(1, n_feature+1)) * -0.5\n",
        "V3 = [[D3 * r3 ** abs(i-j) for j in range(n_feature)] for i in range(n_feature)]\n",
        "\n",
        "# моделирование обучающей выборки\n",
        "N1, N2, N3 = 1000, 1200, 900\n",
        "x1 = np.random.multivariate_normal(mean1, V1, N1).T\n",
        "x2 = np.random.multivariate_normal(mean2, V2, N2).T\n",
        "x3 = np.random.multivariate_normal(mean3, V3, N3).T\n",
        "\n",
        "data_x = np.hstack([x1, x2, x3]).T\n",
        "data_y = np.hstack([np.zeros(N1), np.ones(N2), np.ones(N3) * 2])\n",
        "\n",
        "x_train, x_test, y_train, y_test = train_test_split(data_x, data_y, random_state=123,test_size=0.3, shuffle=True)\n",
        "\n",
        "predict = RandomForestClassifier(max_depth=8, n_estimators=10).fit(x_train, y_train).predict(x_test)\n",
        "Q = np.mean(predict == y_test)\n",
        "Q"
      ]
    }
  ]
}