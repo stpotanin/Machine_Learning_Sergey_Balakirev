{
  "nbformat": 4,
  "nbformat_minor": 0,
  "metadata": {
    "colab": {
      "provenance": [],
      "authorship_tag": "ABX9TyNNlGsAYDvX1RXNrniI8JXZ"
    },
    "kernelspec": {
      "name": "python3",
      "display_name": "Python 3"
    },
    "language_info": {
      "name": "python"
    }
  },
  "cells": [
    {
      "cell_type": "markdown",
      "source": [
        "https://stepik.org/lesson/1370053/step/7"
      ],
      "metadata": {
        "id": "XjEAAe_LOK-N"
      }
    },
    {
      "cell_type": "code",
      "execution_count": null,
      "metadata": {
        "colab": {
          "base_uri": "https://localhost:8080/"
        },
        "id": "KuzZmkkmN_ct",
        "outputId": "34cefd91-cd48-4de7-d07e-e73a2f3ae118"
      },
      "outputs": [
        {
          "output_type": "execute_result",
          "data": {
            "text/plain": [
              "(4, 1, 0)"
            ]
          },
          "metadata": {},
          "execution_count": 2
        }
      ],
      "source": [
        "# w_0 + w_1 * x1 + w_2 * x2 = 0\n",
        "from sympy import symbols, solve\n",
        "\n",
        "w_0, w_1, w_2 = symbols('w_0 w_1 w_2')\n",
        "\n",
        "# подставляем координаты точек в врхнюю формулу\n",
        "res = solve([w_0 + w_1 * (-4) + w_2 * 0,\n",
        "             w_0 + w_1 * (-4) + w_2 * 6])\n",
        "# print(res)\n",
        "\n",
        "w_0 = 4 # чтобы получить конкретный набор, фиксируем одно из значений\n",
        "\n",
        "res = solve([w_0 + w_1 * (-4) + w_2 * 0,\n",
        "             w_0 + w_1 * (-4) + w_2 * 6])\n",
        "# print(res)\n",
        "\n",
        "w = w_0, res[w_1], res[w_2]\n",
        "w"
      ]
    }
  ]
}