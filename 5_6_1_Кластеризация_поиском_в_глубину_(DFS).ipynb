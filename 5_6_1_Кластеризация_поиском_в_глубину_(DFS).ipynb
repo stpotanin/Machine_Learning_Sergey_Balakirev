{
  "nbformat": 4,
  "nbformat_minor": 0,
  "metadata": {
    "colab": {
      "provenance": [],
      "authorship_tag": "ABX9TyOplwaISt0mWnD16F1ARL+p"
    },
    "kernelspec": {
      "name": "python3",
      "display_name": "Python 3"
    },
    "language_info": {
      "name": "python"
    }
  },
  "cells": [
    {
      "cell_type": "code",
      "execution_count": null,
      "metadata": {
        "colab": {
          "base_uri": "https://localhost:8080/",
          "height": 559
        },
        "id": "BDg7KWH6QrS2",
        "outputId": "f05a0cce-af99-4521-e9c5-13fc7ba2e1b7"
      },
      "outputs": [
        {
          "output_type": "stream",
          "name": "stdout",
          "text": [
            "[[(192, 204), (374, 214), (194, 272), (417, 259), (182, 282), (166, 228), (171, 250), (308, 293), (312, 321), (422, 126), (443, 187), (182, 174), (413, 205), (435, 166), (147, 255), (463, 174), (385, 256), (447, 137), (221, 287), (398, 237), (274, 263), (389, 183), (253, 292), (358, 235), (252, 316), (137, 186), (321, 250), (400, 154), (204, 298), (249, 263), (136, 246), (434, 222), (147, 205), (208, 230), (332, 280), (393, 288), (349, 313)], [(101, 131), (47, 159), (220, 82), (80, 156), (154, 64), (84, 112), (155, 94), (261, 131), (271, 111), (299, 136), (231, 114), (308, 124), (56, 178), (242, 70), (47, 128), (123, 104), (286, 161), (191, 100), (244, 92), (64, 150), (192, 62), (128, 78), (272, 95), (275, 137), (106, 90)]]\n"
          ]
        },
        {
          "output_type": "display_data",
          "data": {
            "text/plain": [
              "<Figure size 800x600 with 1 Axes>"
            ],
            "image/png": "[encoded data removed]"
          },
          "metadata": {}
        }
      ],
      "source": [
        "# @title Кластеризация поиском в глубину (DFS)\n",
        "import numpy as np\n",
        "from math import hypot # для вычисления расстояния между точками\n",
        "import matplotlib.pyplot as plt\n",
        "\n",
        "# Обход в глубину (DFS)\n",
        "def dfs(graph, node, visited=None): # нода это вершина или узел (синонимы)\n",
        "    if visited is None:\n",
        "        visited = set()\n",
        "\n",
        "    # Отметим текущий узел как посещенный\n",
        "    visited.add(node)\n",
        "\n",
        "    # Рекурсивно посетим всех соседей текущего узла\n",
        "    for neighbor in graph[node]:\n",
        "        if neighbor not in visited:\n",
        "            dfs(graph, neighbor, visited)\n",
        "\n",
        "    return visited\n",
        "\n",
        "# Поиск всех компонент\n",
        "def find_connected_components(graph):\n",
        "    components = set()\n",
        "    unvisited_nodes = set(graph.keys())\n",
        "\n",
        "    while unvisited_nodes:\n",
        "        start_node = next(iter(unvisited_nodes))\n",
        "        component = frozenset(dfs(graph, start_node))\n",
        "\n",
        "        # Добавляем найденную компоненту к множеству и удаляем ее из непосещенных узлов\n",
        "        components.add(component)\n",
        "\n",
        "        unvisited_nodes -= component\n",
        "\n",
        "    return components\n",
        "\n",
        "# Данные из лекции\n",
        "P = [(64, 150), (84, 112), (106, 90), (154, 64), (192, 62), (220, 82), (244, 92), (271, 111), (275, 137), (286, 161), (56, 178), (80, 156), (101, 131), (123, 104), (155, 94), (191, 100), (242, 70), (231, 114), (272, 95), (261, 131), (299, 136), (308, 124), (128, 78), (47, 128), (47, 159), (137, 186), (166, 228), (171, 250), (194, 272), (221, 287), (253, 292), (308, 293), (332, 280), (385, 256), (398, 237), (413, 205), (435, 166), (447, 137), (422, 126), (400, 154), (389, 183), (374, 214), (358, 235), (321, 250), (274, 263), (249, 263), (208, 230), (192, 204), (182, 174), (147, 205), (136, 246), (147, 255), (182, 282), (204, 298), (252, 316), (312, 321), (349, 313), (393, 288), (417, 259), (434, 222), (443, 187), (463, 174)]\n",
        "eps = 60\n",
        "\n",
        "# Граф (список смежности / или список вершин) с присвоением имён каждой точке\n",
        "g = {f'{i}': [] for i in range(len(P))} # создаём ключи по индексам и к ним пустые списки\n",
        "for i in range(len(P)):\n",
        "    for j in range(len(P)):\n",
        "        if i != j:\n",
        "            if hypot(P[i][0] - P[j][0], P[i][1] - P[j][1]) < eps:\n",
        "                g[f'{i}'].append(f'{j}')\n",
        "\n",
        "components_result = find_connected_components(g)\n",
        "\n",
        "# Приводим к виду, как в лекции\n",
        "clusters = [[P[int(i)] for i in component] for component in components_result]\n",
        "print(clusters)\n",
        "\n",
        "# Визуализация\n",
        "colors = ['r', 'g']\n",
        "plt.figure(figsize=(8, 6))\n",
        "\n",
        "for i, xx in enumerate(clusters):\n",
        "    xx = np.array(xx)\n",
        "    if len(xx) > 0:\n",
        "        plt.scatter(xx[:, 0], xx[:, 1], c=colors[i], label=f'Cluster {i+1}', alpha=0.6)"
      ]
    },
    {
      "cell_type": "code",
      "source": [
        "import math\n",
        "\n",
        "def dfs_recursive(graph, node, visited=None):\n",
        "    if visited is None:\n",
        "        visited = set()\n",
        "\n",
        "    # Отметим текущий узел как посещенный\n",
        "    visited.add(node)\n",
        "\n",
        "    # Рекурсивно посетим всех соседей текущего узла\n",
        "    for neighbor in graph[node]:\n",
        "        if neighbor not in visited:\n",
        "            dfs_recursive(graph, neighbor, visited)\n",
        "\n",
        "    return visited\n",
        "\n",
        "def find_connected_components(graph):\n",
        "    components = []\n",
        "    unvisited_nodes = set(graph.keys())\n",
        "\n",
        "    while unvisited_nodes:\n",
        "        start_node = next(iter(unvisited_nodes))\n",
        "        component = dfs_recursive(graph, start_node)\n",
        "\n",
        "        # Добавляем найденную компоненту к списку и удаляем ее из непосещенных узлов\n",
        "        components.append(component)\n",
        "\n",
        "        unvisited_nodes -= component\n",
        "\n",
        "    return components\n",
        "\n",
        "P = [(64, 150), (84, 112), (106, 90), (154, 64), (192, 62), (220, 82),\n",
        "     # ... остальные точки ...\n",
        "     ]\n",
        "\n",
        "eps = 60\n",
        "\n",
        "# Граф с присвоением имён каждой точке\n",
        "g = {f'{i}': [] for i in range(len(P))}\n",
        "\n",
        "for i in range(len(P)):\n",
        "    for j in range(len(P)):\n",
        "        if i != j:\n",
        "            if math.hypot(P[i][0] - P[j][0], P[i][1] - P[j][1]) < eps:\n",
        "                g[f'{i}'].append(f'{j}')\n",
        "\n",
        "components_list_indices = find_connected_components(g)\n",
        "\n",
        "# Разделение списка P по компонентам связности\n",
        "components_P_listed_by_indices = [[P[int(i)] for i in component] for component in components_list_indices]\n",
        "\n",
        "print(components_P_listed_by_indices)\n"
      ],
      "metadata": {
        "colab": {
          "base_uri": "https://localhost:8080/"
        },
        "id": "RrhdODpnh5JI",
        "outputId": "7b86f7a8-e372-455c-d176-750fa2b2be56"
      },
      "execution_count": null,
      "outputs": [
        {
          "output_type": "stream",
          "name": "stdout",
          "text": [
            "[[(220, 82), (154, 64), (84, 112), (64, 150), (192, 62), (106, 90)]]\n"
          ]
        }
      ]
    }
  ]
}