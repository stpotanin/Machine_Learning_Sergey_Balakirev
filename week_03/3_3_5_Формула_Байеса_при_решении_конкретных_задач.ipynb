{
  "nbformat": 4,
  "nbformat_minor": 0,
  "metadata": {
    "colab": {
      "provenance": []
    },
    "kernelspec": {
      "name": "python3",
      "display_name": "Python 3"
    },
    "language_info": {
      "name": "python"
    }
  },
  "cells": [
    {
      "cell_type": "markdown",
      "source": [
        "https://stepik.org/lesson/1370098/step/5"
      ],
      "metadata": {
        "id": "dYo_aV6pnIYl"
      }
    },
    {
      "cell_type": "code",
      "execution_count": null,
      "metadata": {
        "colab": {
          "base_uri": "https://localhost:8080/"
        },
        "id": "800JBPQrnBZB",
        "outputId": "1c76e545-5b23-4237-a1f8-bcddc2dde9c6"
      },
      "outputs": [
        {
          "output_type": "execute_result",
          "data": {
            "text/plain": [
              "0.6666666666666667"
            ]
          },
          "metadata": {},
          "execution_count": 2
        }
      ],
      "source": [
        "p_apr1 = .2 # вероятность причины 1\n",
        "p_apr2 = .3 # вероятность причины 2\n",
        "p_apr3 = .3 # вероятность причины 3\n",
        "p_apr4 = .1 # вероятность причины 4\n",
        "\n",
        "# условные вероятности\n",
        "p1 = .9\n",
        "p2 = .0\n",
        "p3 = .2\n",
        "p4 = .3\n",
        "\n",
        "# вероятность состояния по причине 1\n",
        "p_apr1 * p1 / (p_apr1 * p1 + p_apr2 * p2 + p_apr3 * p3 + p_apr4 * p4)"
      ]
    }
  ]
}
