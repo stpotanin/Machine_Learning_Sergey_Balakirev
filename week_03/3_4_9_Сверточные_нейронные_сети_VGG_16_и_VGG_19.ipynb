{
  "cells": [
    {
      "cell_type": "markdown",
      "metadata": {
        "id": "394c2R1W9wrk"
      },
      "source": [
        "https://stepik.org/lesson/1576189/step/9"
      ]
    },
    {
      "cell_type": "code",
      "execution_count": null,
      "metadata": {
        "colab": {
          "base_uri": "https://localhost:8080/",
          "height": 66
        },
        "id": "FfYqUw4y9tol",
        "outputId": "55b0775f-3770-4e45-cf9d-735940310355"
      },
      "outputs": [
        {
          "output_type": "display_data",
          "data": {
            "text/plain": [
              "<PIL.Image.Image image mode=RGB size=32x32>"
            ],
            "image/png": "[encoded data removed]",
            "image/jpeg": "[encoded data removed]"
          },
          "metadata": {}
        },
        {
          "output_type": "stream",
          "name": "stdout",
          "text": [
            "(32, 32)\n"
          ]
        }
      ],
      "source": [
        "# @title Неправильная генерация объекта ds\n",
        "import torch\n",
        "import torch.utils.data as data\n",
        "from PIL import Image # для тестовой картинки\n",
        "\n",
        "ds = lambda: None # Создаем пустой объект\n",
        "ds.data = torch.rand((256, 1, 32, 32)) * 256\n",
        "ds.target = torch.randint(0, 2, (256,)).float()\n",
        "\n",
        "# Проверка картинки\n",
        "img_pil = Image.fromarray(ds.data[0][0].numpy(), 'RGB')\n",
        "display(img_pil)\n",
        "print(img_pil.size)"
      ]
    },
    {
      "cell_type": "code",
      "source": [
        "# @title Генератор датасета\n",
        "import torch.utils.data as data\n",
        "import torch\n",
        "\n",
        "class DatasetLike:\n",
        "    def __init__(self):\n",
        "        self.data = torch.rand((256, 1, 32, 32)) * 256\n",
        "        self.target = torch.randint(0, 2, (256,)).float()\n",
        "\n",
        "    def __getitem__(self, item):\n",
        "        return self.data[item], self.target[item]\n",
        "\n",
        "    def __len__(self):\n",
        "        return len(self.data)\n",
        "\n",
        "ds = DatasetLike()\n",
        "\n",
        "# Доступ к данным\n",
        "print(ds.data.shape, ds.target.shape)"
      ],
      "metadata": {
        "colab": {
          "base_uri": "https://localhost:8080/"
        },
        "id": "qVX-1g6RTTqD",
        "outputId": "176d7054-2c54-4fa6-ed3f-4b1b759d3a2b"
      },
      "execution_count": null,
      "outputs": [
        {
          "output_type": "stream",
          "name": "stdout",
          "text": [
            "torch.Size([256, 1, 32, 32]) torch.Size([256])\n"
          ]
        }
      ]
    },
    {
      "cell_type": "code",
      "execution_count": null,
      "metadata": {
        "colab": {
          "base_uri": "https://localhost:8080/"
        },
        "id": "IKP3U-ulgV-H",
        "outputId": "8180b361-5a55-4f5f-9d59-1048803239d6"
      },
      "outputs": [
        {
          "output_type": "stream",
          "name": "stderr",
          "text": [
            "Epoch [1/2], loss_mean=28.024: 100%|██████████| 12/12 [00:00<00:00, 31.11it/s]\n",
            "Epoch [2/2], loss_mean=0.701: 100%|██████████| 12/12 [00:00<00:00, 34.18it/s]\n"
          ]
        }
      ],
      "source": [
        "# @title Решение\n",
        "import torch\n",
        "import torch.nn as nn\n",
        "import torch.utils.data as data\n",
        "import torch.optim as optim\n",
        "from tqdm import tqdm\n",
        "\n",
        "\n",
        "d_train, d_test = data.random_split(ds, [0.7, 0.3])\n",
        "\n",
        "train_data = data.DataLoader(d_train, batch_size=16, shuffle=True)\n",
        "test_data = data.DataLoader(d_test, batch_size=len(d_test), shuffle=False)\n",
        "\n",
        "model = nn.Sequential(\n",
        "    # Вход: (batch_size, 1, 32, 32)\n",
        "    nn.Conv2d(1, 32, (5, 5), stride=1, padding=2, bias=True),   # (batch_size, 32, 32, 32)\n",
        "    nn.ReLU(inplace=True),\n",
        "    nn.MaxPool2d((2, 2), stride=2),                             # (batch_size, 32, 16, 16)\n",
        "    nn.Conv2d(32, 16, (3, 3), stride=1, padding=1, bias=True),  # (batch_size, 16, 16, 16)\n",
        "    nn.ReLU(inplace=True),\n",
        "    nn.MaxPool2d((2, 2), stride=2),                             # (batch_size, 16, 8, 8)\n",
        "    nn.Flatten(),                                               # (batch_size, 16 * 8 * 8)\n",
        "    nn.Linear(16 * 8 * 8, 1, bias=True)                         # (batch_size, 16 * 8 * 8 = 1024)\n",
        ")\n",
        "\n",
        "model.train()\n",
        "\n",
        "# Параметры обучения\n",
        "epochs = 2\n",
        "optimiser = optim.Adam(params=model.parameters(), lr=0.01, weight_decay=0.01)\n",
        "loss_function = nn.BCEWithLogitsLoss()\n",
        "\n",
        "# Цикл обучения\n",
        "for _e in range(epochs):\n",
        "    loss_mean = 0\n",
        "    lm_count = 0\n",
        "\n",
        "    train_tqdm = tqdm(train_data, leave=True)\n",
        "    for x_train, y_train in train_tqdm:\n",
        "        predict = model(x_train)\n",
        "        # loss = loss_function(predict, y_train.type(torch.float32))\n",
        "        loss = loss_function(predict, y_train.type(torch.float32).unsqueeze(1))\n",
        "\n",
        "        optimiser.zero_grad()\n",
        "        loss.backward()\n",
        "        optimiser.step()\n",
        "\n",
        "        lm_count += 1\n",
        "        loss_mean = 1/lm_count * loss.item() + (1 - 1/lm_count) * loss_mean\n",
        "        train_tqdm.set_description(f\"Epoch [{_e+1}/{epochs}], loss_mean={loss_mean:.3f}\")\n",
        "\n",
        "model.eval()\n",
        "\n",
        "x_test, y_test = next(iter(test_data))\n",
        "\n",
        "with torch.no_grad():\n",
        "    predict = model(x_test)\n",
        "\n",
        "Q = loss_function(predict, y_test.unsqueeze(1))\n",
        "# print(f\"Q: {Q}\")"
      ]
    }
  ],
  "metadata": {
    "colab": {
      "provenance": []
    },
    "kernelspec": {
      "display_name": "Python 3",
      "name": "python3"
    },
    "language_info": {
      "name": "python"
    }
  },
  "nbformat": 4,
  "nbformat_minor": 0
}
