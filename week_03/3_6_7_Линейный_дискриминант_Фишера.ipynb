{
  "nbformat": 4,
  "nbformat_minor": 0,
  "metadata": {
    "colab": {
      "provenance": [],
      "authorship_tag": "ABX9TyOJXgLE+Oqg1nFt2wlQs3UW"
    },
    "kernelspec": {
      "name": "python3",
      "display_name": "Python 3"
    },
    "language_info": {
      "name": "python"
    }
  },
  "cells": [
    {
      "cell_type": "markdown",
      "source": [
        "https://stepik.org/lesson/1370101/step/7"
      ],
      "metadata": {
        "id": "9IH8WjGzODkI"
      }
    },
    {
      "cell_type": "code",
      "execution_count": null,
      "metadata": {
        "colab": {
          "base_uri": "https://localhost:8080/"
        },
        "id": "tK5Cyfv2N4Sy",
        "outputId": "6beeefa7-f414-4888-dc5d-b0d1ea33acb8"
      },
      "outputs": [
        {
          "output_type": "execute_result",
          "data": {
            "text/plain": [
              "(189, 0, 1, 2)"
            ]
          },
          "metadata": {},
          "execution_count": 3
        }
      ],
      "source": [
        "import numpy as np\n",
        "\n",
        "np.random.seed(0)\n",
        "\n",
        "# исходные параметры распределений трех классов\n",
        "r1 = 0.7\n",
        "D1 = 3.0\n",
        "mean1 = [1, -2]\n",
        "V1 = [[D1, D1 * r1], [D1 * r1, D1]]\n",
        "\n",
        "r2 = 0.5\n",
        "D2 = 2.0\n",
        "mean2 = [-3, -1]\n",
        "V2 = [[D2, D2 * r2], [D2 * r2, D2]]\n",
        "\n",
        "r3 = 0.3\n",
        "D3 = 1.0\n",
        "mean3 = [1, 2]\n",
        "V3 = [[D3, D3 * r3], [D3 * r3, D3]]\n",
        "\n",
        "# моделирование обучающей выборки\n",
        "N = 1000\n",
        "x1 = np.random.multivariate_normal(mean1, V1, N).T\n",
        "x2 = np.random.multivariate_normal(mean2, V2, N).T\n",
        "x3 = np.random.multivariate_normal(mean3, V3, N).T\n",
        "\n",
        "x_train = np.hstack([x1, x2, x3]).T\n",
        "y_train = np.hstack([np.zeros(N), np.ones(N), np.ones(N) * 2])\n",
        "\n",
        "mm1 = np.mean(x1.T, axis=0)\n",
        "mm2 = np.mean(x2.T, axis=0)\n",
        "mm3 = np.mean(x3.T, axis=0)\n",
        "\n",
        "a = (x1.T - mm1).T\n",
        "VV1 = np.array([[np.dot(a[0], a[0]) / N, np.dot(a[0], a[1]) / N],\n",
        "                [np.dot(a[1], a[0]) / N, np.dot(a[1], a[1]) / N]])\n",
        "\n",
        "a = (x2.T - mm2).T\n",
        "VV2 = np.array([[np.dot(a[0], a[0]) / N, np.dot(a[0], a[1]) / N],\n",
        "                [np.dot(a[1], a[0]) / N, np.dot(a[1], a[1]) / N]])\n",
        "\n",
        "a = (x3.T - mm3).T\n",
        "VV3 = np.array([[np.dot(a[0], a[0]) / N, np.dot(a[0], a[1]) / N],\n",
        "                [np.dot(a[1], a[0]) / N, np.dot(a[1], a[1]) / N]])\n",
        "\n",
        "# параметры для гауссовского байесовского классификатора\n",
        "Py1, Py2, Py3 = 0.2, 0.5, 0.3\n",
        "L1, L2, L3 = 1, 1, 1\n",
        "\n",
        "# Функции\n",
        "b = lambda x, v, m, l, py: np.log(py * l) - 0.5 * (x - m) @ np.linalg.inv(v) @ (x - m).T - 0.5 * np.log(np.linalg.det(v))\n",
        "am = lambda x: np.argmax([b(x, VV1, mm1, L1, Py1),\n",
        "                          b(x, VV2, mm2, L2, Py2),\n",
        "                          b(x, VV3, mm3, L3, Py3)\n",
        "                          ])\n",
        "\n",
        "# Предсказание по модели\n",
        "predict = [am(x) for x in x_train]\n",
        "\n",
        "# Качество\n",
        "Q = sum(predict != y_train)\n",
        "\n",
        "Q, predict[0], predict[1000], predict[-1]"
      ]
    }
  ]
}