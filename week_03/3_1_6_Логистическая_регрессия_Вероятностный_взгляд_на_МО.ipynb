{
  "nbformat": 4,
  "nbformat_minor": 0,
  "metadata": {
    "colab": {
      "provenance": [],
      "authorship_tag": "ABX9TyOve0bGNV1gyaZF6bOdldYx"
    },
    "kernelspec": {
      "name": "python3",
      "display_name": "Python 3"
    },
    "language_info": {
      "name": "python"
    }
  },
  "cells": [
    {
      "cell_type": "markdown",
      "source": [
        "https://stepik.org/lesson/1370096/step/6"
      ],
      "metadata": {
        "id": "Gq4mbOuQZrkW"
      }
    },
    {
      "cell_type": "code",
      "execution_count": null,
      "metadata": {
        "colab": {
          "base_uri": "https://localhost:8080/"
        },
        "id": "KPENN1m2Zn6y",
        "outputId": "cfa7824e-e46c-4709-a933-2169ea830858"
      },
      "outputs": [
        {
          "output_type": "execute_result",
          "data": {
            "text/plain": [
              "0.88"
            ]
          },
          "metadata": {},
          "execution_count": 11
        }
      ],
      "source": [
        "import numpy as np\n",
        "\n",
        "w = np.array([-330,1,3,2,-0.15])\n",
        "x = np.array([1, 240, 80, 1, 1000])\n",
        "\n",
        "(1 / (1 + np.exp(-x @ w))).round(2)"
      ]
    }
  ]
}
