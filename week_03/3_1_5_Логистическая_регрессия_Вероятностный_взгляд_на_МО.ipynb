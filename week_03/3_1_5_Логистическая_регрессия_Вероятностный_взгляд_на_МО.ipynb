{
  "nbformat": 4,
  "nbformat_minor": 0,
  "metadata": {
    "colab": {
      "provenance": [],
      "authorship_tag": "ABX9TyM06TaUYNxBCCTX0ZXuJzHn"
    },
    "kernelspec": {
      "name": "python3",
      "display_name": "Python 3"
    },
    "language_info": {
      "name": "python"
    }
  },
  "cells": [
    {
      "cell_type": "markdown",
      "source": [
        "https://stepik.org/lesson/1370096/step/5"
      ],
      "metadata": {
        "id": "Gq4mbOuQZrkW"
      }
    },
    {
      "cell_type": "code",
      "execution_count": null,
      "metadata": {
        "colab": {
          "base_uri": "https://localhost:8080/"
        },
        "id": "KPENN1m2Zn6y",
        "outputId": "26d2fa25-e521-4730-f262-247258ccbbaf"
      },
      "outputs": [
        {
          "output_type": "execute_result",
          "data": {
            "text/plain": [
              "0.18"
            ]
          },
          "metadata": {},
          "execution_count": 16
        }
      ],
      "source": [
        "import numpy as np\n",
        "\n",
        "w = np.array([2.5,-0.8,3,2,-0.15])\n",
        "x = np.array([1, 100, 50, 2, 500])\n",
        "\n",
        "(1 - (1 / (1 + np.exp(-x @ w)))).round(2)"
      ]
    },
    {
      "cell_type": "code",
      "source": [
        "(1 / (1 + np.exp(-x @ w * -1))).round(2)"
      ],
      "metadata": {
        "colab": {
          "base_uri": "https://localhost:8080/"
        },
        "id": "e7q9fwy3dBrf",
        "outputId": "5084ede7-ba96-418b-d301-589a9262b041"
      },
      "execution_count": null,
      "outputs": [
        {
          "output_type": "execute_result",
          "data": {
            "text/plain": [
              "0.18"
            ]
          },
          "metadata": {},
          "execution_count": 18
        }
      ]
    },
    {
      "cell_type": "markdown",
      "source": [
        "Докажем, что это одно то же.\n",
        "\n",
        "Обозначим $x @ w$ как $M$\n",
        "$$\n",
        "1 - \\frac{1}{1 + e^{-M}} = \\frac{1 + e^{-M} - 1}{1 + e^{-M}} = \\frac{e^{-M}}{1 + e^{-M}}\n",
        "$$\n",
        "\n",
        "Домножив числитель и знаменатель на $e^M$, получим:\n",
        "\n",
        "$$\n",
        "\\frac{1}{1 + e^{M}}\n",
        "$$"
      ],
      "metadata": {
        "id": "BkRO0WPnfWjs"
      }
    }
  ]
}
