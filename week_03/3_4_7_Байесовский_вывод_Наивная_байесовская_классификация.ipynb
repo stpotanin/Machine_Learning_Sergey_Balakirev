{
  "nbformat": 4,
  "nbformat_minor": 0,
  "metadata": {
    "colab": {
      "provenance": [],
      "authorship_tag": "ABX9TyOzhvNHVtRCZ+Ihv7lcVEgb"
    },
    "kernelspec": {
      "name": "python3",
      "display_name": "Python 3"
    },
    "language_info": {
      "name": "python"
    }
  },
  "cells": [
    {
      "cell_type": "markdown",
      "source": [
        "https://stepik.org/lesson/1370099/step/7"
      ],
      "metadata": {
        "id": "6aibbU_cTFG9"
      }
    },
    {
      "cell_type": "markdown",
      "source": [
        "$$\n",
        "p(yi_i|x_i,w) = \\frac{1}{\\sqrt{2π ⋅ D_e}} ⋅ exp(- \\frac{1}{2D_e}​⋅(y_i - w^T ⋅ x_i)^2)\n",
        "$$\n",
        "\n",
        "где $D_e$ - дисперсия ошибки\n",
        "\n",
        "Берём логарифм по $w$. То, что не зависсит от $w$, сразу обозначаем $const$:\n",
        "\n",
        "$$\n",
        "lnp(y| x,w) = const - \\frac{1}{2D_e}​⋅(y_i - w^T ⋅ x_i)^2\n",
        "$$\n",
        "\n",
        "Производная по $ w $ с использованием правила цепочки и факта, что производная $x^2$ равна $2x$.\n",
        "\n",
        "Производная квадрата:\n",
        "   $$\n",
        "   \\frac{\\partial}{\\partial w} (y_i - w^T \\cdot x_i)^2 = 2(y_i - w^T \\cdot x_i) \\cdot \\frac{\\partial}{\\partial w} (y_i - w^T \\cdot x_i)\n",
        "   $$\n",
        "\n",
        "Производная того, что в скобкаах:\n",
        "   $$\n",
        "   \\frac{\\partial}{\\partial w} (y_i - w^T \\cdot x_i) = -x_i\n",
        "   $$\n",
        "\n",
        "Производная всего выражения:\n",
        "   $$\n",
        "   \\frac{∂lnp(y| x,w)}{∂w} = \\frac{1}{2D_e} \\cdot 2(y_i - w^T \\cdot x_i) \\cdot (-x_i) = -\\frac{1}{D_e} \\cdot (y_i - w^T \\cdot x_i) \\cdot x_i\n",
        "   $$\n"
      ],
      "metadata": {
        "id": "vigW4G53Zu9I"
      }
    },
    {
      "cell_type": "code",
      "execution_count": null,
      "metadata": {
        "id": "-MiRvQpNS--c",
        "colab": {
          "base_uri": "https://localhost:8080/"
        },
        "outputId": "7fab6ad1-1164-4968-930e-5ea0ca52bdab"
      },
      "outputs": [
        {
          "output_type": "execute_result",
          "data": {
            "text/plain": [
              "0.019662942949529683"
            ]
          },
          "metadata": {},
          "execution_count": 68
        }
      ],
      "source": [
        "# @title Решение задачи регрессии с помощью теоремы Байеса\n",
        "import numpy as np\n",
        "\n",
        "# Функции\n",
        "f = lambda x: 0.5 * x + 0.2 * x ** 2 - 0.05 * x ** 3 + 0.2 * np.sin(4 * x) - 2.5\n",
        "p_prod = lambda X, Y, w, D: - 1 / D * (Y - X @ w) @ X\n",
        "\n",
        "# Данные\n",
        "coord_x = np.arange(-4.0, 6.0, 0.1)\n",
        "x_train = np.array([[_x**i for i in range(4)] for _x in coord_x])\n",
        "y_train = f(coord_x)\n",
        "\n",
        "# Параметры\n",
        "N = 10000\n",
        "w = np.array([.0, .0, .0, .0])\n",
        "k = np.array([.1, .001, .0001, .00001])\n",
        "\n",
        "# Вычисление дисперсии\n",
        "D = np.var(coord_x) # по двум осям\n",
        "\n",
        "# Вычисление начального качества:\n",
        "Q = np.mean((x_train @ w - y_train)**2)\n",
        "# print('Q начальное:', Q)\n",
        "\n",
        "for _ in range(N):\n",
        "    grad = p_prod(x_train, y_train, w, D)\n",
        "    w -= k * grad\n",
        "    # if _ % 1000 == 0:\n",
        "    #     Q = np.mean((x_train @ w - y_train)**2)\n",
        "    #     print(f'Итерация {_}, w: {w}, Q: {Q}')\n",
        "\n",
        "# Вычисление конечного качества:\n",
        "Q = np.mean((x_train @ w - y_train)**2)\n",
        "# print('Q конечное:', Q)"
      ]
    }
  ]
}
