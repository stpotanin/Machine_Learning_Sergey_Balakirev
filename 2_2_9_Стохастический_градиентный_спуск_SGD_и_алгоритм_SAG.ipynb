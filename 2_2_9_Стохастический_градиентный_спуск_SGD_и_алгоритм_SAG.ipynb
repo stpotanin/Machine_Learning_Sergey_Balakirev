{
  "nbformat": 4,
  "nbformat_minor": 0,
  "metadata": {
    "colab": {
      "provenance": []
    },
    "kernelspec": {
      "name": "python3",
      "display_name": "Python 3"
    },
    "language_info": {
      "name": "python"
    }
  },
  "cells": [
    {
      "cell_type": "markdown",
      "source": [
        "\n",
        "https://stepik.org/lesson/1370091/step/9"
      ],
      "metadata": {
        "id": "buAsEU8ksfnm"
      }
    },
    {
      "cell_type": "code",
      "source": [
        "import numpy as np\n",
        "from numpy import sin\n",
        "\n",
        "# Функции\n",
        "f = lambda x: .5 * x + .2 * x ** 2 - .05 * x ** 3 + .2 * sin(4 * x) - 2.5\n",
        "grad = lambda X, y: 2 * (X.T @ (X @ w - y)) / len(y) # рассчёт градиента по батчу\n",
        "\n",
        "# Данные\n",
        "coord_x = np.arange(-4.0, 6.0, 0.1)\n",
        "coord_y = f(coord_x)\n",
        "X = np.array([[1, x, x**2, x**3] for x in coord_x]) # создаём матрицу признаков\n",
        "\n",
        "# Параметры\n",
        "sz = len(coord_x)\t                        # количество значений функций (точек)\n",
        "eta = np.array([0.1, 0.01, 0.001, 0.0001])  # шаг обучения для каждого параметра w0, w1, w2, w3, w4\n",
        "w = np.array([0., 0., 0., 0.])              # начальные значения параметров модели\n",
        "N = 500                                     # число итераций алгоритма SGD\n",
        "lm = 0.02                                   # лямбда для  экспоненциального среднего\n",
        "batch_size = 50                             # размер мини-батча (величина K = 50)\n",
        "np.random.seed(0)                           # фиксация рандома\n",
        "\n",
        "# Начальное значения функционала качества Q (среднего эмпирического риска)\n",
        "Qe = ((X @ w - coord_y)**2).mean()\n",
        "\n",
        "for _ in range(N):\n",
        "    # создаём мини-батч:\n",
        "    k = np.random.randint(0, sz-batch_size)\n",
        "    X_batch = X[k:k+batch_size]\n",
        "    y_batch = coord_y[k:k+batch_size]\n",
        "    # градиентный шаг:\n",
        "    w -= eta * grad(X_batch, y_batch)        # обновляем веса\n",
        "    L = ((X_batch @ w - y_batch)**2).mean()  # средние потери по мини-батчу\n",
        "    Qe += lm * (L - Qe)                      # новое качество\n",
        "\n",
        "Q = ((X @ w - coord_y)**2).mean() # итоговое качество\n",
        "\n",
        "print('Qe =', Qe)\n",
        "print('Q =', Q)\n",
        "print(w)\n",
        "# Qe = 0.02022962549435769\n",
        "# Q = 0.020109890217551937\n",
        "# [-2.49725214  0.49451654  0.19757031 -0.04967255]"
      ],
      "metadata": {
        "colab": {
          "base_uri": "https://localhost:8080/"
        },
        "id": "aZ36hYtxaYHM",
        "outputId": "4437bcb0-69fd-41cb-975d-43067e6f4e96"
      },
      "execution_count": null,
      "outputs": [
        {
          "output_type": "stream",
          "name": "stdout",
          "text": [
            "Qe = 0.02022962549435769\n",
            "Q = 0.020109890217551937\n",
            "[-2.49725214  0.49451654  0.19757031 -0.04967255]\n"
          ]
        }
      ]
    }
  ]
}