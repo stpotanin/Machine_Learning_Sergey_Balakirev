{
  "cells": [
    {
      "cell_type": "markdown",
      "metadata": {
        "id": "NTpdi9-7Lj7H"
      },
      "source": [
        "https://stepik.org/lesson/1370054/step/8"
      ]
    },
    {
      "cell_type": "code",
      "execution_count": null,
      "metadata": {
        "colab": {
          "base_uri": "https://localhost:8080/"
        },
        "id": "vtx0vIXZOM4z",
        "outputId": "49c28312-7393-4b40-9ef8-af2f1049618c"
      },
      "outputs": [
        {
          "output_type": "stream",
          "name": "stdout",
          "text": [
            "Q = 5\n",
            "Q(a,X)=∑_i​[M_i​<0] False\n",
            "Q(a,X)=∑_i​[M_i​>0] True\n",
            "Q(a,X)=∑_i​[a(x_i​)⋅y_i​>0] True\n",
            "Q(a,X)=∑_i​[w.T⋅x⋅y_i​>0] [False False False False False False False]\n",
            "Q(a,X)=∑i​[<w,x><0]] [False False False False False False False]\n"
          ]
        }
      ],
      "source": [
        "# @title Проверка\n",
        "\n",
        "import numpy as np\n",
        "\n",
        "w = [-8/3, -2/3, 1]\n",
        "x_test = [(-5, 2), (-4, 6), (3, 2), (3, -3), (5, 5), (5, 2), (-1, 3)]\n",
        "y_test = [1, 1, 1, -1, -1, -1, -1]\n",
        "\n",
        "f = lambda x: w[0] + x[0] * w[1] + x[1] * w[2]\n",
        "margin = [y_test[i] * f(x_test[i]) for i in range(len(y_test))]\n",
        "\n",
        "# Добавим две функции для проверки утверждений\n",
        "my_sign = lambda x: (x > 0) - (x < 0)                   # вернёт знак числа\n",
        "a = lambda x: my_sign(w[0] + x[0] * w[1] + x[1] * w[2]) # решающее правило a(x)\n",
        "# NB! В этой задаче Q - количество ВЕРНЫХ классификаций!\n",
        "Q = sum([m > 0 for m in margin])\n",
        "print('Q =', Q)\n",
        "print('Q(a,X)=∑_i​[M_i​<0]', Q == sum([m < 0 for m in margin]))\n",
        "print('Q(a,X)=∑_i​[M_i​>0]', Q == sum([m > 0 for m in margin]))\n",
        "print('Q(a,X)=∑_i​[a(x_i​)⋅y_i​>0]', Q == sum([a(x_test[i]) * y_test[i] > 0 for i in range(len(y_test))]))\n",
        "\n",
        "# Проверяем варианты с матричным умножением\n",
        "W = np.array(w)\n",
        "X = np.array(x_test)\n",
        "# Добавляем колонку из единиц в x_test\n",
        "X = np.c_[np.ones(X.shape[0]), X]\n",
        "print('Q(a,X)=∑_i​[w.T⋅x⋅y_i​>0]', Q == sum([(X @ W.T) * y > 0 for y in y_test]))\n",
        "print('Q(a,X)=∑i​[<w,x><0]]', Q == sum([np.dot(X, W) for i in range(len(y_test))]))"
      ]
    },
    {
      "cell_type": "code",
      "execution_count": null,
      "metadata": {
        "colab": {
          "base_uri": "https://localhost:8080/"
        },
        "id": "OxAn6-e8UIcQ",
        "outputId": "61952129-310c-45c4-fbf1-98afdfae70ea"
      },
      "outputs": [
        {
          "output_type": "stream",
          "name": "stdout",
          "text": [
            "Q(a,X)=∑_i​[w.T⋅x_i⋅y_i​>0] True\n",
            "Q(a,X)=∑i​[<w,x><0]] False\n"
          ]
        }
      ],
      "source": [
        "print('Q(a,X)=∑_i​[w.T⋅x_i⋅y_i​>0]', Q == sum([W.T @ X[i] * y_test[i] > 0 for i in range(len(y_test))]))\n",
        "print('Q(a,X)=∑i​[<w,x><0]]', Q == sum([np.dot(X[i], W) for i in range(len(y_test))]))"
      ]
    },
    {
      "cell_type": "markdown",
      "metadata": {
        "id": "7ZrC9exRAAuj"
      },
      "source": [
        "$Q(a,X)=∑_i​[w.T⋅x_i⋅y_i​>0]$"
      ]
    }
  ],
  "metadata": {
    "colab": {
      "provenance": [],
      "authorship_tag": "ABX9TyPTWIhCI4/jQo3qzue9brPx"
    },
    "kernelspec": {
      "display_name": "Python 3",
      "name": "python3"
    },
    "language_info": {
      "name": "python"
    }
  },
  "nbformat": 4,
  "nbformat_minor": 0
}