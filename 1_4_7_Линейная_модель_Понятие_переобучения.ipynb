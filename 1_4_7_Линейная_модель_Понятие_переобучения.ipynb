{
  "nbformat": 4,
  "nbformat_minor": 0,
  "metadata": {
    "colab": {
      "provenance": [],
      "authorship_tag": "ABX9TyMTLvcxVJ1ToME+79wk+Cm3"
    },
    "kernelspec": {
      "name": "python3",
      "display_name": "Python 3"
    },
    "language_info": {
      "name": "python"
    }
  },
  "cells": [
    {
      "cell_type": "markdown",
      "source": [
        "https://stepik.org/lesson/1370051/step/7"
      ],
      "metadata": {
        "id": "KsWqfFCDNy99"
      }
    },
    {
      "cell_type": "code",
      "execution_count": null,
      "metadata": {
        "id": "VRe4PurZNrOe"
      },
      "outputs": [],
      "source": [
        "import numpy as np\n",
        "from sympy import Matrix # для красивого вывода матриц\n",
        "\n",
        "np.random.seed(0) # псевдослучайные числа образуют одну и ту же последовательность (при каждом запуске)\n",
        "x = np.arange(-1.0, 1.0, 0.1) # аргумент [-1; 1] с шагом 0,1\n",
        "\n",
        "model_a = lambda xx, ww: (ww[0] + ww[1] * xx) # модель\n",
        "Y = -5.2 + 0.7 * x + np.random.normal(0, 0.1, len(x)) # вектор целевых значений\n",
        "\n",
        "# здесь продолжайте программу\n",
        "X = np.array([[1, i] for i in x])\n",
        "# display(Matrix(X))# красивая проверочка\n",
        "w = np.linalg.inv(X.T @ X) @ X.T @ np.array(Y)\n"
      ]
    }
  ]
}