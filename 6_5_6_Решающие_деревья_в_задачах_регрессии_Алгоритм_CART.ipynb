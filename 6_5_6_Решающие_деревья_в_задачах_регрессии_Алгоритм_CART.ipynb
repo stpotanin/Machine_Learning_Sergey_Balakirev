{
  "nbformat": 4,
  "nbformat_minor": 0,
  "metadata": {
    "colab": {
      "provenance": [],
      "authorship_tag": "ABX9TyODwyU17I2xT0rHyw+Z8Kwp"
    },
    "kernelspec": {
      "name": "python3",
      "display_name": "Python 3"
    },
    "language_info": {
      "name": "python"
    }
  },
  "cells": [
    {
      "cell_type": "markdown",
      "source": [
        "https://stepik.org/lesson/1370123/step/6"
      ],
      "metadata": {
        "id": "m-obcvb3xVRE"
      }
    },
    {
      "cell_type": "code",
      "execution_count": null,
      "metadata": {
        "colab": {
          "base_uri": "https://localhost:8080/"
        },
        "id": "Ctp_ZF1qxOZ0",
        "outputId": "a9bac152-07f3-4972-a327-a33b08e60352"
      },
      "outputs": [
        {
          "output_type": "execute_result",
          "data": {
            "text/plain": [
              "0.033664185404530846"
            ]
          },
          "metadata": {},
          "execution_count": 21
        }
      ],
      "source": [
        "import numpy as np\n",
        "from sklearn import tree\n",
        "\n",
        "x = np.arange(-2, 3, 0.1).reshape(-1, 1)\n",
        "y = 0.3 * x ** 2 - 0.2 * x ** 3 - 0.5 * np.sin(4*x)\n",
        "\n",
        "pr_y = tree.DecisionTreeRegressor(max_depth=4).fit(x, y).predict(x)\n",
        "Q = np.mean((pr_y - y.reshape(-1))**2)\n",
        "Q\n",
        "# 0.033664185404530846"
      ]
    }
  ]
}