{
  "nbformat": 4,
  "nbformat_minor": 0,
  "metadata": {
    "colab": {
      "provenance": [],
      "authorship_tag": "ABX9TyOJFBY/okPEcySpeBgARLB4"
    },
    "kernelspec": {
      "name": "python3",
      "display_name": "Python 3"
    },
    "language_info": {
      "name": "python"
    }
  },
  "cells": [
    {
      "cell_type": "markdown",
      "source": [
        "https://stepik.org/lesson/1370106/step/12"
      ],
      "metadata": {
        "id": "1j9V7YDU2AZg"
      }
    },
    {
      "cell_type": "code",
      "execution_count": null,
      "metadata": {
        "colab": {
          "base_uri": "https://localhost:8080/"
        },
        "id": "cMO629dh17o4",
        "outputId": "e075e480-d83b-4d93-e770-262d7232ea71"
      },
      "outputs": [
        {
          "output_type": "execute_result",
          "data": {
            "text/plain": [
              "(0.8366854384553499, 0.8212255211623498)"
            ]
          },
          "metadata": {},
          "execution_count": 16
        }
      ],
      "source": [
        "import numpy as np\n",
        "from sklearn import svm\n",
        "from sklearn.model_selection import train_test_split\n",
        "\n",
        "np.random.seed(0)\n",
        "\n",
        "# исходные параметры распределений классов\n",
        "r1 = 0.2\n",
        "D1 = 3.0\n",
        "mean1 = [2, -2]\n",
        "V1 = [[D1, D1 * r1], [D1 * r1, D1]]\n",
        "\n",
        "r2 = 0.5\n",
        "D2 = 2.0\n",
        "mean2 = [-1, -1]\n",
        "V2 = [[D2, D2 * r2], [D2 * r2, D2]]\n",
        "\n",
        "# моделирование обучающей выборки\n",
        "N1 = 2500\n",
        "N2 = 1500\n",
        "x1 = np.random.multivariate_normal(mean1, V1, N1).T\n",
        "x2 = np.random.multivariate_normal(mean2, V2, N2).T\n",
        "\n",
        "data_x = np.hstack([x1, x2]).T\n",
        "data_y = np.hstack([np.ones(N1) * -1, np.ones(N2)])\n",
        "\n",
        "x_train, x_test, y_train, y_test = train_test_split(data_x, data_y, random_state=123,test_size=0.4, shuffle=True)\n",
        "\n",
        "clf = svm.SVC(kernel='linear').fit(x_train, y_train) # объект clf + обучение\n",
        "\n",
        "w = [clf.intercept_[0], *clf.coef_[0]]\n",
        "\n",
        "# Предсказание по модели\n",
        "predict = clf.predict(x_test)\n",
        "\n",
        "TP = sum([p == y and p == 1 for p, y in zip(predict, y_test)])\n",
        "TN = sum([p == y and p == -1 for p, y in zip(predict, y_test)])\n",
        "FP = sum([p != y and p == 1 for p, y in zip(predict, y_test)])\n",
        "FN = sum([p != y and p == -1 for p, y in zip(predict, y_test)])\n",
        "\n",
        "precision = TP / (TP + FP)\n",
        "recall = TP / (TP + FN)\n",
        "# precision, recall\n",
        "F = 2 * precision * recall / (precision + recall)\n",
        "b = .5\n",
        "Fb = (1 + b**2) * precision * recall / (b**2 * precision + recall)\n",
        "F, Fb"
      ]
    }
  ]
}