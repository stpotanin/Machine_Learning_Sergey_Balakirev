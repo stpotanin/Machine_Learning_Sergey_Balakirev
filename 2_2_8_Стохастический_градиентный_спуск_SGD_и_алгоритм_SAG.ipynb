{
  "nbformat": 4,
  "nbformat_minor": 0,
  "metadata": {
    "colab": {
      "provenance": [],
      "authorship_tag": "ABX9TyOegUfrVbcx3+xJcHzbe2Ja"
    },
    "kernelspec": {
      "name": "python3",
      "display_name": "Python 3"
    },
    "language_info": {
      "name": "python"
    }
  },
  "cells": [
    {
      "cell_type": "markdown",
      "source": [
        "https://stepik.org/lesson/1370091/step/8"
      ],
      "metadata": {
        "id": "G6uNe9NqcnHX"
      }
    },
    {
      "cell_type": "code",
      "execution_count": null,
      "metadata": {
        "colab": {
          "base_uri": "https://localhost:8080/"
        },
        "id": "lxBDBxWpcKQN",
        "outputId": "00f32ad8-0f4b-4bdf-9f16-d244404b9a3b"
      },
      "outputs": [
        {
          "output_type": "stream",
          "name": "stdout",
          "text": [
            "1.4323446928853572\n",
            "[-1.55870287 -0.77127223  0.28664769  0.8162054  -0.14011833]\n"
          ]
        }
      ],
      "source": [
        "# @title Решение без матрицы признаков\n",
        "import numpy as np\n",
        "from numpy import exp, sin, cos\n",
        "\n",
        "# Функции\n",
        "f = lambda x: .5 * x**2 - .1 * exp(x) + .5 * cos(2 * x) - 2\n",
        "a = lambda x, w: w[0] + w[1] * x + w[2] * x**2 + w[3] * cos(2 * x) + w[4] * sin(2 * x)\n",
        "L = lambda x, w: (a(x, w) - f(x))**2\n",
        "dL = lambda x, w: np.array([\n",
        "    2 * (a(x, w) - f(x)),                # Производная по w[0] (свободный член)\n",
        "    2 * (a(x, w) - f(x)) * x,            # Производная по w[1] (линейный член)\n",
        "    2 * (a(x, w) - f(x)) * x**2,         # Производная по w[2] (квадратный член)\n",
        "    2 * (a(x, w) - f(x)) * cos(2 * x),   # Производная по w[3] (косинусный член)\n",
        "    2 * (a(x, w) - f(x)) * sin(2 * x)    # Производная по w[4] (синусный член)\n",
        "])\n",
        "\n",
        "# Данные\n",
        "coord_x = np.arange(-5.0, 5.0, 0.1)\n",
        "coord_y = f(coord_x)\n",
        "\n",
        "# Параметры\n",
        "sz = len(coord_x)\t# количество значений функций (точек)\n",
        "eta = np.array([0.01, 0.001, 0.0001, 0.01, 0.01]) # шаг обучения для каждого параметра w0, w1, w2, w3, w4\n",
        "w = np.array([0., 0., 0., 0., 0.])                # начальные значения параметров модели\n",
        "N = 500                                           # число итераций алгоритма SGD\n",
        "lm = 0.02 # значение параметра лямбда для вычисления скользящего экспоненциального среднего\n",
        "np.random.seed(0) # генерация одинаковых последовательностей псевдослучайных чисел\n",
        "\n",
        "\n",
        "# вычисление начального значения функционала качества Q (среднего эмпирического риска)\n",
        "Qe = np.mean((np.array([a(x, w) for x in coord_x]) - coord_y)**2)\n",
        "\n",
        "# начало цикла\n",
        "for _ in range(N):\n",
        "\n",
        "    # случайный выбор наблюдения x_k из обучающего набора данных\n",
        "    k = np.random.randint(0, sz) # sz - размер выборки (массива coord_x)\n",
        "\n",
        "    # вычисление функции потерь ϵ_k​=L_k​(w)\n",
        "    eps = L(coord_x[k], w)\n",
        "\n",
        "    # шаг псевдоградиентного алгоритма: w_n​ = w_{n−1} ​− η ⋅ ∂L_k​(w)​/∂w\n",
        "\n",
        "    # без создания матрицы фичей\n",
        "    w = w - eta * dL(coord_x[k], w)\n",
        "\n",
        "    # с созданием матрицы фичей (для одной строки)\n",
        "    # x_k_features = np.array([1, X[k], X[k]**2, cos(2 * X[k]), sin(2 * X[k])])\n",
        "    # w = w - eta * 2 * (np.sum(w * x_k_features) - coord_y[k]) * x_k_features\n",
        "\n",
        "    # пересчет функционала качества (после изменения весов w): Q=λϵk​+(1−λ)⋅Q\n",
        "    Qe = lm * L(coord_x[k], w) + (1 - lm) * Qe\n",
        "\n",
        "# Итоговое качество\n",
        "Q = np.mean((np.array([a(x, w) for x in coord_x]) - coord_y)**2)\n",
        "\n",
        "print(Q)\n",
        "print(w)\n",
        "\n",
        "# 1.4323446928853572\n",
        "# [-1.55870287 -0.77127223  0.28664769  0.8162054  -0.14011833]"
      ]
    }
  ]
}