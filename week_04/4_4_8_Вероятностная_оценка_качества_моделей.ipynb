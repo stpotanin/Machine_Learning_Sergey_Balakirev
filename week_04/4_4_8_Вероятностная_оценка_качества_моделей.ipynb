{
  "nbformat": 4,
  "nbformat_minor": 0,
  "metadata": {
    "colab": {
      "provenance": [],
      "authorship_tag": "ABX9TyMZME8P1qVHQ7sXKtUL4B42"
    },
    "kernelspec": {
      "name": "python3",
      "display_name": "Python 3"
    },
    "language_info": {
      "name": "python"
    }
  },
  "cells": [
    {
      "cell_type": "markdown",
      "source": [
        "https://stepik.org/lesson/1370105/step/8"
      ],
      "metadata": {
        "id": "WU3271p9cuuU"
      }
    },
    {
      "cell_type": "code",
      "execution_count": null,
      "metadata": {
        "colab": {
          "base_uri": "https://localhost:8080/"
        },
        "id": "IOakdUCGaYEb",
        "outputId": "1fe5de80-40bd-4b26-ad57-e4b26ee72069"
      },
      "outputs": [
        {
          "output_type": "execute_result",
          "data": {
            "text/plain": [
              "[-3, -2/3, 1]"
            ]
          },
          "metadata": {},
          "execution_count": 19
        }
      ],
      "source": [
        "from sympy import symbols, solve\n",
        "\n",
        "w0, w1, w2 = symbols('w0 w1 w2')\n",
        "a1, a2 = (-3, 1), (3, 5) # две точки\n",
        "w2 = 1 # фиксируем любой из трёх коэффициентов\n",
        "\n",
        "w0, w1 = solve((w0 + w1 * a1[0] + w2 * a1[1],\n",
        "                w0 + w1 * a2[0] + w2 * a2[1]),\n",
        "                (w0, w1)).values()\n",
        "\n",
        "w = [w0, w1, w2]\n",
        "w"
      ]
    },
    {
      "cell_type": "code",
      "source": [
        "from sympy import symbols, solve\n",
        "\n",
        "# Определяем символы\n",
        "w0, w1 = symbols('w0 w1')\n",
        "a1, a2 = (-3, 1), (3, 5)  # две точки\n",
        "w2 = 1  # фиксируем любой из трёх коэффициентов\n",
        "\n",
        "# Создаем систему уравнений\n",
        "eq1 = w0 + w1 * a1[0] + w2 * a1[1]\n",
        "eq2 = w0 + w1 * a2[0] + w2 * a2[1]\n",
        "\n",
        "# Решаем систему уравнений\n",
        "solution = solve((eq1, eq2), (w0, w1))\n",
        "\n"
      ],
      "metadata": {
        "colab": {
          "base_uri": "https://localhost:8080/"
        },
        "id": "jRk8-mlydBU8",
        "outputId": "348c88ee-c84e-4d8d-d46c-ce9ec36036c6"
      },
      "execution_count": null,
      "outputs": [
        {
          "output_type": "stream",
          "name": "stdout",
          "text": [
            "{w0: -3, w1: -2/3}\n"
          ]
        }
      ]
    }
  ]
}
