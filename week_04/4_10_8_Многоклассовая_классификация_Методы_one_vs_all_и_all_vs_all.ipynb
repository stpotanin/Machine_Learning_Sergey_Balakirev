{
  "nbformat": 4,
  "nbformat_minor": 0,
  "metadata": {
    "colab": {
      "provenance": [],
      "authorship_tag": "ABX9TyNeY2nk9XQV8YWfmiNi7C3b"
    },
    "kernelspec": {
      "name": "python3",
      "display_name": "Python 3"
    },
    "language_info": {
      "name": "python"
    }
  },
  "cells": [
    {
      "cell_type": "markdown",
      "source": [
        "https://stepik.org/lesson/1370111/step/8"
      ],
      "metadata": {
        "id": "lNuvCtzIdbUm"
      }
    },
    {
      "cell_type": "code",
      "execution_count": null,
      "metadata": {
        "colab": {
          "base_uri": "https://localhost:8080/"
        },
        "id": "B1Ku30nddSfy",
        "outputId": "c5f5c364-a3ce-4cbf-a3b9-5fc5dd25af41"
      },
      "outputs": [
        {
          "output_type": "execute_result",
          "data": {
            "text/plain": [
              "(0.8118081180811808, 0.8527131782945736)"
            ]
          },
          "metadata": {},
          "execution_count": 1
        }
      ],
      "source": [
        "import numpy as np\n",
        "\n",
        "TP = np.mean([57, 48, 60, 55])\n",
        "TN = np.mean([32, 35, 28, 41])\n",
        "FP = np.mean([13, 15, 12, 11])\n",
        "FN = np.mean([7, 12, 11, 8])\n",
        "\n",
        "precision = TP / (TP + FP)\n",
        "recall = TP / (TP + FN)\n",
        "\n",
        "# precision, recall"
      ]
    }
  ]
}
