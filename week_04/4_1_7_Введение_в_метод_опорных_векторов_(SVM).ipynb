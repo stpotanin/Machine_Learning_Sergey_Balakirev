{
  "nbformat": 4,
  "nbformat_minor": 0,
  "metadata": {
    "colab": {
      "provenance": [],
      "authorship_tag": "ABX9TyO3nOFFVwtmutEdN2cwr3da"
    },
    "kernelspec": {
      "name": "python3",
      "display_name": "Python 3"
    },
    "language_info": {
      "name": "python"
    }
  },
  "cells": [
    {
      "cell_type": "markdown",
      "source": [
        "https://stepik.org/lesson/1370102/step/7"
      ],
      "metadata": {
        "id": "VOQfFRfCD3Zo"
      }
    },
    {
      "cell_type": "code",
      "source": [
        "import numpy as np\n",
        "\n",
        "# Функции\n",
        "func = lambda x: 0.02 * np.exp(-x) - 0.2 * np.sin(3 * x) + 0.5 * np.cos(2 * x) - 7\n",
        "L = lambda w, x, y: (x @ w - y)**2\n",
        "dL = lambda w, x, y: 2 * (x @ w - y) * x\n",
        "\n",
        "coord_x = np.arange(-5.0, 5.0, 0.1) # значения по оси абсцисс [-5; 5] с шагом 0.1\n",
        "coord_y = func(coord_x) # значения функции по оси ординат\n",
        "\n",
        "# создаём матрицу признаков для модели a(x)=w0 +w1​⋅x+w2​⋅x^2+w3​⋅x^3+w4​⋅x^4\n",
        "w = np.array([0] * 5)\n",
        "X = np.array([[x**i for i in range(len(w))]for x in coord_x])\n",
        "\n",
        "sz = len(coord_x)\t# количество значений функций (точек)\n",
        "eta = np.array([0.01, 1e-3, 1e-4, 1e-5, 1e-6]) # шаг обучения для каждого параметра w0, w1, w2, w3, w4\n",
        "w = np.array([0., 0., 0., 0., 0.]) # начальные значения параметров модели\n",
        "N = 500 # число итераций алгоритма SGD\n",
        "lm = 0.02 # значение параметра лямбда для вычисления скользящего экспоненциального среднего\n",
        "\n",
        "Qe = sum([L(w, x, y) for x, y in zip(X, coord_y)]) / len(coord_y)\n",
        "np.random.seed(0) # генерация одинаковых последовательностей псевдослучайных чисел\n",
        "\n",
        "for _ in range(N):\n",
        "    k = np.random.randint(0, sz-1) # sz - размер выборки (массива coord_x)\n",
        "    grad = dL(w, X[k], coord_y[k])\n",
        "    w -= eta * grad\n",
        "    Qe = lm * L(w, X[k], coord_y[k]) + (1 - lm) * Qe\n",
        "\n",
        "Q = sum([L(w, x, y) for x, y in zip(X, coord_y)]) / len(coord_y) # финальное качество"
      ],
      "metadata": {
        "colab": {
          "base_uri": "https://localhost:8080/"
        },
        "id": "vSSV3nAqMeyk",
        "outputId": "002097cc-035f-4bb9-e551-3dc50ae770e5"
      },
      "execution_count": null,
      "outputs": [
        {
          "output_type": "execute_result",
          "data": {
            "text/plain": [
              "0.2699682808265347"
            ]
          },
          "metadata": {},
          "execution_count": 67
        }
      ]
    }
  ]
}
