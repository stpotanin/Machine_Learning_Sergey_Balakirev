{
  "nbformat": 4,
  "nbformat_minor": 0,
  "metadata": {
    "colab": {
      "provenance": [],
      "authorship_tag": "ABX9TyOpUfCu6F55bwAZmUDq0/4O"
    },
    "kernelspec": {
      "name": "python3",
      "display_name": "Python 3"
    },
    "language_info": {
      "name": "python"
    }
  },
  "cells": [
    {
      "cell_type": "markdown",
      "source": [
        "https://stepik.org/lesson/1370107/step/6"
      ],
      "metadata": {
        "id": "F8Iou0xeVSwt"
      }
    },
    {
      "cell_type": "code",
      "execution_count": null,
      "metadata": {
        "colab": {
          "base_uri": "https://localhost:8080/"
        },
        "id": "Bb_PONMKVLS7",
        "outputId": "6e4841a7-d7e5-4107-d293-09865c87b42a"
      },
      "outputs": [
        {
          "output_type": "execute_result",
          "data": {
            "text/plain": [
              "(0.023715415019762844, 0.4574898785425101)"
            ]
          },
          "metadata": {},
          "execution_count": 26
        }
      ],
      "source": [
        "import numpy as np\n",
        "from sklearn import svm\n",
        "from sklearn.model_selection import train_test_split\n",
        "\n",
        "np.random.seed(0)\n",
        "\n",
        "# исходные параметры распределений классов\n",
        "r1 = 0.2\n",
        "D1 = 3.0\n",
        "mean1 = [2, -2]\n",
        "V1 = [[D1, D1 * r1], [D1 * r1, D1]]\n",
        "\n",
        "r2 = 0.5\n",
        "D2 = 2.0\n",
        "mean2 = [-1, -1]\n",
        "V2 = [[D2, D2 * r2], [D2 * r2, D2]]\n",
        "\n",
        "# моделирование обучающей выборки\n",
        "N1 = 1000\n",
        "N2 = 1000\n",
        "x1 = np.random.multivariate_normal(mean1, V1, N1).T\n",
        "x2 = np.random.multivariate_normal(mean2, V2, N2).T\n",
        "\n",
        "data_x = np.hstack([x1, x2]).T\n",
        "data_y = np.hstack([np.ones(N1) * -1, np.ones(N2)])\n",
        "\n",
        "x_train, x_test, y_train, y_test = train_test_split(data_x, data_y, random_state=123,test_size=0.5, shuffle=True)\n",
        "\n",
        "clf = svm.SVC(kernel='linear').fit(x_train, y_train)\n",
        "w = [clf.intercept_[0], *clf.coef_[0]]\n",
        "\n",
        "# Расстояние до гиперплоскости (отступ) со знаком\n",
        "# M = clf.decision_function(x_test)\n",
        "\n",
        "# Или вручную то же самое (понадобится столбец из единиц)\n",
        "X = np.array([[1] + list(x) for x in x_test])\n",
        "M = X @ w\n",
        "\n",
        "t = 2 # порог\n",
        "# Предсказания по порогу\n",
        "predict = np.where(M >= t, 1, -1)\n",
        "\n",
        "# https://stepik.org/lesson/1370107/step/6?discussion=10345031&thread=solutions&unit=1386297\n",
        "# predict = np.sign(np.array([[1, x[0], x[1]] for x in x_test]) @ w - 2) # хороший вариант\n",
        "\n",
        "TP = sum([p == y and p == 1 for p, y in zip(predict, y_test)])\n",
        "TN = sum([p == y and p == -1 for p, y in zip(predict, y_test)])\n",
        "FP = sum([p != y and p == 1 for p, y in zip(predict, y_test)])\n",
        "FN = sum([p != y and p == -1 for p, y in zip(predict, y_test)])\n",
        "\n",
        "FPR = FP / (FP + TN) # False Positive Rate\n",
        "TPR = TP / (TP + FN) # True Positive Rate\n",
        "\n",
        "FPR, TPR\n",
        "# (0.023715415019762844, 0.4574898785425101)"
      ]
    }
  ]
}
