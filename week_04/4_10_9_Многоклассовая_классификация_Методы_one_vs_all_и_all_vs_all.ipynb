{
  "nbformat": 4,
  "nbformat_minor": 0,
  "metadata": {
    "colab": {
      "provenance": [],
      "authorship_tag": "ABX9TyO95GpZxl2efrSC0tWHk1qv"
    },
    "kernelspec": {
      "name": "python3",
      "display_name": "Python 3"
    },
    "language_info": {
      "name": "python"
    }
  },
  "cells": [
    {
      "cell_type": "markdown",
      "source": [
        "https://stepik.org/lesson/1370111/step/9"
      ],
      "metadata": {
        "id": "lNuvCtzIdbUm"
      }
    },
    {
      "cell_type": "code",
      "execution_count": null,
      "metadata": {
        "colab": {
          "base_uri": "https://localhost:8080/"
        },
        "id": "B1Ku30nddSfy",
        "outputId": "c5f5c364-a3ce-4cbf-a3b9-5fc5dd25af41"
      },
      "outputs": [
        {
          "output_type": "execute_result",
          "data": {
            "text/plain": [
              "(0.8118081180811808, 0.8527131782945736)"
            ]
          },
          "metadata": {},
          "execution_count": 1
        }
      ],
      "source": [
        "# класс +1: 81 образов с меткой +1 и 7 образов с меткой -1;\n",
        "# класс -1: 40 образов с меткой -1 и 5 образов с меткой +1.\n",
        "\n",
        "TP = 81\n",
        "TN = 40\n",
        "FP = 5\n",
        "FN = 7"
      ]
    }
  ]
}