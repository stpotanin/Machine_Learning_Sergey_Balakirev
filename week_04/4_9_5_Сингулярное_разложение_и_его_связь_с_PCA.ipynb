{
  "nbformat": 4,
  "nbformat_minor": 0,
  "metadata": {
    "colab": {
      "provenance": [],
      "authorship_tag": "ABX9TyPOurEyAf1BipvXUU1w82Dc"
    },
    "kernelspec": {
      "name": "python3",
      "display_name": "Python 3"
    },
    "language_info": {
      "name": "python"
    }
  },
  "cells": [
    {
      "cell_type": "markdown",
      "source": [
        "https://stepik.org/lesson/1370110/step/5"
      ],
      "metadata": {
        "id": "gixTADcWD3SJ"
      }
    },
    {
      "cell_type": "code",
      "execution_count": null,
      "metadata": {
        "colab": {
          "base_uri": "https://localhost:8080/"
        },
        "id": "kNW4ZtKID0Zl",
        "outputId": "5dd89557-e27b-4edb-cc2e-00a8a2b8f4b9"
      },
      "outputs": [
        {
          "output_type": "execute_result",
          "data": {
            "text/plain": [
              "array([ 99, 112, 113, 115, 117, 118, 119, 122, 111, 124, 126, 127, 128,\n",
              "       129, 131, 133, 134, 125, 135, 110, 107,  83,  84,  85,  87,  88,\n",
              "        89,  91, 108,  92,  96,  98, 198, 100, 103, 104, 105,  94, 136,\n",
              "       137, 139, 173, 174, 175, 176, 177, 178, 179, 172, 183, 185, 187,\n",
              "       190, 191, 192, 194, 196, 184, 171, 169, 168, 140, 141, 146, 147,\n",
              "       149, 152, 155, 156, 157, 158, 159, 160, 161, 162, 163, 166, 167,\n",
              "        82,  81, 199,  79,  55,   5,  54,  52,   7,   8,   9,  48,  44,\n",
              "        43,  10,  11,  40,  56,  80,  14,  35,  15,  16,  18,  31,  29,\n",
              "        26,  25,  24,  23,  22,  21,  36,  57,  19,  59,   1,  67,  66,\n",
              "        65,  58,  72,  73,  74,  63,  69,  61,  62,  76,  78,  77,   2,\n",
              "       193, 109,  17, 151, 181,  46, 197,  51,   4, 148, 138,  53,  86,\n",
              "        49,  38, 132,  47, 121,  90,  30, 114,  12,  60, 150, 180, 164,\n",
              "        27, 170,  95, 102,  75, 145,  20, 142, 106, 143,  64,  32, 165,\n",
              "        97,  37, 154,  13, 195,  71, 153, 189,   3,  50,  34, 144, 186,\n",
              "        68, 130,  39,  70,  93, 101, 120,  41,  33, 188,  28,  45, 182,\n",
              "         0,   6, 116,  42, 123])"
            ]
          },
          "metadata": {},
          "execution_count": 23
        }
      ],
      "source": [
        "import numpy as np\n",
        "from sympy import Matrix\n",
        "\n",
        "np.random.seed(0)\n",
        "\n",
        "n_total = 1000 # число образов выборки\n",
        "n_features = 200 # число признаков\n",
        "\n",
        "table = np.zeros(shape=(n_total, n_features))\n",
        "\n",
        "for _ in range(100):\n",
        "    i, j = np.random.randint(0, n_total), np.random.randint(0, n_features)\n",
        "    table[i, j] = np.random.randint(1, 10)\n",
        "\n",
        "L, W = np.linalg.eig(table.T @ table  / len(table))\n",
        "WW = W[np.argsort(L)]\n",
        "WW_nonzero = np.array([w for l, w in zip(L, WW) if l >= 0.01])\n",
        "# W.shape, WW_nonzero.shape\n",
        "\n",
        "data_x = table @ WW_nonzero.T\n",
        "# data_x.shape\n",
        "np.argsort(L)"
      ]
    }
  ]
}
