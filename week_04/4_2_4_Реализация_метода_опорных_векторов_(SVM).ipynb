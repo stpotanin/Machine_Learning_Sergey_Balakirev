{
  "nbformat": 4,
  "nbformat_minor": 0,
  "metadata": {
    "colab": {
      "provenance": [],
      "authorship_tag": "ABX9TyPgCNWq7uwJ8+NotPQuyhjk"
    },
    "kernelspec": {
      "name": "python3",
      "display_name": "Python 3"
    },
    "language_info": {
      "name": "python"
    }
  },
  "cells": [
    {
      "cell_type": "markdown",
      "source": [
        "https://stepik.org/lesson/1370103/step/4"
      ],
      "metadata": {
        "id": "RxhHnldbC_HD"
      }
    },
    {
      "cell_type": "code",
      "execution_count": null,
      "metadata": {
        "colab": {
          "base_uri": "https://localhost:8080/"
        },
        "id": "A3-KaLpaCxu7",
        "outputId": "6a7cd973-3cba-404e-fe11-7ad340aad6ca"
      },
      "outputs": [
        {
          "output_type": "execute_result",
          "data": {
            "text/plain": [
              "6"
            ]
          },
          "metadata": {},
          "execution_count": 116
        }
      ],
      "source": [
        "import numpy as np\n",
        "from sklearn import svm\n",
        "\n",
        "data_x = [(4.9, 3.3), (5.6, 4.5), (6.4, 4.3), (6.7, 5.7), (6.3, 5.0), (5.2, 3.9), (5.5, 3.7), (5.6, 3.6), (5.5, 3.8), (6.1, 4.7), (7.4, 6.1), (6.0, 5.1), (5.5, 4.4), (5.9, 5.1), (6.5, 5.8), (6.5, 4.6), (6.7, 4.4), (6.3, 5.6), (5.9, 4.8), (6.0, 4.5), (5.6, 4.1), (5.6, 4.9), (4.9, 4.5), (6.2, 4.5), (6.1, 4.7), (6.1, 4.9), (6.2, 5.4), (5.7, 4.2), (6.1, 5.6), (5.8, 4.0), (6.6, 4.6), (5.6, 4.2), (7.2, 6.1), (7.7, 6.7), (5.6, 3.9), (7.7, 6.9), (6.0, 4.0), (6.1, 4.0), (7.6, 6.6), (5.1, 3.0), (6.3, 6.0), (6.7, 5.7), (6.8, 5.9), (6.4, 5.5), (7.0, 4.7), (5.8, 5.1), (5.8, 5.1), (6.4, 5.3), (6.3, 4.9), (6.4, 5.3), (5.7, 3.5), (7.2, 5.8), (6.4, 5.6), (5.7, 4.5), (6.0, 4.5), (7.7, 6.1), (6.2, 4.3), (7.1, 5.9), (7.3, 6.3), (5.0, 3.3), (6.3, 5.1), (5.8, 3.9), (6.4, 4.5), (6.3, 5.6), (6.8, 5.5), (6.9, 5.4), (5.5, 4.0), (5.7, 4.1), (6.5, 5.5), (6.3, 4.7), (5.0, 3.5), (6.7, 5.8), (6.9, 4.9), (7.7, 6.7), (5.8, 4.1), (6.4, 5.6), (6.7, 5.2), (6.7, 4.7), (5.4, 4.5), (6.8, 4.8), (5.7, 4.2), (5.5, 4.0), (6.3, 4.9), (6.5, 5.2), (5.8, 5.1), (6.0, 4.8), (6.2, 4.8), (6.5, 5.1), (7.9, 6.4), (6.7, 5.0), (6.7, 5.6), (6.0, 5.0), (6.1, 4.6), (5.7, 5.0), (7.2, 6.0), (6.3, 4.4), (5.9, 4.2), (6.9, 5.1), (6.6, 4.4), (6.9, 5.7)]\n",
        "data_y = [-1, -1, -1, 1, 1, -1, -1, -1, -1, -1, 1, -1, -1, 1, 1, -1, -1, 1, -1, -1, -1, 1, 1, -1, -1, 1, 1, -1, 1, -1, -1, -1, 1, 1, -1, 1, -1, -1, 1, -1, 1, 1, 1, 1, -1, 1, 1, 1, 1, 1, -1, 1, 1, -1, -1, 1, -1, 1, 1, -1, 1, -1, -1, 1, 1, 1, -1, -1, 1, -1, -1, 1, -1, 1, -1, 1, 1, -1, -1, -1, -1, -1, -1, 1, 1, 1, 1, 1, 1, -1, 1, 1, -1, 1, 1, -1, -1, 1, -1, 1]\n",
        "\n",
        "# обучающая выборка в формате [1, x1, x2]\n",
        "x_train = np.array([[1] + list(x) for x in data_x]) # входные образы\n",
        "# x_train = np.array(data_x)\n",
        "y_train = np.array(data_y) # целевые значения (метки классов)\n",
        "\n",
        "# Создаем объект линейного классификатора (Linear Support Vector Classification)\n",
        "lin_clf = svm.LinearSVC()\n",
        "\n",
        "# Обучаем и извлекаем веса\n",
        "w = lin_clf.fit(x_train, y_train).coef_[0]\n",
        "\n",
        "# Переписываем w_0 на правильный\n",
        "w[0] *= w[2]\n",
        "\n",
        "# Качество\n",
        "Q = sum(np.sign(x_train @ w) != y_train)\n",
        "\n",
        "# Визуализация данных и разделяющих прямых\n",
        "import matplotlib.pyplot as plt\n",
        "\n",
        "# Отображаем точки данных\n",
        "[plt.scatter(x[1], x[2], color='red', marker='o') for x in x_train[y_train == -1]]\n",
        "[plt.scatter(x[1], x[2], color='blue', marker='o') for x in x_train[y_train == 1]]\n",
        "\n",
        "# Определяем границы разделения для w\n",
        "x_range = np.linspace(4, 8) # диапазон по оси x\n",
        "y_range_w = -(w[1] * x_range + w[0]) / w[2] # уравнение разделяющей прямой для w\n",
        "\n",
        "# Отображаем границы разделения\n",
        "plt.plot(x_range, y_range_w, color='green', label='Граница')\n",
        "\n",
        "# Настройки графика\n",
        "plt.xlim(4.5, 8)\n",
        "plt.ylim(2, 8)\n",
        "plt.xlabel('x1')\n",
        "plt.ylabel('x2')\n",
        "plt.title('Linear SVC')\n",
        "plt.axhline(0, color='black', linewidth=0.5)\n",
        "plt.axvline(0,color='black', linewidth=0.5)\n",
        "plt.grid(color='gray', linestyle='--', linewidth=0.5)\n",
        "plt.legend()\n",
        "plt.show()"
      ]
    }
  ]
}
