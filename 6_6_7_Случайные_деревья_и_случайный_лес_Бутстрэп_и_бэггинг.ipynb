{
  "nbformat": 4,
  "nbformat_minor": 0,
  "metadata": {
    "colab": {
      "provenance": []
    },
    "kernelspec": {
      "name": "python3",
      "display_name": "Python 3"
    },
    "language_info": {
      "name": "python"
    }
  },
  "cells": [
    {
      "cell_type": "markdown",
      "source": [
        "https://stepik.org/lesson/1370124/step/7"
      ],
      "metadata": {
        "id": "NKbQxABM_oyC"
      }
    },
    {
      "cell_type": "code",
      "execution_count": null,
      "metadata": {
        "id": "hwh-_nJ__lhn",
        "colab": {
          "base_uri": "https://localhost:8080/"
        },
        "outputId": "7c12abbe-39e1-4007-c6a1-b41d492d6d37"
      },
      "outputs": [
        {
          "output_type": "execute_result",
          "data": {
            "text/plain": [
              "0.005894467087973422"
            ]
          },
          "metadata": {},
          "execution_count": 3
        }
      ],
      "source": [
        "import numpy as np\n",
        "from sklearn.ensemble import RandomForestRegressor\n",
        "\n",
        "x = np.arange(-3, 3, 0.1)\n",
        "y = 0.3 * x + np.cos(2*x) + 0.2 * np.sin(7*x) # + np.random.normal(0.0, 0.1, n_samples)\n",
        "x = x.reshape(-1, 1)\n",
        "\n",
        "T = 5  # число деревьев\n",
        "\n",
        "pr_y = RandomForestRegressor(max_depth=8, n_estimators=T, random_state=1).fit(x, y).predict(x)\n",
        "Q = np.mean((pr_y - y)**2)\n",
        "Q"
      ]
    }
  ]
}