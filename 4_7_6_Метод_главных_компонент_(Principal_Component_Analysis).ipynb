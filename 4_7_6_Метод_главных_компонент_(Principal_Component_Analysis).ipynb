{
  "nbformat": 4,
  "nbformat_minor": 0,
  "metadata": {
    "colab": {
      "provenance": [],
      "authorship_tag": "ABX9TyODsHwy4p+tzzgrEqmlg5hc"
    },
    "kernelspec": {
      "name": "python3",
      "display_name": "Python 3"
    },
    "language_info": {
      "name": "python"
    }
  },
  "cells": [
    {
      "cell_type": "markdown",
      "source": [
        "https://stepik.org/lesson/1370108/step/6"
      ],
      "metadata": {
        "id": "ujY8gaKs-4oP"
      }
    },
    {
      "cell_type": "code",
      "execution_count": null,
      "metadata": {
        "id": "wXlzGjl2-s9h",
        "colab": {
          "base_uri": "https://localhost:8080/"
        },
        "outputId": "6e8532f5-570e-4f9f-e34c-883283bd467b"
      },
      "outputs": [
        {
          "output_type": "execute_result",
          "data": {
            "text/plain": [
              "(array([121.97087918,   4.65931132,   2.65089954,   1.01874301,\n",
              "          0.73233795]),\n",
              " array([[-0.29681658, -0.22479594,  0.55492499,  0.73859524, -0.08889331],\n",
              "        [-0.65500922,  0.00277807,  0.45638698, -0.59194603,  0.11075205],\n",
              "        [ 0.14340159, -0.92536417, -0.05386004, -0.14567391,  0.31466704],\n",
              "        [-0.38793169, -0.2938037 , -0.40838809, -0.03135558, -0.77163747],\n",
              "        [-0.55839755,  0.08270195, -0.56043504,  0.2861344 ,  0.53422115]]))"
            ]
          },
          "metadata": {},
          "execution_count": 22
        }
      ],
      "source": [
        "import numpy as np\n",
        "\n",
        "np.random.seed(0)\n",
        "\n",
        "# исходные параметры для формирования образов обучающей выборки\n",
        "r = 0.7\n",
        "D = 3.0\n",
        "mean = [3, 7, -2, 4, 6]\n",
        "n_feature = 5\n",
        "V = [[D * r ** abs(i-j) for j in range(n_feature)] for i in range(n_feature)]\n",
        "\n",
        "# моделирование обучающей выборки\n",
        "N = 1000\n",
        "X = np.random.multivariate_normal(mean, V, N).T\n",
        "\n",
        "F = 1 / N * X @ X.T # матрица Грама\n",
        "L, W = np.linalg.eig(F)\n",
        "L, W"
      ]
    }
  ]
}