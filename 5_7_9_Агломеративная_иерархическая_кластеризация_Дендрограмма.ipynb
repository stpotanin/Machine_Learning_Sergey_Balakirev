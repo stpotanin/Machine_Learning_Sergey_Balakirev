{
  "nbformat": 4,
  "nbformat_minor": 0,
  "metadata": {
    "colab": {
      "provenance": [],
      "authorship_tag": "ABX9TyOvWhjVI21z63IBAweGYw4Q"
    },
    "kernelspec": {
      "name": "python3",
      "display_name": "Python 3"
    },
    "language_info": {
      "name": "python"
    }
  },
  "cells": [
    {
      "cell_type": "markdown",
      "source": [
        "https://stepik.org/lesson/1370118/step/9"
      ],
      "metadata": {
        "id": "T7rp6gL6e9W3"
      }
    },
    {
      "cell_type": "code",
      "execution_count": null,
      "metadata": {
        "colab": {
          "base_uri": "https://localhost:8080/"
        },
        "id": "dRwJBjh1e38A",
        "outputId": "92fdec5d-a2ed-4899-e47a-69a5e503004a"
      },
      "outputs": [
        {
          "output_type": "execute_result",
          "data": {
            "text/plain": [
              "-1.0758987284245605"
            ]
          },
          "metadata": {},
          "execution_count": 13
        }
      ],
      "source": [
        "import numpy as np\n",
        "import matplotlib.pyplot as plt\n",
        "\n",
        "# Функции\n",
        "func = lambda x: 0.5 * x + 0.2 * x ** 2 - 0.1 * x ** 3\n",
        "df = lambda x: .5 + .4 * x - .3 * x**2\n",
        "\n",
        "# Данные\n",
        "coord_x = np.arange(-5.0, 5.0, 0.1) # значения по оси абсцисс\n",
        "coord_y = func(coord_x) # значения по оси ординат (значения функции)\n",
        "\n",
        "# Параметры\n",
        "η = 0.01\n",
        "x_0 = -4\n",
        "N = 200\n",
        "\n",
        "x = x_0 * 1\n",
        "for _ in range(N):\n",
        "    grad = df(x)\n",
        "    x -= η * grad\n",
        "\n",
        "# График\n",
        "plt.plot(coord_x, coord_y, label='Функция')\n",
        "plt.scatter(x, func(x), c='r', label='Минимум')\n",
        "plt.legend()\n",
        "plt.show()"
      ]
    }
  ]
}