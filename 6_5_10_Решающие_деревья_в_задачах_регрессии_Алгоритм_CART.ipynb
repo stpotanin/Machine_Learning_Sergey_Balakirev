{
  "nbformat": 4,
  "nbformat_minor": 0,
  "metadata": {
    "colab": {
      "provenance": [],
      "authorship_tag": "ABX9TyMw0QY6XkgFgLfK0Thv/5oo"
    },
    "kernelspec": {
      "name": "python3",
      "display_name": "Python 3"
    },
    "language_info": {
      "name": "python"
    }
  },
  "cells": [
    {
      "cell_type": "markdown",
      "source": [
        "https://stepik.org/lesson/1370123/step/10"
      ],
      "metadata": {
        "id": "GuU8F6_n6HXU"
      }
    },
    {
      "cell_type": "code",
      "execution_count": null,
      "metadata": {
        "id": "2hh8rDB86ALc"
      },
      "outputs": [],
      "source": [
        "# класс +1: 20 образов с меткой +1 и 5 образов с меткой -1\n",
        "# класс -1: 60 образов с меткой -1 и 15 образов с меткой +1.\n",
        "\n",
        "TP = 20\n",
        "TN = 60\n",
        "FP = 15\n",
        "FN = 5"
      ]
    }
  ]
}