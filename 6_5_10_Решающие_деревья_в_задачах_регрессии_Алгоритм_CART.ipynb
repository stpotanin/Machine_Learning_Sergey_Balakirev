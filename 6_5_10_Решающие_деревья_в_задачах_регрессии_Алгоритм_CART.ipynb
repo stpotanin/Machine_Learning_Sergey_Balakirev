{
  "nbformat": 4,
  "nbformat_minor": 0,
  "metadata": {
    "colab": {
      "provenance": [],
      "authorship_tag": "ABX9TyMw0QY6XkgFgLfK0Thv/5oo",
      "include_colab_link": true
    },
    "kernelspec": {
      "name": "python3",
      "display_name": "Python 3"
    },
    "language_info": {
      "name": "python"
    }
  },
  "cells": [
    {
      "cell_type": "markdown",
      "metadata": {
        "id": "view-in-github",
        "colab_type": "text"
      },
      "source": [
        "<a href=\"https://colab.research.google.com/github/stpotanin/Machine_Learning_Sergey_Balakirev/blob/main/6_5_10_%D0%A0%D0%B5%D1%88%D0%B0%D1%8E%D1%89%D0%B8%D0%B5_%D0%B4%D0%B5%D1%80%D0%B5%D0%B2%D1%8C%D1%8F_%D0%B2_%D0%B7%D0%B0%D0%B4%D0%B0%D1%87%D0%B0%D1%85_%D1%80%D0%B5%D0%B3%D1%80%D0%B5%D1%81%D1%81%D0%B8%D0%B8_%D0%90%D0%BB%D0%B3%D0%BE%D1%80%D0%B8%D1%82%D0%BC_CART.ipynb\" target=\"_parent\"><img src=\"https://colab.research.google.com/assets/colab-badge.svg\" alt=\"Open In Colab\"/></a>"
      ]
    },
    {
      "cell_type": "markdown",
      "source": [
        "https://stepik.org/lesson/1370123/step/10"
      ],
      "metadata": {
        "id": "GuU8F6_n6HXU"
      }
    },
    {
      "cell_type": "code",
      "execution_count": null,
      "metadata": {
        "id": "2hh8rDB86ALc"
      },
      "outputs": [],
      "source": [
        "# класс +1: 20 образов с меткой +1 и 5 образов с меткой -1\n",
        "# класс -1: 60 образов с меткой -1 и 15 образов с меткой +1.\n",
        "\n",
        "TP = 20\n",
        "TN = 60\n",
        "FP = 15\n",
        "FN = 5"
      ]
    }
  ]
}