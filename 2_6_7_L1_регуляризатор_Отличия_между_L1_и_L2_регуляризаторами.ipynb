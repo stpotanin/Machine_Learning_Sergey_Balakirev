{
  "nbformat": 4,
  "nbformat_minor": 0,
  "metadata": {
    "colab": {
      "provenance": [],
      "authorship_tag": "ABX9TyPow5pOm6/FMPT7IFjSjX7b"
    },
    "kernelspec": {
      "name": "python3",
      "display_name": "Python 3"
    },
    "language_info": {
      "name": "python"
    }
  },
  "cells": [
    {
      "cell_type": "markdown",
      "source": [
        "https://stepik.org/lesson/1370095/step/7"
      ],
      "metadata": {
        "id": "iRh1zJkfjLJs"
      }
    },
    {
      "cell_type": "markdown",
      "source": [
        "# Решение\n",
        "\n",
        "У нас логарифмическая функции потерь\n",
        "$$\n",
        "\\text{loss}(w, x, y) = \\log_2(1 + e^{-M})\n",
        "$$\n",
        "\n",
        "где $ M = w ⋅ x ⋅ y $ (здесь скобки означают, что произведение - скаляроное)\n",
        "\n",
        "Производная функции потерь по $M$:\n",
        "\n",
        "$$\n",
        "\\frac{\\partial \\text{loss}}{\\partial M} = -\\frac{1}{\\ln(2)} \\cdot \\frac{e^{-M}}{1 + e^{-M}}\n",
        "$$\n",
        "\n",
        "Так как $M = (w \\cdot x) \\cdot y$, , то, по правилу цепочки, производная по $w$ будет:\n",
        "\n",
        "$$\n",
        "\\frac{\\partial \\text{loss}}{\\partial w} = \\frac{\\partial \\text{loss}}{\\partial M} \\cdot \\frac{\\partial M}{\\partial w}\n",
        "$$\n",
        "\n",
        "$$\n",
        "\\frac{\\partial \\text{loss}}{\\partial w} = -\\frac{1}{\\ln(2)} \\cdot \\frac{e^{-M}}{1 + e^{-M}} \\cdot xy\n",
        "$$\n",
        "\n",
        "Итоговая формула, по которой написана функция:\n",
        "\n",
        "$$\n",
        "\\frac{\\partial \\text{loss}}{\\partial w} = -\\frac{xye^{-M}}{\\ln(2)(1 + e^{-M})}\n",
        "$$"
      ],
      "metadata": {
        "id": "E8aL5Ft11a2x"
      }
    },
    {
      "cell_type": "code",
      "execution_count": null,
      "metadata": {
        "id": "4C77A5byjJPQ",
        "colab": {
          "base_uri": "https://localhost:8080/",
          "height": 465
        },
        "outputId": "fca6178a-78f4-4dc5-e6ec-e8a07391e35c"
      },
      "outputs": [
        {
          "output_type": "stream",
          "name": "stdout",
          "text": [
            "w = [-8.9048e+00  5.2000e-03  2.7772e+00  1.7000e-03  1.0852e+00]\n",
            "Q =  0.06\n"
          ]
        },
        {
          "output_type": "display_data",
          "data": {
            "text/plain": [
              "<Figure size 640x480 with 1 Axes>"
            ],
            "image/png": "[encoded data removed]"
          },
          "metadata": {}
        }
      ],
      "source": [
        "import numpy as np\n",
        "import matplotlib.pyplot as plt\n",
        "\n",
        "\n",
        "# логарифмическая функция потерь\n",
        "def loss(w, x, y):\n",
        "    M = np.dot(w, x) * y\n",
        "    return np.log2(1 + np.exp(-M))\n",
        "\n",
        "# производная логарифмической функции потерь по вектору w\n",
        "def df(w, x, y):\n",
        "    M = np.dot(w, x) * y\n",
        "    return -(np.exp(-M) * x.T * y) / ((1 + np.exp(-M)) * np.log(2))\n",
        "\n",
        "# Данные\n",
        "data_x = [(5.8, 1.2), (5.6, 1.5), (6.5, 1.5), (6.1, 1.3), (6.4, 1.3), (7.7, 2.0), (6.0, 1.8), (5.6, 1.3), (6.0, 1.6), (5.8, 1.9), (5.7, 2.0), (6.3, 1.5), (6.2, 1.8), (7.7, 2.3), (5.8, 1.2), (6.3, 1.8), (6.0, 1.0), (6.2, 1.3), (5.7, 1.3), (6.3, 1.9), (6.7, 2.5), (5.5, 1.2), (4.9, 1.0), (6.1, 1.4), (6.0, 1.6), (7.2, 2.5), (7.3, 1.8), (6.6, 1.4), (5.6, 2.0), (5.5, 1.0), (6.4, 2.2), (5.6, 1.3), (6.6, 1.3), (6.9, 2.1), (6.8, 2.1), (5.7, 1.3), (7.0, 1.4), (6.1, 1.4), (6.1, 1.8), (6.7, 1.7), (6.0, 1.5), (6.5, 1.8), (6.4, 1.5), (6.9, 1.5), (5.6, 1.3), (6.7, 1.4), (5.8, 1.9), (6.3, 1.3), (6.7, 2.1), (6.2, 2.3), (6.3, 2.4), (6.7, 1.8), (6.4, 2.3), (6.2, 1.5), (6.1, 1.4), (7.1, 2.1), (5.7, 1.0), (6.8, 1.4), (6.8, 2.3), (5.1, 1.1), (4.9, 1.7), (5.9, 1.8), (7.4, 1.9), (6.5, 2.0), (6.7, 1.5), (6.5, 2.0), (5.8, 1.0), (6.4, 2.1), (7.6, 2.1), (5.8, 2.4), (7.7, 2.2), (6.3, 1.5), (5.0, 1.0), (6.3, 1.6), (7.7, 2.3), (6.4, 1.9), (6.5, 2.2), (5.7, 1.2), (6.9, 2.3), (5.7, 1.3), (6.1, 1.2), (5.4, 1.5), (5.2, 1.4), (6.7, 2.3), (7.9, 2.0), (5.6, 1.1), (7.2, 1.8), (5.5, 1.3), (7.2, 1.6), (6.3, 2.5), (6.3, 1.8), (6.7, 2.4), (5.0, 1.0), (6.4, 1.8), (6.9, 2.3), (5.5, 1.3), (5.5, 1.1), (5.9, 1.5), (6.0, 1.5), (5.9, 1.8)]\n",
        "data_y = [-1, -1, -1, -1, -1, 1, 1, -1, -1, 1, 1, -1, 1, 1, -1, 1, -1, -1, -1, 1, 1, -1, -1, -1, -1, 1, 1, -1, 1, -1, 1, -1, -1, 1, 1, -1, -1, 1, 1, -1, 1, 1, -1, -1, -1, -1, 1, -1, 1, 1, 1, 1, 1, -1, -1, 1, -1, -1, 1, -1, 1, -1, 1, 1, -1, 1, -1, 1, 1, 1, 1, 1, -1, -1, 1, 1, 1, -1, 1, -1, -1, -1, -1, 1, 1, -1, 1, -1, 1, 1, 1, 1, -1, 1, 1, -1, -1, -1, -1, 1]\n",
        "\n",
        "x_train = np.array([[1, x[0], x[1], 0.8*x[0], (x[0]+x[1])/2] for x in data_x])\n",
        "y_train = np.array(data_y)\n",
        "\n",
        "# Параметры\n",
        "n_train = len(x_train)          # размер обучающей выборки\n",
        "w = np.zeros(len(x_train[0]))   # начальные нулевые весовые коэффициенты\n",
        "nt = np.array([0.5] + [0.01] * (len(w) - 1))  # шаг обучения для каждого параметра w0, w1, w2, ...\n",
        "lm = 0.01           # значение параметра лямбда для вычисления скользящего экспоненциального среднего\n",
        "N = 5000             # число итераций алгоритма SGD\n",
        "batch_size = 10     # размер мини-батча (величина K = 10)\n",
        "lm_l1 = 0.05        # параметр лямбда для L1-регуляризатора\n",
        "np.random.seed(0)   # генерация одинаковых последовательностей псевдослучайных чисел\n",
        "\n",
        "Qe = np.mean([loss(w, x, y) for x, y in zip(x_train, y_train)]) # начальное значение среднего эмпирического риска\n",
        "Q_plot = [Qe]\n",
        "\n",
        "for i in range(N):\n",
        "    k = np.random.randint(0, n_train-batch_size-1) # n_train - размер выборки (массива x_train)\n",
        "    X_batch = x_train[k:k + batch_size]\n",
        "    y_batch = y_train[k:k + batch_size]\n",
        "    ek = np.array([loss(w, x, y) for x, y in zip(X_batch, y_batch)]).mean(axis=0) # вычисление потерь для выбранного вектора\n",
        "    grad = np.array([df(w, x, y) for x, y in zip(X_batch, y_batch)]).mean(axis=0) # вычисление градиента потерь для выбранного вектора\n",
        "\n",
        "    # вариант не регулирем w[0]:\n",
        "    regularization = lm_l1 * np.sign(w[1:])  # Применяем только к w[1], w[2], ...\n",
        "    w -= nt * (grad + np.concatenate(([0], regularization)))  # корректировка весов, не изменяем w[0]\n",
        "\n",
        "    # # вариант регулирем w[0]:\n",
        "    # w -= nt * (grad + lm_l1 * np.sign(w))\n",
        "\n",
        "    Qe = lm * ek + (1 - lm) * Qe                # пересчет показателя качества\n",
        "    Q_plot.append(Qe)\n",
        "\n",
        "Q = np.mean([(np.dot(w, x) * y < 0) for x, y in zip(x_train, y_train)]) # истинное значение эмпирического риска после обучения\n",
        "print('w =', w.round(4))\n",
        "print('Q = ', Q)\n",
        "\n",
        "plt.plot(Q_plot)\n",
        "plt.grid(True)\n",
        "plt.show()"
      ]
    },
    {
      "cell_type": "code",
      "source": [],
      "metadata": {
        "id": "S8bHmDiVa0H-"
      },
      "execution_count": null,
      "outputs": []
    },
    {
      "cell_type": "code",
      "source": [
        "# Vadim Kopeykin https://stepik.org/lesson/1370095/step/7?discussion=10529214&thread=solutions&unit=1386285\n",
        "import numpy as np\n",
        "\n",
        "def loss(w, X, y): # логарифмическая функция потерь\n",
        "    M = X @ w * y\n",
        "    return np.log2(1 + np.exp(-M)).mean()\n",
        "\n",
        "def df(w, X, y): # производная логарифмической функции потерь по вектору w\n",
        "    M = X @ w * y\n",
        "    return -(np.exp(-M) * y) / ((1 + np.exp(-M)) * np.log(2) * len(X)) @ X\n",
        "\n",
        "X = [(5.8, 1.2), (5.6, 1.5), (6.5, 1.5), (6.1, 1.3), (6.4, 1.3), (7.7, 2.0), (6.0, 1.8), (5.6, 1.3), (6.0, 1.6), (5.8, 1.9), (5.7, 2.0), (6.3, 1.5), (6.2, 1.8), (7.7, 2.3), (5.8, 1.2), (6.3, 1.8), (6.0, 1.0), (6.2, 1.3), (5.7, 1.3), (6.3, 1.9), (6.7, 2.5), (5.5, 1.2), (4.9, 1.0), (6.1, 1.4), (6.0, 1.6), (7.2, 2.5), (7.3, 1.8), (6.6, 1.4), (5.6, 2.0), (5.5, 1.0), (6.4, 2.2), (5.6, 1.3), (6.6, 1.3), (6.9, 2.1), (6.8, 2.1), (5.7, 1.3), (7.0, 1.4), (6.1, 1.4), (6.1, 1.8), (6.7, 1.7), (6.0, 1.5), (6.5, 1.8), (6.4, 1.5), (6.9, 1.5), (5.6, 1.3), (6.7, 1.4), (5.8, 1.9), (6.3, 1.3), (6.7, 2.1), (6.2, 2.3), (6.3, 2.4), (6.7, 1.8), (6.4, 2.3), (6.2, 1.5), (6.1, 1.4), (7.1, 2.1), (5.7, 1.0), (6.8, 1.4), (6.8, 2.3), (5.1, 1.1), (4.9, 1.7), (5.9, 1.8), (7.4, 1.9), (6.5, 2.0), (6.7, 1.5), (6.5, 2.0), (5.8, 1.0), (6.4, 2.1), (7.6, 2.1), (5.8, 2.4), (7.7, 2.2), (6.3, 1.5), (5.0, 1.0), (6.3, 1.6), (7.7, 2.3), (6.4, 1.9), (6.5, 2.2), (5.7, 1.2), (6.9, 2.3), (5.7, 1.3), (6.1, 1.2), (5.4, 1.5), (5.2, 1.4), (6.7, 2.3), (7.9, 2.0), (5.6, 1.1), (7.2, 1.8), (5.5, 1.3), (7.2, 1.6), (6.3, 2.5), (6.3, 1.8), (6.7, 2.4), (5.0, 1.0), (6.4, 1.8), (6.9, 2.3), (5.5, 1.3), (5.5, 1.1), (5.9, 1.5), (6.0, 1.5), (5.9, 1.8)]\n",
        "\n",
        "y = np.array([-1, -1, -1, -1, -1, 1, 1, -1, -1, 1, 1, -1, 1, 1, -1, 1, -1, -1, -1, 1, 1, -1, -1, -1, -1, 1, 1, -1, 1, -1, 1, -1, -1, 1, 1, -1, -1, 1, 1, -1, 1, 1, -1, -1, -1, -1, 1, -1, 1, 1, 1, 1, 1, -1, -1, 1, -1, -1, 1, -1, 1, -1, 1, 1, -1, 1, -1, 1, 1, 1, 1, 1, -1, -1, 1, 1, 1, -1, 1, -1, -1, -1, -1, 1, 1, -1, 1, -1, 1, 1, 1, 1, -1, 1, 1, -1, -1, -1, -1, 1])\n",
        "\n",
        "X = np.array([[1, x[0], x[1], 0.8 * x[0], (x[0] + x[1]) / 2] for x in X]) # матрица пизнаков\n",
        "w = np.zeros(X.shape[1]) # начальные нулевые весовые коэффициенты\n",
        "nt = np.array([0.5] + [0.01] * (len(w) - 1)) # шаг обучения для каждого параметра w0, w1, w2, ...\n",
        "lm = 0.01 # значение параметра лямбда для вычисления скользящего экспоненциального среднего\n",
        "N = 500                        # число итераций алгоритма SGD\n",
        "batch_size = 10                # размер мини-батча (величина K = 10)\n",
        "lm_l1 = np.ones_like(w) * 0.05 # параметр лямбда для L1-регуляризатора\n",
        "lm_l1[0] = 0                   # параметр w0 не регуляриpуем\n",
        "\n",
        "Qe = loss(w, X, y) # начальное значение среднего эмпирического риска\n",
        "np.random.seed(0)  # генерация одинаковых последовательностей псевдослучайных чисел\n",
        "\n",
        "for _ in range(N):\n",
        "    k = np.random.randint(len(X) - batch_size - 1) # сгенеировать индекс начала батча\n",
        "    batch = np.arange(k, k + batch_size)           # индексы батча\n",
        "\n",
        "    Qe += lm * (loss(w, X[batch], y[batch]) - Qe)  # обновить экспоненциальное среднее Qe\n",
        "    w -= nt * (df(w, X[batch], y[batch]) + lm_l1 * np.sign(w)) # обновить параметры модели\n",
        "\n",
        "Q = (X @ w * y < 0).mean()  # вычислить итоговое значение среднего эмпирического риска\n",
        "\n",
        "print('w =', w.round(4))\n",
        "print('Q = ', Q)"
      ],
      "metadata": {
        "colab": {
          "base_uri": "https://localhost:8080/"
        },
        "id": "eoFvnK1aBal5",
        "outputId": "773dd7e5-1f92-42e7-df88-e1971dca3643"
      },
      "execution_count": null,
      "outputs": [
        {
          "output_type": "stream",
          "name": "stdout",
          "text": [
            "w = [-3.6701  0.1226  0.6686  0.0504  0.3951]\n",
            "Q =  0.09\n"
          ]
        }
      ]
    },
    {
      "cell_type": "code",
      "source": [
        "# @title Матрица признаков - быстрый способ\n",
        "import numpy as np\n",
        "\n",
        "\n",
        "# логарифмическая функция потерь\n",
        "def loss(w, x, y):\n",
        "    M = np.dot(w, x) * y\n",
        "    return np.log2(1 + np.exp(-M))\n",
        "\n",
        "# производная логарифмической функции потерь по вектору w\n",
        "def df(w, x, y):\n",
        "    M = np.dot(w, x) * y\n",
        "    return -(np.exp(-M) * x.T * y) / ((1 + np.exp(-M)) * np.log(2))\n",
        "\n",
        "# Данные\n",
        "data_x = [(5.8, 1.2), (5.6, 1.5), (6.5, 1.5), (6.1, 1.3), (6.4, 1.3), (7.7, 2.0), (6.0, 1.8), (5.6, 1.3), (6.0, 1.6), (5.8, 1.9), (5.7, 2.0), (6.3, 1.5), (6.2, 1.8), (7.7, 2.3), (5.8, 1.2), (6.3, 1.8), (6.0, 1.0), (6.2, 1.3), (5.7, 1.3), (6.3, 1.9), (6.7, 2.5), (5.5, 1.2), (4.9, 1.0), (6.1, 1.4), (6.0, 1.6), (7.2, 2.5), (7.3, 1.8), (6.6, 1.4), (5.6, 2.0), (5.5, 1.0), (6.4, 2.2), (5.6, 1.3), (6.6, 1.3), (6.9, 2.1), (6.8, 2.1), (5.7, 1.3), (7.0, 1.4), (6.1, 1.4), (6.1, 1.8), (6.7, 1.7), (6.0, 1.5), (6.5, 1.8), (6.4, 1.5), (6.9, 1.5), (5.6, 1.3), (6.7, 1.4), (5.8, 1.9), (6.3, 1.3), (6.7, 2.1), (6.2, 2.3), (6.3, 2.4), (6.7, 1.8), (6.4, 2.3), (6.2, 1.5), (6.1, 1.4), (7.1, 2.1), (5.7, 1.0), (6.8, 1.4), (6.8, 2.3), (5.1, 1.1), (4.9, 1.7), (5.9, 1.8), (7.4, 1.9), (6.5, 2.0), (6.7, 1.5), (6.5, 2.0), (5.8, 1.0), (6.4, 2.1), (7.6, 2.1), (5.8, 2.4), (7.7, 2.2), (6.3, 1.5), (5.0, 1.0), (6.3, 1.6), (7.7, 2.3), (6.4, 1.9), (6.5, 2.2), (5.7, 1.2), (6.9, 2.3), (5.7, 1.3), (6.1, 1.2), (5.4, 1.5), (5.2, 1.4), (6.7, 2.3), (7.9, 2.0), (5.6, 1.1), (7.2, 1.8), (5.5, 1.3), (7.2, 1.6), (6.3, 2.5), (6.3, 1.8), (6.7, 2.4), (5.0, 1.0), (6.4, 1.8), (6.9, 2.3), (5.5, 1.3), (5.5, 1.1), (5.9, 1.5), (6.0, 1.5), (5.9, 1.8)]\n",
        "data_y = [-1, -1, -1, -1, -1, 1, 1, -1, -1, 1, 1, -1, 1, 1, -1, 1, -1, -1, -1, 1, 1, -1, -1, -1, -1, 1, 1, -1, 1, -1, 1, -1, -1, 1, 1, -1, -1, 1, 1, -1, 1, 1, -1, -1, -1, -1, 1, -1, 1, 1, 1, 1, 1, -1, -1, 1, -1, -1, 1, -1, 1, -1, 1, 1, -1, 1, -1, 1, 1, 1, 1, 1, -1, -1, 1, 1, 1, -1, 1, -1, -1, -1, -1, 1, 1, -1, 1, -1, 1, 1, 1, 1, -1, 1, 1, -1, -1, -1, -1, 1]\n",
        "\n",
        "x_train = np.array([[1, x[0], x[1], 0.8*x[0], (x[0]+x[1])/2] for x in data_x]) # матрица признаков\n",
        "y_train = np.array(data_y)\n",
        "\n",
        "# Параметры\n",
        "n_train = len(x_train)          # размер обучающей выборки\n",
        "w = np.zeros(len(x_train[0]))   # начальные нулевые весовые коэффициенты\n",
        "nt = np.array([0.5] + [0.01] * (len(w) - 1))  # шаг обучения для каждого параметра w0, w1, w2, ...\n",
        "lm = 0.01           # значение параметра лямбда для вычисления скользящего экспоненциального среднего\n",
        "N = 500             # число итераций алгоритма SGD\n",
        "batch_size = 10     # размер мини-батча (величина K = 10)\n",
        "lm_l1 = 0.05        # параметр лямбда для L1-регуляризатора\n",
        "np.random.seed(0)   # генерация одинаковых последовательностей псевдослучайных чисел\n",
        "\n",
        "# Вектор для lm_l1\n",
        "lm_l1_vector = np.ones_like(w) * lm_l1\n",
        "lm_l1_vector[0] = 0 # первый коэффициент не регуляризуем\n",
        "\n",
        "Qe = np.mean([loss(w, x, y) for x, y in zip(x_train, y_train)]) # начальное качество\n",
        "\n",
        "# спуск с L1-регуляризацией\n",
        "for _ in range(N):\n",
        "    k = np.random.randint(0, n_train - batch_size - 1)\n",
        "    Xb = x_train[k:k + batch_size]\n",
        "    Yb = y_train[k:k + batch_size]\n",
        "    ek = np.array([loss(w, x, y) for x, y in zip(Xb, Yb)]).mean(axis=0) # вычисление потерь для батча\n",
        "    grad = np.array([df(w, x, y) for x, y in zip(Xb, Yb)]).mean(axis=0) # вычисление градиента потерь для батча\n",
        "    Qe = lm * ek + (1 - lm) * Qe       # пересчет показателя качества\n",
        "    w -= nt * (grad + lm_l1_vector * np.sign(w)) # обновить параметры модели\n",
        "\n",
        "print('w =', w.round(4))\n",
        "print('Q = ', Q)"
      ],
      "metadata": {
        "colab": {
          "base_uri": "https://localhost:8080/"
        },
        "id": "Sn9wX0XhfEk5",
        "outputId": "74dd883f-3b20-4ee2-ab08-5661412b710b"
      },
      "execution_count": null,
      "outputs": [
        {
          "output_type": "stream",
          "name": "stdout",
          "text": [
            "w = [-3.6701  0.1226  0.6686  0.0504  0.3951]\n",
            "Q =  0.09\n"
          ]
        }
      ]
    }
  ]
}