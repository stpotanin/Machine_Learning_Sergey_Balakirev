{
  "nbformat": 4,
  "nbformat_minor": 0,
  "metadata": {
    "colab": {
      "provenance": []
    },
    "kernelspec": {
      "name": "python3",
      "display_name": "Python 3"
    },
    "language_info": {
      "name": "python"
    }
  },
  "cells": [
    {
      "cell_type": "markdown",
      "source": [
        "https://stepik.org/lesson/1370098/step/4"
      ],
      "metadata": {
        "id": "dYo_aV6pnIYl"
      }
    },
    {
      "cell_type": "code",
      "execution_count": null,
      "metadata": {
        "colab": {
          "base_uri": "https://localhost:8080/"
        },
        "id": "800JBPQrnBZB",
        "outputId": "26280bb2-0ccd-4ae1-dd75-55e8a0760e71"
      },
      "outputs": [
        {
          "output_type": "execute_result",
          "data": {
            "text/plain": [
              "0.7714285714285715"
            ]
          },
          "metadata": {},
          "execution_count": 30
        }
      ],
      "source": [
        "p_apr1 = 0.6 # вероятность состояния 1\n",
        "p_apr2 = 0.4 # вероятность состояния 2\n",
        "p1 = 0.9\n",
        "p2 = 0.8\n",
        "\n",
        "p12 = p1 * (1 - p2) # первая права, вторая ошиблась\n",
        "p21 = (1 - p1) * p2 # вторая права, первая ошиблась\n",
        "\n",
        "# вероятность состояния 1 при условии варианта p12\n",
        "p_apr1 * p12 / (p_apr1 * p12 + p_apr2 * p21)"
      ]
    }
  ]
}