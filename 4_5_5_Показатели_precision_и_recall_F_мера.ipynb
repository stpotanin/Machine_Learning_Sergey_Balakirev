{
  "nbformat": 4,
  "nbformat_minor": 0,
  "metadata": {
    "colab": {
      "provenance": [],
      "authorship_tag": "ABX9TyPykS7nT7ALlqc7+C/L19cC"
    },
    "kernelspec": {
      "name": "python3",
      "display_name": "Python 3"
    },
    "language_info": {
      "name": "python"
    }
  },
  "cells": [
    {
      "cell_type": "markdown",
      "source": [
        "https://stepik.org/lesson/1370106/step/5"
      ],
      "metadata": {
        "id": "b8CBtR_riZNY"
      }
    },
    {
      "cell_type": "code",
      "execution_count": null,
      "metadata": {
        "id": "dsx_zTgYcozG"
      },
      "outputs": [],
      "source": [
        "# класс +1: 20 образов с меткой +1 и 5 образов с меткой -1;\n",
        "TP = 20\n",
        "FN = 5\n",
        "# класс -1: 60 образов с меткой -1 и 15 образов с меткой +1.\n",
        "TN = 60\n",
        "FP = 15"
      ]
    }
  ]
}