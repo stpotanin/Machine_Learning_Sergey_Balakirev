{
  "nbformat": 4,
  "nbformat_minor": 0,
  "metadata": {
    "colab": {
      "provenance": [],
      "authorship_tag": "ABX9TyPoo+gNJIz53IhcPzCPnOTn"
    },
    "kernelspec": {
      "name": "python3",
      "display_name": "Python 3"
    },
    "language_info": {
      "name": "python"
    }
  },
  "cells": [
    {
      "cell_type": "markdown",
      "source": [
        "https://stepik.org/lesson/1370112/step/9"
      ],
      "metadata": {
        "id": "_zjvkwVJrZYK"
      }
    },
    {
      "cell_type": "code",
      "execution_count": null,
      "metadata": {
        "colab": {
          "base_uri": "https://localhost:8080/"
        },
        "id": "WhSa5OQarWpj",
        "outputId": "40dbae02-0fa4-424f-f2e0-3168f3847aa1"
      },
      "outputs": [
        {
          "output_type": "stream",
          "name": "stdout",
          "text": [
            "Q = 0.16129032258064516\n",
            "[2. 0. 0. 2. 2. 0. 2. 1. 2. 0. 1. 0. 2. 1. 0. 0. 0. 0. 0. 1. 1. 1. 2. 2.\n",
            " 1. 2. 0. 0. 1. 2. 0. 1. 1. 2. 2. 0. 2. 1. 2. 1. 1. 2. 2. 2. 0. 1. 2. 2.\n",
            " 1. 1. 0. 0. 1. 0. 1. 1. 1. 1. 0. 2. 1. 1. 1. 0. 1. 1. 1. 0. 0. 2. 2. 1.\n",
            " 1. 1. 2. 0. 1. 1. 2. 0. 2. 0. 0. 1. 0. 1. 2. 2. 2. 1. 1. 1. 2.]\n",
            "[2. 0. 0. 2. 2. 0. 0. 1. 2. 0. 0. 0. 2. 1. 1. 0. 0. 0. 1. 1. 1. 1. 2. 2.\n",
            " 1. 2. 0. 1. 1. 2. 0. 1. 1. 2. 2. 0. 2. 1. 2. 0. 1. 2. 2. 2. 0. 0. 2. 2.\n",
            " 1. 1. 0. 0. 1. 1. 1. 1. 1. 1. 0. 0. 1. 1. 0. 0. 1. 1. 1. 0. 1. 0. 2. 1.\n",
            " 0. 1. 2. 0. 1. 1. 2. 0. 2. 0. 0. 1. 0. 1. 0. 2. 2. 1. 1. 0. 2.]\n"
          ]
        }
      ],
      "source": [
        "import numpy as np\n",
        "from sklearn.model_selection import train_test_split\n",
        "\n",
        "\n",
        "np.random.seed(0)\n",
        "n_feature = 5 # количество признаков\n",
        "\n",
        "# исходные параметры для формирования образов обучающей выборки\n",
        "r1 = 0.7\n",
        "D1 = 3.0\n",
        "mean1 = [3, 7, -2, 4, 6]\n",
        "V1 = [[D1 * r1 ** abs(i-j) for j in range(n_feature)] for i in range(n_feature)]\n",
        "\n",
        "r2 = 0.5\n",
        "D2 = 2.0\n",
        "mean2 = [3, 7, -2, 4, 6] + np.array(range(1, n_feature+1)) * 0.5\n",
        "V2 = [[D2 * r2 ** abs(i-j) for j in range(n_feature)] for i in range(n_feature)]\n",
        "\n",
        "r3 = -0.7\n",
        "D3 = 1.0\n",
        "mean3 = [3, 7, -2, 4, 6] + np.array(range(1, n_feature+1)) * -0.5\n",
        "V3 = [[D3 * r3 ** abs(i-j) for j in range(n_feature)] for i in range(n_feature)]\n",
        "\n",
        "# моделирование обучающей выборки\n",
        "N1, N2, N3 = 100, 120, 90\n",
        "x1 = np.random.multivariate_normal(mean1, V1, N1).T\n",
        "x2 = np.random.multivariate_normal(mean2, V2, N2).T\n",
        "x3 = np.random.multivariate_normal(mean3, V3, N3).T\n",
        "\n",
        "data_x = np.hstack([x1, x2, x3]).T\n",
        "data_y = np.hstack([np.zeros(N1), np.ones(N2), np.ones(N3) * 2])\n",
        "\n",
        "x_train, x_test, y_train, y_test = train_test_split(data_x, data_y, random_state=123,test_size=0.3, shuffle=True)\n",
        "# print(x_train.shape, x_test.shape)\n",
        "\n",
        "# Решение\n",
        "\n",
        "# Функции\n",
        "euclid = lambda point, neighbor: sum((p - n)**2 for p, n  in zip(point, neighbor))\n",
        "dist = lambda x_test, x_train: np.array([[euclid(point, neighbor) for neighbor in x_train] for point in x_test])\n",
        "choise = lambda lst: sorted(lst, key=lambda x: (lst.count(x), lst.index(x)))[-1]\n",
        "\n",
        "k = 5 # число соседей для принятия решения\n",
        "\n",
        "d_all = dist(x_test, x_train) # от всех тестов до всех трейнов\n",
        "\n",
        "# Получаем индексы k ближайших соседей для каждой тестовой точки\n",
        "k_indx = np.argsort(d_all, axis=1)[:, :k]  # индексы k ближайших соседей\n",
        "\n",
        "''' Метки классов k ближайших соседей для каждой точки теста теперь в y_train[k_indx] '''\n",
        "\n",
        "# Предсказываем классы для тестовых точек\n",
        "predict = np.array([choise(list(y)) for y in y_train[k_indx]])\n",
        "\n",
        "Q = np.mean(predict != y_test)\n",
        "print('Q =', Q)\n",
        "\n",
        "print(predict)\n",
        "print(y_test)\n"
      ]
    }
  ]
}