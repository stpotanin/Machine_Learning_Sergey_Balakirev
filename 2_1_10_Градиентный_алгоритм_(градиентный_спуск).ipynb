{
  "nbformat": 4,
  "nbformat_minor": 0,
  "metadata": {
    "colab": {
      "provenance": [],
      "authorship_tag": "ABX9TyNQMt1n4OSTJVPF8Ydcs/Ss"
    },
    "kernelspec": {
      "name": "python3",
      "display_name": "Python 3"
    },
    "language_info": {
      "name": "python"
    }
  },
  "cells": [
    {
      "cell_type": "markdown",
      "source": [
        "https://stepik.org/lesson/1370090/step/10"
      ],
      "metadata": {
        "id": "b2Es7YLJC1Qc"
      }
    },
    {
      "cell_type": "code",
      "source": [
        "from sympy import Matrix, symbols, solve\n",
        "\n",
        "w0, w1, w2 = symbols('w0 w1 w2')\n",
        "\n",
        "# Matrix сразу делает столбец, поэтому транспонировать не надо\n",
        "w = Matrix([w0, w1, w2])\n",
        "display(w)\n",
        "\n",
        "x1, x2 = 11, 22\n",
        "x = Matrix([1, x1, x2])\n",
        "display(x)\n",
        "\n",
        "display(solve(w0 * w1 * x1 + w2 + x2))\n",
        "display(solve(-w0 * w1 * x1 + w2 + x2))\n",
        "display(solve(x.T @ w))\n",
        "display(solve(w.T @ x))\n",
        "display(solve(w.dot(x)))"
      ],
      "metadata": {
        "colab": {
          "base_uri": "https://localhost:8080/",
          "height": 226
        },
        "id": "IQ1F4vV8D9QC",
        "outputId": "b7198d9b-f8f2-4f20-d1ba-79deb98cf954"
      },
      "execution_count": null,
      "outputs": [
        {
          "output_type": "display_data",
          "data": {
            "text/plain": [
              "Matrix([\n",
              "[w0],\n",
              "[w1],\n",
              "[w2]])"
            ],
            "text/latex": "$\\displaystyle \\left[\\begin{matrix}w_{0}\\\\w_{1}\\\\w_{2}\\end{matrix}\\right]$"
          },
          "metadata": {}
        },
        {
          "output_type": "display_data",
          "data": {
            "text/plain": [
              "Matrix([\n",
              "[ 1],\n",
              "[11],\n",
              "[22]])"
            ],
            "text/latex": "$\\displaystyle \\left[\\begin{matrix}1\\\\11\\\\22\\end{matrix}\\right]$"
          },
          "metadata": {}
        },
        {
          "output_type": "display_data",
          "data": {
            "text/plain": [
              "[{w0: (-w2 - 22)/(11*w1)}]"
            ]
          },
          "metadata": {}
        },
        {
          "output_type": "display_data",
          "data": {
            "text/plain": [
              "[{w0: (w2 + 22)/(11*w1)}]"
            ]
          },
          "metadata": {}
        },
        {
          "output_type": "display_data",
          "data": {
            "text/plain": [
              "{w0: -11*w1 - 22*w2}"
            ]
          },
          "metadata": {}
        },
        {
          "output_type": "display_data",
          "data": {
            "text/plain": [
              "{w0: -11*w1 - 22*w2}"
            ]
          },
          "metadata": {}
        },
        {
          "output_type": "display_data",
          "data": {
            "text/plain": [
              "[{w0: -11*w1 - 22*w2}]"
            ]
          },
          "metadata": {}
        }
      ]
    }
  ]
}