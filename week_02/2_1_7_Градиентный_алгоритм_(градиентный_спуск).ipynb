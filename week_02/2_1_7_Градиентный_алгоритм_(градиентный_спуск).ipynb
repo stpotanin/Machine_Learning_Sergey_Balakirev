{
  "nbformat": 4,
  "nbformat_minor": 0,
  "metadata": {
    "colab": {
      "provenance": [],
      "authorship_tag": "ABX9TyOoV7s1Kzd3Gfpkg9W4+plU"
    },
    "kernelspec": {
      "name": "python3",
      "display_name": "Python 3"
    },
    "language_info": {
      "name": "python"
    }
  },
  "cells": [
    {
      "cell_type": "markdown",
      "source": [
        "https://stepik.org/lesson/1370090/step/7"
      ],
      "metadata": {
        "id": "b2Es7YLJC1Qc"
      }
    },
    {
      "cell_type": "code",
      "execution_count": null,
      "metadata": {
        "colab": {
          "base_uri": "https://localhost:8080/"
        },
        "id": "ci_8-Y27Ct5N",
        "outputId": "e1934ad3-2a42-4c76-9faa-5b312710ae61"
      },
      "outputs": [
        {
          "output_type": "execute_result",
          "data": {
            "text/plain": [
              "-1.0758987284245605"
            ]
          },
          "metadata": {},
          "execution_count": 5
        }
      ],
      "source": [
        "# f = lambda x: .5 * x + .2 * x**2 -.1 * x**3\n",
        "df = lambda x: -.3 * x**2 + .4 * x + .5\n",
        "\n",
        "nu = 0.01\n",
        "x = -4\n",
        "N = 200\n",
        "\n",
        "for _ in range(N):\n",
        "    x -= nu * df(x)\n",
        "x"
      ]
    }
  ]
}
