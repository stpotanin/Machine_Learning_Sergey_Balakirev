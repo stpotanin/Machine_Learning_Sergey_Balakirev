{
  "nbformat": 4,
  "nbformat_minor": 0,
  "metadata": {
    "colab": {
      "provenance": [],
      "authorship_tag": "ABX9TyODi0VRxT6Fu56D9Vq276ZR"
    },
    "kernelspec": {
      "name": "python3",
      "display_name": "Python 3"
    },
    "language_info": {
      "name": "python"
    }
  },
  "cells": [
    {
      "cell_type": "markdown",
      "source": [
        "https://stepik.org/lesson/1370096/step/7"
      ],
      "metadata": {
        "id": "Gq4mbOuQZrkW"
      }
    },
    {
      "cell_type": "code",
      "execution_count": null,
      "metadata": {
        "colab": {
          "base_uri": "https://localhost:8080/"
        },
        "id": "KPENN1m2Zn6y",
        "outputId": "f3e659ed-fedf-4a6c-e0bf-f7840eddd293"
      },
      "outputs": [
        {
          "output_type": "execute_result",
          "data": {
            "text/plain": [
              "[0.2, 0.0010526315789473684, 0.002857142857142857, 0.2, 0.0006666666666666666]"
            ]
          },
          "metadata": {},
          "execution_count": 9
        }
      ],
      "source": [
        "# import numpy as np\n",
        "\n",
        "x = [1, 190, 70, 1, 300]\n",
        "\n",
        "inverse = lambda xv: [1 / (x * len(xv)) for x in xv]\n",
        "\n",
        "w = inverse(x)\n"
      ]
    }
  ]
}
