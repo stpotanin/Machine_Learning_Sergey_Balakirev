{
  "nbformat": 4,
  "nbformat_minor": 0,
  "metadata": {
    "colab": {
      "provenance": []
    },
    "kernelspec": {
      "name": "python3",
      "display_name": "Python 3"
    },
    "language_info": {
      "name": "python"
    }
  },
  "cells": [
    {
      "cell_type": "markdown",
      "source": [
        "https://stepik.org/lesson/1370098/step/3"
      ],
      "metadata": {
        "id": "dYo_aV6pnIYl"
      }
    },
    {
      "cell_type": "markdown",
      "source": [
        "Поскольку в задаче первое событие (попадание в группу 2) выбирается из равновероятных вариантов, его вероятность будет $ \\frac {1}{n}$ и в формуле Байеса её можно сократить, венеся в знаменателе за скобку. Формула для такого случая принимает упрощённый вид:\n",
        "\n",
        "$$\n",
        "P(A_2|B) = \\frac{P(B|A_2)}{P(B|A_1) + P(B|A_2) + P(B|A_3)}\n",
        "$$"
      ],
      "metadata": {
        "id": "4ZZdIjX03EAL"
      }
    },
    {
      "cell_type": "code",
      "execution_count": null,
      "metadata": {
        "colab": {
          "base_uri": "https://localhost:8080/"
        },
        "id": "800JBPQrnBZB",
        "outputId": "cc86e53a-65e1-4b52-c238-c8bd47eab8d7"
      },
      "outputs": [
        {
          "output_type": "execute_result",
          "data": {
            "text/plain": [
              "0.46153846153846156"
            ]
          },
          "metadata": {},
          "execution_count": 1
        }
      ],
      "source": [
        "p1 = 1/3\n",
        "p2 = 1/2\n",
        "p3 = 1/4\n",
        "\n",
        "p2 / (p1 + p2 + p3)"
      ]
    }
  ]
}